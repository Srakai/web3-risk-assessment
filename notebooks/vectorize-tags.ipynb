{
 "cells": [
  {
   "cell_type": "code",
   "execution_count": 36,
   "id": "b0730ded",
   "metadata": {},
   "outputs": [
    {
     "name": "stderr",
     "output_type": "stream",
     "text": [
      "huggingface/tokenizers: The current process just got forked, after parallelism has already been used. Disabling parallelism to avoid deadlocks...\n",
      "To disable this warning, you can either:\n",
      "\t- Avoid using `tokenizers` before the fork if possible\n",
      "\t- Explicitly set the environment variable TOKENIZERS_PARALLELISM=(true | false)\n"
     ]
    },
    {
     "name": "stdout",
     "output_type": "stream",
     "text": [
      "\n",
      "\u001b[1m[\u001b[0m\u001b[34;49mnotice\u001b[0m\u001b[1;39;49m]\u001b[0m\u001b[39;49m A new release of pip is available: \u001b[0m\u001b[31;49m25.1.1\u001b[0m\u001b[39;49m -> \u001b[0m\u001b[32;49m25.2\u001b[0m\n",
      "\u001b[1m[\u001b[0m\u001b[34;49mnotice\u001b[0m\u001b[1;39;49m]\u001b[0m\u001b[39;49m To update, run: \u001b[0m\u001b[32;49mpip install --upgrade pip\u001b[0m\n"
     ]
    }
   ],
   "source": [
    "!pip install -q sentence-transformers scikit-learn umap-learn plotly nbformat"
   ]
  },
  {
   "cell_type": "code",
   "execution_count": 37,
   "id": "40e60cab",
   "metadata": {},
   "outputs": [],
   "source": [
    "import os\n",
    "from typing import List, Dict, Any, Optional\n",
    "\n",
    "import numpy as np\n",
    "import pandas as pd\n",
    "from sklearn.decomposition import PCA\n",
    "import umap\n",
    "import matplotlib.pyplot as plt\n",
    "import json\n",
    "from sentence_transformers import SentenceTransformer\n",
    "import tqdm\n",
    "import plotly.express as px"
   ]
  },
  {
   "cell_type": "code",
   "execution_count": null,
   "id": "a374b205",
   "metadata": {},
   "outputs": [
    {
     "data": {
      "application/vnd.jupyter.widget-view+json": {
       "model_id": "c8c6506d59db476bbaad36c56eb97921",
       "version_major": 2,
       "version_minor": 0
      },
      "text/plain": [
       "Batches:   0%|          | 0/9 [00:00<?, ?it/s]"
      ]
     },
     "metadata": {},
     "output_type": "display_data"
    },
    {
     "name": "stderr",
     "output_type": "stream",
     "text": [
      "/Users/filip/code/arb/.venv/lib/python3.13/site-packages/umap/umap_.py:1952: UserWarning:\n",
      "\n",
      "n_jobs value 1 overridden to 1 by setting random_state. Use no seed for parallelism.\n",
      "\n"
     ]
    }
   ],
   "source": [
    "with open(\"../data/incidents-dataset-20250906-classified-new.json\") as f:\n",
    "    data = json.load(f)\n",
    "\n",
    "# Join tags into a single string for each record\n",
    "for record in data:\n",
    "    record[\"tags_str\"] = \" \".join(record.get(\"tags\", []))\n",
    "\n",
    "# Embed all tag strings\n",
    "model = SentenceTransformer(\"sentence-transformers/all-MiniLM-L6-v2\")\n",
    "tag_strings = [record[\"tags_str\"] for record in data]\n",
    "embeddings = model.encode(\n",
    "    tag_strings, normalize_embeddings=True, show_progress_bar=True\n",
    ")\n",
    "\n",
    "# Perform PCA\n",
    "pca = PCA(n_components=2, random_state=42)\n",
    "X_pca = pca.fit_transform(embeddings)\n",
    "\n",
    "# Perform UMAP\n",
    "um = umap.UMAP(\n",
    "    n_components=2, n_neighbors=15, min_dist=0.1, metric=\"cosine\", random_state=42\n",
    ")\n",
    "X_umap = um.fit_transform(embeddings)\n",
    "\n",
    "# Add reduced dimensions back to records\n",
    "for i, record in enumerate(data):\n",
    "    record[\"pca\"] = X_pca[i].tolist()  # Convert numpy array to list for compatibility\n",
    "    record[\"umap\"] = X_umap[i].tolist()  # Convert numpy array to list for compatibility\n",
    "\n",
    "# Save processed data\n",
    "np.savez_compressed(\"../data/dataset-embed.npz\", data=data)"
   ]
  },
  {
   "cell_type": "code",
   "execution_count": null,
   "id": "e0db74e5",
   "metadata": {},
   "outputs": [],
   "source": [
    "# Load serialized dataset\n",
    "try:\n",
    "    npz_file = np.load(\"../data/dataset-embed.npz\", allow_pickle=True)\n",
    "    records = npz_file[\"data\"]\n",
    "except FileNotFoundError:\n",
    "    raise SystemExit(\n",
    "        \"Error: `../data/dataset-embed.npz` not found. Please run the previous cell to generate it.\"\n",
    "    )\n",
    "\n",
    "for r in records:\n",
    "    if r.keys() != records[0].keys():\n",
    "        # print(f\"Diff: {r.keys() ^ records[0].keys()}\")\n",
    "        for key in r.keys() ^ records[0].keys():\n",
    "            r[key] = None  # Fill missing keys with None\n",
    "\n",
    "for r in records:\n",
    "    if r.keys() != records[0].keys():\n",
    "        print(f\"Diff: {r.keys() ^ records[0].keys()}\")"
   ]
  },
  {
   "cell_type": "code",
   "execution_count": null,
   "id": "faa5f08a",
   "metadata": {},
   "outputs": [],
   "source": [
    "# with open(\"../data/incidents-dataset-20250907.json\", \"r\", encoding=\"utf-8\") as f:\n",
    "#    with_value = json.load(f)\n",
    "#\n",
    "## sort by url\n",
    "# with_value = sorted(with_value, key=lambda x: x[\"url\"])\n",
    "## enrich current data and match by url\n",
    "# for r, w in zip(records, with_value):\n",
    "#    r[\"total_value_extracted_usd\"] = int(\n",
    "#        w.get(\"value\", 1).replace(\"$\", \"\").replace(\",\", \"\").strip()\n",
    "#    )"
   ]
  },
  {
   "cell_type": "code",
   "execution_count": 68,
   "id": "7fd84ad4",
   "metadata": {},
   "outputs": [
    {
     "data": {
      "text/html": [
       "<div>\n",
       "<style scoped>\n",
       "    .dataframe tbody tr th:only-of-type {\n",
       "        vertical-align: middle;\n",
       "    }\n",
       "\n",
       "    .dataframe tbody tr th {\n",
       "        vertical-align: top;\n",
       "    }\n",
       "\n",
       "    .dataframe thead th {\n",
       "        text-align: right;\n",
       "    }\n",
       "</style>\n",
       "<table border=\"1\" class=\"dataframe\">\n",
       "  <thead>\n",
       "    <tr style=\"text-align: right;\">\n",
       "      <th></th>\n",
       "      <th>proto</th>\n",
       "      <th>type</th>\n",
       "      <th>exploit_type</th>\n",
       "      <th>total_value_extracted</th>\n",
       "      <th>hack_date</th>\n",
       "      <th>hacked_app_name</th>\n",
       "      <th>hacked_app_website</th>\n",
       "      <th>vuln_contract</th>\n",
       "      <th>attacker_addr</th>\n",
       "      <th>attack_complexity</th>\n",
       "      <th>actor_name</th>\n",
       "      <th>actor_type</th>\n",
       "      <th>tags</th>\n",
       "      <th>tags_str</th>\n",
       "      <th>pca</th>\n",
       "      <th>umap</th>\n",
       "      <th>value</th>\n",
       "      <th>total_value_extracted_usd</th>\n",
       "    </tr>\n",
       "  </thead>\n",
       "  <tbody>\n",
       "    <tr>\n",
       "      <th>0</th>\n",
       "      <td>bnb</td>\n",
       "      <td>exploit</td>\n",
       "      <td>Improper access control</td>\n",
       "      <td>$4.5M</td>\n",
       "      <td>2021-06-15</td>\n",
       "      <td>Eleven Finance</td>\n",
       "      <td>None</td>\n",
       "      <td>0xdb2d590aCe7cAe51DF1fB3312738038Ec032Bf33</td>\n",
       "      <td>0xdb2d590aCe7cAe51DF1fB3312738038Ec032Bf33</td>\n",
       "      <td>medium</td>\n",
       "      <td>0xdeadf4ce</td>\n",
       "      <td>individual</td>\n",
       "      <td>[emergency-burn-exploit, flashloan-attack, yie...</td>\n",
       "      <td>emergency-burn-exploit flashloan-attack yield-...</td>\n",
       "      <td>[0.05837976559996605, 0.045059651136398315]</td>\n",
       "      <td>[-5.735557556152344, 11.38453197479248]</td>\n",
       "      <td>4500000.0</td>\n",
       "      <td>4500000.0</td>\n",
       "    </tr>\n",
       "    <tr>\n",
       "      <th>1</th>\n",
       "      <td>eth</td>\n",
       "      <td>exploit</td>\n",
       "      <td>Integer Underflow</td>\n",
       "      <td>$5M</td>\n",
       "      <td>2025-03-05</td>\n",
       "      <td>1inch Fusion v1 resolver</td>\n",
       "      <td>null</td>\n",
       "      <td>0xa88800cd213da5ae406ce248380802bd53b47647</td>\n",
       "      <td>0xa7264a43a57ca17012148c46adbc15a5f951766e</td>\n",
       "      <td>medium</td>\n",
       "      <td>null</td>\n",
       "      <td>individual</td>\n",
       "      <td>[integer-underflow-exploit, deprecated-code-vu...</td>\n",
       "      <td>integer-underflow-exploit deprecated-code-vuln...</td>\n",
       "      <td>[0.08835408091545105, 0.06857344508171082]</td>\n",
       "      <td>[-5.366986274719238, 8.947030067443848]</td>\n",
       "      <td>5000000.0</td>\n",
       "      <td>5000000.0</td>\n",
       "    </tr>\n",
       "    <tr>\n",
       "      <th>2</th>\n",
       "      <td>other</td>\n",
       "      <td>exploit</td>\n",
       "      <td>Compromised Keys</td>\n",
       "      <td>$1.75 million</td>\n",
       "      <td>2022-03-24</td>\n",
       "      <td>8ight Finance</td>\n",
       "      <td>None</td>\n",
       "      <td>None</td>\n",
       "      <td>None</td>\n",
       "      <td>low</td>\n",
       "      <td>None</td>\n",
       "      <td>None</td>\n",
       "      <td>[private-key-compromise, opsec-failure, multi-...</td>\n",
       "      <td>private-key-compromise opsec-failure multi-sig...</td>\n",
       "      <td>[-0.16246673464775085, 0.02321554161608219]</td>\n",
       "      <td>[-3.423513889312744, 8.11892032623291]</td>\n",
       "      <td>1750000.0</td>\n",
       "      <td>1750000.0</td>\n",
       "    </tr>\n",
       "    <tr>\n",
       "      <th>3</th>\n",
       "      <td>other</td>\n",
       "      <td>exploit</td>\n",
       "      <td>Access Control Vulnerability</td>\n",
       "      <td>$1.18 million</td>\n",
       "      <td>2025-05-09</td>\n",
       "      <td>LNDFi</td>\n",
       "      <td>None</td>\n",
       "      <td>0xAA8cc9afE14f3A2B200CA25382e7C87CD883a527</td>\n",
       "      <td>0x5149A7696188F083297281D10293a20476252CDD</td>\n",
       "      <td>medium</td>\n",
       "      <td>None</td>\n",
       "      <td>None</td>\n",
       "      <td>[admin-key-compromise, backdoor-insertion, acc...</td>\n",
       "      <td>admin-key-compromise backdoor-insertion access...</td>\n",
       "      <td>[-0.04258838668465614, 0.24526435136795044]</td>\n",
       "      <td>[-3.2714037895202637, 8.68581771850586]</td>\n",
       "      <td>1180000.0</td>\n",
       "      <td>1180000.0</td>\n",
       "    </tr>\n",
       "    <tr>\n",
       "      <th>4</th>\n",
       "      <td>bnb</td>\n",
       "      <td>rugpull</td>\n",
       "      <td>liquidity drain</td>\n",
       "      <td>$2.79M</td>\n",
       "      <td>2022-10-18</td>\n",
       "      <td>Lucky Star Currency, FSL</td>\n",
       "      <td>None</td>\n",
       "      <td>0x8923881e8cae6684c2bb84d69ae88a9bbbec8d5a</td>\n",
       "      <td>0x7249b903da533358c897784438b87bc94b402352</td>\n",
       "      <td>low</td>\n",
       "      <td>None</td>\n",
       "      <td>None</td>\n",
       "      <td>[bsc-shitcoin-rug, pre-minted-token-dump, liqu...</td>\n",
       "      <td>bsc-shitcoin-rug pre-minted-token-dump liquidi...</td>\n",
       "      <td>[-0.17446422576904297, -0.19227005541324615]</td>\n",
       "      <td>[-4.848267555236816, 8.78579330444336]</td>\n",
       "      <td>2790000.0</td>\n",
       "      <td>2790000.0</td>\n",
       "    </tr>\n",
       "  </tbody>\n",
       "</table>\n",
       "</div>"
      ],
      "text/plain": [
       "   proto     type                  exploit_type total_value_extracted  \\\n",
       "0    bnb  exploit       Improper access control                 $4.5M   \n",
       "1    eth  exploit             Integer Underflow                   $5M   \n",
       "2  other  exploit              Compromised Keys         $1.75 million   \n",
       "3  other  exploit  Access Control Vulnerability         $1.18 million   \n",
       "4    bnb  rugpull               liquidity drain                $2.79M   \n",
       "\n",
       "    hack_date           hacked_app_name hacked_app_website  \\\n",
       "0  2021-06-15            Eleven Finance               None   \n",
       "1  2025-03-05  1inch Fusion v1 resolver               null   \n",
       "2  2022-03-24             8ight Finance               None   \n",
       "3  2025-05-09                     LNDFi               None   \n",
       "4  2022-10-18  Lucky Star Currency, FSL               None   \n",
       "\n",
       "                                vuln_contract  \\\n",
       "0  0xdb2d590aCe7cAe51DF1fB3312738038Ec032Bf33   \n",
       "1  0xa88800cd213da5ae406ce248380802bd53b47647   \n",
       "2                                        None   \n",
       "3  0xAA8cc9afE14f3A2B200CA25382e7C87CD883a527   \n",
       "4  0x8923881e8cae6684c2bb84d69ae88a9bbbec8d5a   \n",
       "\n",
       "                                attacker_addr attack_complexity  actor_name  \\\n",
       "0  0xdb2d590aCe7cAe51DF1fB3312738038Ec032Bf33            medium  0xdeadf4ce   \n",
       "1  0xa7264a43a57ca17012148c46adbc15a5f951766e            medium        null   \n",
       "2                                        None               low        None   \n",
       "3  0x5149A7696188F083297281D10293a20476252CDD            medium        None   \n",
       "4  0x7249b903da533358c897784438b87bc94b402352               low        None   \n",
       "\n",
       "   actor_type                                               tags  \\\n",
       "0  individual  [emergency-burn-exploit, flashloan-attack, yie...   \n",
       "1  individual  [integer-underflow-exploit, deprecated-code-vu...   \n",
       "2        None  [private-key-compromise, opsec-failure, multi-...   \n",
       "3        None  [admin-key-compromise, backdoor-insertion, acc...   \n",
       "4        None  [bsc-shitcoin-rug, pre-minted-token-dump, liqu...   \n",
       "\n",
       "                                            tags_str  \\\n",
       "0  emergency-burn-exploit flashloan-attack yield-...   \n",
       "1  integer-underflow-exploit deprecated-code-vuln...   \n",
       "2  private-key-compromise opsec-failure multi-sig...   \n",
       "3  admin-key-compromise backdoor-insertion access...   \n",
       "4  bsc-shitcoin-rug pre-minted-token-dump liquidi...   \n",
       "\n",
       "                                            pca  \\\n",
       "0   [0.05837976559996605, 0.045059651136398315]   \n",
       "1    [0.08835408091545105, 0.06857344508171082]   \n",
       "2   [-0.16246673464775085, 0.02321554161608219]   \n",
       "3   [-0.04258838668465614, 0.24526435136795044]   \n",
       "4  [-0.17446422576904297, -0.19227005541324615]   \n",
       "\n",
       "                                      umap      value  \\\n",
       "0  [-5.735557556152344, 11.38453197479248]  4500000.0   \n",
       "1  [-5.366986274719238, 8.947030067443848]  5000000.0   \n",
       "2   [-3.423513889312744, 8.11892032623291]  1750000.0   \n",
       "3  [-3.2714037895202637, 8.68581771850586]  1180000.0   \n",
       "4   [-4.848267555236816, 8.78579330444336]  2790000.0   \n",
       "\n",
       "   total_value_extracted_usd  \n",
       "0                  4500000.0  \n",
       "1                  5000000.0  \n",
       "2                  1750000.0  \n",
       "3                  1180000.0  \n",
       "4                  2790000.0  "
      ]
     },
     "execution_count": 68,
     "metadata": {},
     "output_type": "execute_result"
    }
   ],
   "source": [
    "df_plot = pd.DataFrame.from_records(records)\n",
    "df_plot.head()"
   ]
  },
  {
   "cell_type": "code",
   "execution_count": null,
   "id": "c8d4debe",
   "metadata": {},
   "outputs": [
    {
     "data": {
      "application/vnd.plotly.v1+json": {
       "config": {
        "plotlyServerURL": "https://plot.ly"
       },
       "data": [
        {
         "customdata": [
          [
           "Eleven Finance",
           "Improper access control",
           "2021-06-15",
           "emergency-burn-exploit flashloan-attack yield-aggregator-exploit bsc-exploit nrv-vault-exploit dumb-logic-issue intermediate-vault-vulnerability binance-smart-chain-hack"
          ]
         ],
         "hovertemplate": "exploit_type=%{customdata[1]}<br>x=%{x}<br>y=%{y}<br>total_value_extracted_usd=%{marker.size}<br>app=%{customdata[0]}<br>hack_date=%{customdata[2]}<br>tags_str=%{customdata[3]}<extra></extra>",
         "legendgroup": "Improper access control",
         "marker": {
          "color": "#636efa",
          "line": {
           "color": "white",
           "width": 0.5
          },
          "opacity": 0.85,
          "size": {
           "bdata": "AAAAAIgqUUE=",
           "dtype": "f8"
          },
          "sizemin": 3,
          "sizemode": "area",
          "sizeref": 3590432.5675,
          "symbol": "circle"
         },
         "mode": "markers",
         "name": "Improper access control",
         "orientation": "v",
         "showlegend": true,
         "type": "scatter",
         "x": {
          "bdata": "AAAAADbxFsA=",
          "dtype": "f8"
         },
         "xaxis": "x",
         "y": {
          "bdata": "AAAAYOHEJkA=",
          "dtype": "f8"
         },
         "yaxis": "y"
        },
        {
         "customdata": [
          [
           "1inch Fusion v1 resolver",
           "Integer Underflow",
           "2025-03-05",
           "integer-underflow-exploit deprecated-code-vulnerability calldata-corruption memory-pointer-hijack audit-oversight-failure negative-interaction-length bounty-negotiation partial-fund-return legacy-code-exploit resolver-contract-hack"
          ]
         ],
         "hovertemplate": "exploit_type=%{customdata[1]}<br>x=%{x}<br>y=%{y}<br>total_value_extracted_usd=%{marker.size}<br>app=%{customdata[0]}<br>hack_date=%{customdata[2]}<br>tags_str=%{customdata[3]}<extra></extra>",
         "legendgroup": "Integer Underflow",
         "marker": {
          "color": "#EF553B",
          "line": {
           "color": "white",
           "width": 0.5
          },
          "opacity": 0.85,
          "size": {
           "bdata": "AAAAANASU0E=",
           "dtype": "f8"
          },
          "sizemin": 3,
          "sizemode": "area",
          "sizeref": 3590432.5675,
          "symbol": "circle"
         },
         "mode": "markers",
         "name": "Integer Underflow",
         "orientation": "v",
         "showlegend": true,
         "type": "scatter",
         "x": {
          "bdata": "AAAAQMt3FcA=",
          "dtype": "f8"
         },
         "xaxis": "x",
         "y": {
          "bdata": "AAAAIOHkIUA=",
          "dtype": "f8"
         },
         "yaxis": "y"
        },
        {
         "customdata": [
          [
           "8ight Finance",
           "Compromised Keys",
           "2022-03-24",
           "private-key-compromise opsec-failure multi-sig-lie developer-rugpull-suspect olympus-fork harmony-chain social-media-vulnerability funds-to-tornado"
          ],
          [
           "AscendEX",
           "Compromised Keys",
           "2021-12-11",
           "hot-wallet-compromise private-key-theft multi-chain-exploit centralized-exchange-hack asset-depreciation reimbursement-promise suspended-withdrawals"
          ],
          [
           "Dego Finance",
           "Compromised Keys",
           "2023-01-01",
           "compromised-keys multi-chain-exploit lp-token-theft token-minting-exploit price-manipulation private-key-compromise lack-of-multi-sig defi-security-failure"
          ],
          [
           "Deribit",
           "Compromised Keys",
           "2022-11-01",
           "centralized-exchange-hack hot-wallet-compromise bitcoin-ethereum-loss phishing-attack-suspected company-reserves-cover multi-chain-exploit deposit-address-regeneration potential-bounty-settlement"
          ],
          [
           "Poly Network",
           "Compromised Keys",
           "2023-07-02",
           "multisig-compromise cross-chain-exploit forged-proofs low-liquidity-cashout bridge-vulnerability ethcrosschainmanager-exploit repeated-bridging-attack"
          ]
         ],
         "hovertemplate": "exploit_type=%{customdata[1]}<br>x=%{x}<br>y=%{y}<br>total_value_extracted_usd=%{marker.size}<br>app=%{customdata[0]}<br>hack_date=%{customdata[2]}<br>tags_str=%{customdata[3]}<extra></extra>",
         "legendgroup": "Compromised Keys",
         "marker": {
          "color": "#00cc96",
          "line": {
           "color": "white",
           "width": 0.5
          },
          "opacity": 0.85,
          "size": {
           "bdata": "AAAAAPCzOkEAAACAboaSQQAAAADQEmNBAAAAAPCzekEAAAAA4MhQQQ==",
           "dtype": "f8"
          },
          "sizemin": 3,
          "sizemode": "area",
          "sizeref": 3590432.5675,
          "symbol": "circle"
         },
         "mode": "markers",
         "name": "Compromised Keys",
         "orientation": "v",
         "showlegend": true,
         "type": "scatter",
         "x": {
          "bdata": "AAAAQFtjC8AAAACA+UXyvwAAAMBXEQvAAAAAIL939r8AAABgG2L8vw==",
          "dtype": "f8"
         },
         "xaxis": "x",
         "y": {
          "bdata": "AAAAIOM8IEAAAAAgWkwgQAAAAIA5ACJAAAAAIC32HUAAAACgkZMiQA==",
          "dtype": "f8"
         },
         "yaxis": "y"
        },
        {
         "customdata": [
          [
           "LNDFi",
           "Access Control Vulnerability",
           "2025-05-09",
           "admin-key-compromise backdoor-insertion access-control-bypass pre-planned-exploit contract-modification delayed-drain single-point-failure"
          ]
         ],
         "hovertemplate": "exploit_type=%{customdata[1]}<br>x=%{x}<br>y=%{y}<br>total_value_extracted_usd=%{marker.size}<br>app=%{customdata[0]}<br>hack_date=%{customdata[2]}<br>tags_str=%{customdata[3]}<extra></extra>",
         "legendgroup": "Access Control Vulnerability",
         "marker": {
          "color": "#ab63fa",
          "line": {
           "color": "white",
           "width": 0.5
          },
          "opacity": 0.85,
          "size": {
           "bdata": "AAAAAGABMkE=",
           "dtype": "f8"
          },
          "sizemin": 3,
          "sizemode": "area",
          "sizeref": 3590432.5675,
          "symbol": "circle"
         },
         "mode": "markers",
         "name": "Access Control Vulnerability",
         "orientation": "v",
         "showlegend": true,
         "type": "scatter",
         "x": {
          "bdata": "AAAAwNUrCsA=",
          "dtype": "f8"
         },
         "xaxis": "x",
         "y": {
          "bdata": "AAAAgCNfIUA=",
          "dtype": "f8"
         },
         "yaxis": "y"
        },
        {
         "customdata": [
          [
           "Lucky Star Currency, FSL",
           "liquidity drain",
           "2022-10-18",
           "bsc-shitcoin-rug pre-minted-token-dump liquidity-drain developer-wallet-drain unverified-contract privileged-function-abuse tornado-cash-deposit chinese-astrology-nft"
          ]
         ],
         "hovertemplate": "exploit_type=%{customdata[1]}<br>x=%{x}<br>y=%{y}<br>total_value_extracted_usd=%{marker.size}<br>app=%{customdata[0]}<br>hack_date=%{customdata[2]}<br>tags_str=%{customdata[3]}<extra></extra>",
         "legendgroup": "liquidity drain",
         "marker": {
          "color": "#FFA15A",
          "line": {
           "color": "white",
           "width": 0.5
          },
          "opacity": 0.85,
          "size": {
           "bdata": "AAAAADhJRUE=",
           "dtype": "f8"
          },
          "sizemin": 3,
          "sizemode": "area",
          "sizeref": 3590432.5675,
          "symbol": "circle"
         },
         "mode": "markers",
         "name": "liquidity drain",
         "orientation": "v",
         "showlegend": true,
         "type": "scatter",
         "x": {
          "bdata": "AAAAQKBkE8A=",
          "dtype": "f8"
         },
         "xaxis": "x",
         "y": {
          "bdata": "AAAAgFOSIUA=",
          "dtype": "f8"
         },
         "yaxis": "y"
        },
        {
         "customdata": [
          [
           "Abracadabra",
           "Rounding Error",
           "2024-01-09",
           "rounding-issue cauldron-v4-exploit mim-depeg flashloan-attack debt-calculation-manipulation erc-4626-vulnerability liquidity-drain yv-crv3crypto-cauldron magicape-cauldron on-chain-negotiations"
          ]
         ],
         "hovertemplate": "exploit_type=%{customdata[1]}<br>x=%{x}<br>y=%{y}<br>total_value_extracted_usd=%{marker.size}<br>app=%{customdata[0]}<br>hack_date=%{customdata[2]}<br>tags_str=%{customdata[3]}<extra></extra>",
         "legendgroup": "Rounding Error",
         "marker": {
          "color": "#19d3f3",
          "line": {
           "color": "white",
           "width": 0.5
          },
          "opacity": 0.85,
          "size": {
           "bdata": "AAAAAKjLWEE=",
           "dtype": "f8"
          },
          "sizemin": 3,
          "sizemode": "area",
          "sizeref": 3590432.5675,
          "symbol": "circle"
         },
         "mode": "markers",
         "name": "Rounding Error",
         "orientation": "v",
         "showlegend": true,
         "type": "scatter",
         "x": {
          "bdata": "AAAAQHk9GsA=",
          "dtype": "f8"
         },
         "xaxis": "x",
         "y": {
          "bdata": "AAAAQCYkKEA=",
          "dtype": "f8"
         },
         "yaxis": "y"
        },
        {
         "customdata": [
          [
           "Abracadabra Money",
           "Logic Error",
           "2024-03-01",
           "liquidation-loophole-exploit phantom-collateral-vulnerability failed-deposit-bug self-liquidation-exploit arbitrum-ethereum-bridge defi-protocol-hack smart-contract-vulnerability post-audit-exploit multi-chain-incident financial-sleight-of-hand"
          ],
          [
           "Alchemix",
           "Logic Error",
           "2021-09-17",
           "undercollateralized-debt protocol-debt eth-lending yield-farming smart-contract-bug community-appeal liquidity-exploit"
          ],
          [
           "AlexLab",
           "Logic Error",
           "2024-06-06",
           "self-listing-exploit vault-drainage fake-token-bypass permission-escalation liquidity-siphon architectural-blindspot double-rekt"
          ],
          [
           "bEarnFi",
           "Logic Error",
           "2021-05-16",
           "logic-error denomination-mistake flashloan-attack bsc-exploit yield-farming-hack bvaultsbank-exploit ibbusd-manipulation multiple-withdrawals alpaca-finance-involvement"
          ],
          [
           "Bedrock",
           "Logic Error",
           "2023-09-25",
           "native-token-mishandling total-supply-manipulation cap-restriction-bypass unaudited-contract-upgrade multi-chain-exploit slow-response-time defi-vulnerability token-minting-exploit"
          ],
          [
           "Compound",
           "Logic Error",
           "2021-10-01",
           "compound-comptroller-bug excess-comp-distribution governance-proposal-error drip-function-abuse uncontrolled-funds-drain reputation-damage-control defi-code-is-law protocol-logic-vulnerability"
          ],
          [
           "Crema Finance",
           "Logic Error",
           "2022-07-02",
           "faulty-owner-validation fake-tick-account flashloan-attack lp-fee-manipulation unpatched-vulnerability cross-chain-bridge bounty-negotiation solana-ethereum"
          ],
          [
           "Euler Finance",
           "Logic Error",
           "2023-03-13",
           "lending-protocol-exploit unbacked-debt-creation donate-to-reserves-vulnerability flash-loan-attack leverage-system-abuse eul-token-plunge cross-protocol-impact auditor-oversight defi-composability-risk"
          ],
          [
           "Level Finance",
           "Logic Error",
           "2023-05-02",
           "referral-system-exploit repeated-reward-claims flash-loan-exploit vulnerable-proxy-contract post-audit-vulnerability on-chain-monitoring-missed lvl-token-dump defi-perps-platform"
          ],
          [
           "Merlin Lab",
           "Logic Error",
           "2021-05-26",
           "pancakebunny-fork malicious-cake-transfer reward-calculation-manipulation profit-performance-fee anyswap-bridge-outflow repeated-exploit-pattern audited-protocol-failure bsc-exploit-series merlin-lab-rekt"
          ],
          [
           "Nomad Bridge",
           "Logic Error",
           "2022-08-01",
           "cross-chain-bridge optimistic-bridge message-validation-bypass zero-address-trusted-root permissionless-exploit copycat-attack crowdhacking-event protocol-upgrade-flaw delayed-incident-response multichain-ecosystem-impact"
          ],
          [
           "Rari Capital",
           "Logic Error",
           "2021-05-08",
           "cross-chain-exploit fake-token-creation payload-injection defi-interoperability-attack flashloan-attack-vector value-defi-connection sushi-swap-manipulation pancake-swap-manipulation ibETH-conversion-exploit multiple-protocol-abuse"
          ],
          [
           "Skyward Finance",
           "Logic Error",
           "2023-09-07",
           "near-protocol-exploit treasury-drain logic-vulnerability redeem-function-loop token-worthless skyward-price-tank lack-input-validation immutable-contract exit-scam-possibility first-near-hack"
          ],
          [
           "StableMagnet",
           "Logic Error",
           "2021-06-25",
           "unverified-source-code library-exploit permission-drain auditor-complicity cross-chain-laundering decentralized-exit previous-rugpulls user-wallet-drain techrate-audit insider-info-failure"
          ],
          [
           "Team Finance",
           "Logic Error",
           "2023-10-27",
           "defi-anti-rug-exploit lp-migration-vulnerability uniswap-v2-v3-flaw audited-code-exploit cross-project-rugpull shared-security-failure"
          ],
          [
           "TempleDAO STAX",
           "Logic Error",
           "2022-10-12",
           "unsecured-parameter-exploit lp-token-theft migrate-stake-vulnerability arbitrary-deposit-attack binance-funded-exploit defi-protocol-hack low-complexity-attack yield-farm-exploit"
          ],
          [
           "The Idols NFT",
           "Logic Error",
           "2024-01-14",
           "self-referential-transaction infinite-rewards-loop steth-drain reward-system-manipulation before-token-transfer-flaw contract-amnesia nft-protocol-exploit logic-vulnerability"
          ],
          [
           "Wintermute",
           "Logic Error",
           "2022-06-05",
           "gnosis-safe-proxy address-hijacking create-opcode-vulnerability optimism-token-loss market-maker-exploit multisig-address-error transaction-replay-attack old-proxy-factory uncontrolled-funds-access governance-risk"
          ],
          [
           "Yearn Finance",
           "Logic Error",
           "2023-04-13",
           "misconfiguration-exploit copy-paste-error yusdt-contract-vulnerability share-price-manipulation deprecated-strategy-loss tornado-cash-funding long-term-vulnerability defi-protocol-incident"
          ]
         ],
         "hovertemplate": "exploit_type=%{customdata[1]}<br>x=%{x}<br>y=%{y}<br>total_value_extracted_usd=%{marker.size}<br>app=%{customdata[0]}<br>hack_date=%{customdata[2]}<br>tags_str=%{customdata[3]}<extra></extra>",
         "legendgroup": "Logic Error",
         "marker": {
          "color": "#FF6692",
          "line": {
           "color": "white",
           "width": 0.5
          },
          "opacity": 0.85,
          "size": {
           "bdata": "AAAAYIOhaEEAAAAAqMtYQQAAAABk3G5BAAAAAIgqcUEAAAAAgIQ+QQAAAIAVhqFBAAAAAODIYEEAAACA9nunQQAAAADgyDBBAAAAAIDAJEEAAAAAV6amQQAAAADQEmNBAAAAAABqSEEAAAAAzL95QQAAAADYIm5BAAAAADCMQUEAAAAAvMYTQQAAAABIUnpBAAAAAGi+ZUE=",
           "dtype": "f8"
          },
          "sizemin": 3,
          "sizemode": "area",
          "sizeref": 3590432.5675,
          "symbol": "circle"
         },
         "mode": "markers",
         "name": "Logic Error",
         "orientation": "v",
         "showlegend": true,
         "type": "scatter",
         "x": {
          "bdata": "AAAAQGSQFcAAAADALHMVwAAAAOAalBXAAAAAgKgGGMAAAADgzqAKwAAAAICtxxHAAAAAIEl+CMAAAABgcJ0WwAAAAKCHuhPAAAAAoK16FsAAAAAggsL8vwAAAIAWwxbAAAAAAM1xE8AAAACgjxQRwAAAAIAI5gzAAAAAADy7E8AAAACgLdcUwAAAAADSshPAAAAAwMOgEMA=",
          "dtype": "f8"
         },
         "xaxis": "x",
         "y": {
          "bdata": "AAAAoB8PJEAAAADgh14oQAAAAMBjqCVAAAAAgC76JkAAAADgFRIkQAAAAGD2wCVAAAAAgLuzJEAAAACghHUnQAAAAMBu4iVAAAAAgBIcJUAAAADgFYIiQAAAAKAHnCRAAAAAQLqYI0AAAABgK58gQAAAAEDGlSZAAAAAAMkkJUAAAABg/HsjQAAAAEBIxSNAAAAAIPieJkA=",
          "dtype": "f8"
         },
         "yaxis": "y"
        },
        {
         "customdata": [
          [
           "Acala Network",
           "Misconfiguration",
           "2022-08-14",
           "liquidity-pool-misconfiguration erroneous-minting-bug defi-hub-exploit polkadot-ecosystem-attack on-chain-activity-tracing stablecoin-depeg-incident governance-decision-impact funds-transfer-disabled"
          ]
         ],
         "hovertemplate": "exploit_type=%{customdata[1]}<br>x=%{x}<br>y=%{y}<br>total_value_extracted_usd=%{marker.size}<br>app=%{customdata[0]}<br>hack_date=%{customdata[2]}<br>tags_str=%{customdata[3]}<extra></extra>",
         "legendgroup": "Misconfiguration",
         "marker": {
          "color": "#B6E880",
          "line": {
           "color": "white",
           "width": 0.5
          },
          "opacity": 0.85,
          "size": {
           "bdata": "AAAAAABqOEE=",
           "dtype": "f8"
          },
          "sizemin": 3,
          "sizemode": "area",
          "sizeref": 3590432.5675,
          "symbol": "circle"
         },
         "mode": "markers",
         "name": "Misconfiguration",
         "orientation": "v",
         "showlegend": true,
         "type": "scatter",
         "x": {
          "bdata": "AAAAAC15F8A=",
          "dtype": "f8"
         },
         "xaxis": "x",
         "y": {
          "bdata": "AAAA4EZDKEA=",
          "dtype": "f8"
         },
         "yaxis": "y"
        },
        {
         "customdata": [
          [
           "Agave DAO, Hundred Finance",
           "Re-entrancy",
           "2022-03-15",
           "re-entrancy-exploit flash-loan-attack gnosis-chain xdai-token-vulnerability aave-fork compound-fork code-reuse-risk defi-hack"
          ],
          [
           "Akropolis",
           "Re-entrancy",
           "2020-11-12",
           "flash-loan-exploit re-entrancy-attack malicious-token-contract deposit-logic-flaw defi-protocol-hack audited-project-rekt smart-contract-vulnerability value-calculation-error ethereum-blockchain-incident user-trust-compromised"
          ],
          [
           "BurgerSwap",
           "Re-entrancy",
           "2021-05-28",
           "flash-swap-exploit reentrancy-vulnerability missing-x-y-k-check bep20-fake-token liquidity-pool-manipulation defi-hack-bnb price-oracle-manipulation copycat-protocol-vulnerability"
          ],
          [
           "Clober Dex",
           "Re-entrancy",
           "2023-11-09",
           "dex-liquidity-vault-hack post-audit-code-change unreviewed-code-deployment burn-function-exploit callback-abuse incomplete-state-updates cross-chain-fund-movement security-audit-failure protocol-security-lapse bounty-offered-attacker"
          ],
          [
           "Cream Finance",
           "Re-entrancy",
           "2021-02-10",
           "amp-token-reentrancy flashloan-attack-vector borrow-function-exploit crETH-collateral-abuse vulnerable-token-integration defi-protocol-hack smart-contract-exploit post-audit-vulnerability"
          ],
          [
           "dForce Network",
           "Re-entrancy",
           "2023-05-25",
           "reentrancy-vulnerability curve-pool-exploit oracle-manipulation flashloan-attack funds-returned arbitrum-optimism defi-hack cross-chain-exploit"
          ],
          [
           "Fei Rari - Fuse pools",
           "Re-entrancy",
           "2022-04-30",
           "flash-loan-exploit re-entrancy-vulnerability compound-fork-exploit exit-market-logic collateral-withdrawal-bug arbitrum-chain-attack multi-pool-drain pre-existing-vulnerability"
          ],
          [
           "GemPad",
           "Re-entrancy",
           "2023-11-06",
           "reentrancy-vulnerability liquidity-lock-exploit cross-chain-attack defi-protocol-hack smart-contract-vulnerability multiple-projects-affected no-code-platform-risk missing-reentrancy-guards"
          ],
          [
           "Grim Finance",
           "Re-entrancy",
           "2021-12-17",
           "fantom-vault-exploit deposit-for-vulnerability reentrancy-attack auto-compounding-lp-vault defi-protocol-hack flashloan-exploit token-transfer-reentrancy multiple-protocol-impact chargin-defi-attack grim-christmas-unwilling-donors"
          ],
          [
           "Orion Protocol",
           "Re-entrancy",
           "2023-03-02",
           "reentrancy-exploit flash-loan-attack defi-hack cross-chain-exploit liquidity-aggregator-vulnerability fake-token-manipulation broker-account-breach third-party-library-risk"
          ],
          [
           "Penpie",
           "Re-entrancy",
           "2023-09-03",
           "re-entrancy-attack fake-market-exploit yield-farming-vulnerability staking-balance-manipulation unwarranted-rewards-claim audit-oversight-failure defi-security-lapse arbitrum-exploit"
          ],
          [
           "Revest Finance",
           "Re-entrancy",
           "2022-03-XX",
           "reentrancy-vulnerability erc1155-minting-contract financial-nft-platform partial-fund-recovery rapid-team-response multiple-token-losses tornado-cash-deposit audit-failure defi-security-breach"
          ],
          [
           "Stars Arena",
           "Re-entrancy",
           "2023-10-07",
           "reentrancy-vulnerability double-exploit-incident unverified-contracts social-fi-protocol-drain gas-cost-exploit proxy-upgrade-failure critical-security-flaw avalanche-ecosystem-hack"
          ],
          [
           "Voltage Finance",
           "Re-entrancy",
           "2022-03-24",
           "reentrancy-vulnerability erc677-standard-exploit ola-finance-partner fuse-network-hack defi-lending-exploit bridged-token-vulnerability checks-effects-interactions compound-fork-exploit"
          ],
          [
           "GMX V1",
           "Re-entrancy",
           "2023-07-09",
           "cross-contract-reentrancy global-short-manipulation glp-pricing-exploit keeper-interaction-hijack arbitrum-exploit vulnerability-patch-failure aum-calculation-flaw audited-code-exploit"
          ]
         ],
         "hovertemplate": "exploit_type=%{customdata[1]}<br>x=%{x}<br>y=%{y}<br>total_value_extracted_usd=%{marker.size}<br>app=%{customdata[0]}<br>hack_date=%{customdata[2]}<br>tags_str=%{customdata[3]}<extra></extra>",
         "legendgroup": "Re-entrancy",
         "marker": {
          "color": "#FF97FF",
          "line": {
           "color": "white",
           "width": 0.5
          },
          "opacity": 0.85,
          "size": {
           "bdata": "AAAAAORQZkEAAAAAgIQ+QQAAAABAd1tBAAAAAICEHkEAAAAA2O1xQQAAAADo2EtBAAAAANASk0EAAAAA4P08QQAAAAA4nHxBAAAAAGDjRkEAAAAAzL95QQAAAACQqz5BAAAAABAgRkEAAAAAgIROQQAAAAAAAPA/",
           "dtype": "f8"
          },
          "sizemin": 3,
          "sizemode": "area",
          "sizeref": 3590432.5675,
          "symbol": "circle"
         },
         "mode": "markers",
         "name": "Re-entrancy",
         "orientation": "v",
         "showlegend": true,
         "type": "scatter",
         "x": {
          "bdata": "AAAAgB5DEsAAAADA9tYTwAAAACDB8hPAAAAAYFUlFcAAAAAAW9QUwAAAAKA+vBjAAAAAgNH6FcAAAAAAMLEQwAAAAKD5HRbAAAAAANPmEsAAAAAA68wTwAAAAIDKdBTAAAAA4IGmEMAAAACAO1ESwAAAACAPDRjA",
          "dtype": "f8"
         },
         "xaxis": "x",
         "y": {
          "bdata": "AAAA4DlvJ0AAAADgyEokQAAAAGAybihAAAAAAIOAIUAAAACAKl4lQAAAAGBsQihAAAAAgA6aKEAAAADgHoAmQAAAACB65SVAAAAAoAouJkAAAACglIUkQAAAAMCnCiNAAAAA4Ar7JUAAAABgPPEnQAAAAIBj0iNA",
          "dtype": "f8"
         },
         "yaxis": "y"
        },
        {
         "customdata": [
          [
           "AlexLab XLink bridge",
           "Compromised Private Key",
           "2023-05-14",
           "private-key-compromise phishing-attack admin-key-takeover vault-drainage stx-token-theft proxy-contract-upgrade centralized-exchange-freezing bounty-offer token-reissuance-proposal sloppy-opsec"
          ],
          [
           "Hacken",
           "Compromised Private Key",
           "2024-06-20",
           "private-key-compromise bridge-vulnerability token-mint-dump human-error-exploit security-firm-breach reputational-damage market-manipulation cross-chain-exploit"
          ]
         ],
         "hovertemplate": "exploit_type=%{customdata[1]}<br>x=%{x}<br>y=%{y}<br>total_value_extracted_usd=%{marker.size}<br>app=%{customdata[0]}<br>hack_date=%{customdata[2]}<br>tags_str=%{customdata[3]}<extra></extra>",
         "legendgroup": "Compromised Private Key",
         "marker": {
          "color": "#FECB52",
          "line": {
           "color": "white",
           "width": 0.5
          },
          "opacity": 0.85,
          "size": {
           "bdata": "AAAAADhnUEEAAAAAAADwPw==",
           "dtype": "f8"
          },
          "sizemin": 3,
          "sizemode": "area",
          "sizeref": 3590432.5675,
          "symbol": "circle"
         },
         "mode": "markers",
         "name": "Compromised Private Key",
         "orientation": "v",
         "showlegend": true,
         "type": "scatter",
         "x": {
          "bdata": "AAAAgGtiCcAAAABA6akJwA==",
          "dtype": "f8"
         },
         "xaxis": "x",
         "y": {
          "bdata": "AAAAgA4sIEAAAACAvYQiQA==",
          "dtype": "f8"
         },
         "yaxis": "y"
        },
        {
         "customdata": [
          [
           "Alpha Finance (Alpha Homora)",
           "Logic Error/Insider Trading",
           "2021-02-13",
           "complex-defi-deception multi-transaction-attack insider-information-required sushi-pool-manipulation debt-share-inflation rounding-miscalculation resolve-reserve-exploit custom-spell-abuse flashloan-leverage"
          ]
         ],
         "hovertemplate": "exploit_type=%{customdata[1]}<br>x=%{x}<br>y=%{y}<br>total_value_extracted_usd=%{marker.size}<br>app=%{customdata[0]}<br>hack_date=%{customdata[2]}<br>tags_str=%{customdata[3]}<extra></extra>",
         "legendgroup": "Logic Error/Insider Trading",
         "marker": {
          "color": "#636efa",
          "line": {
           "color": "white",
           "width": 0.5
          },
          "opacity": 0.85,
          "size": {
           "bdata": "AAAAAKPhgUE=",
           "dtype": "f8"
          },
          "sizemin": 3,
          "sizemode": "area",
          "sizeref": 3590432.5675,
          "symbol": "circle"
         },
         "mode": "markers",
         "name": "Logic Error/Insider Trading",
         "orientation": "v",
         "showlegend": true,
         "type": "scatter",
         "x": {
          "bdata": "AAAAoH28GsA=",
          "dtype": "f8"
         },
         "xaxis": "x",
         "y": {
          "bdata": "AAAAIDyqJkA=",
          "dtype": "f8"
         },
         "yaxis": "y"
        },
        {
         "customdata": [
          [
           "AlphaPo",
           "Hot Wallet Compromise",
           "2023-07-22",
           "hot-wallet-drain state-sponsored-attack payments-processor-hack multi-chain-exploit lazarus-group-activity spearphishing-vector centralized-platform-breach large-scale-theft"
          ]
         ],
         "hovertemplate": "exploit_type=%{customdata[1]}<br>x=%{x}<br>y=%{y}<br>total_value_extracted_usd=%{marker.size}<br>app=%{customdata[0]}<br>hack_date=%{customdata[2]}<br>tags_str=%{customdata[3]}<extra></extra>",
         "legendgroup": "Hot Wallet Compromise",
         "marker": {
          "color": "#EF553B",
          "line": {
           "color": "white",
           "width": 0.5
          },
          "opacity": 0.85,
          "size": {
           "bdata": "AAAAADicjEE=",
           "dtype": "f8"
          },
          "sizemin": 3,
          "sizemode": "area",
          "sizeref": 3590432.5675,
          "symbol": "circle"
         },
         "mode": "markers",
         "name": "Hot Wallet Compromise",
         "orientation": "v",
         "showlegend": true,
         "type": "scatter",
         "x": {
          "bdata": "AAAAwIu49b8=",
          "dtype": "f8"
         },
         "xaxis": "x",
         "y": {
          "bdata": "AAAAADZHIEA=",
          "dtype": "f8"
         },
         "yaxis": "y"
        },
        {
         "customdata": [
          [
           "Ankr, Helio Money",
           "Access Control",
           "2022-12-02",
           "private-key-compromise supply-manipulation oracle-manipulation deployer-address-hack token-mint-vulnerability liquidity-drain cross-chain-laundering depeg-event audit-failure"
          ],
          [
           "Bent Finance",
           "Access Control",
           "2021-12-12",
           "insider-rugpull manual-balance-adjust cvxcrv-exploit rewards-manipulation team-collusion tornado-cash-out defi-exploit-incident privilege-abuse whale-withdrawals post-listing-discovery"
          ],
          [
           "BitMart",
           "Access Control",
           "2021-12-02",
           "hot-wallet-drain centralized-exchange-hack cross-chain-exploit memecoin-theft private-key-compromise funds-washed-tornadocash"
          ],
          [
           "CoinEx",
           "Access Control",
           "2023-09-12",
           "centralized-exchange-hack hot-wallet-drain multi-chain-exploit state-sponsored-attack private-key-compromise large-scale-theft custodian-security-breach defi-incident cyber-heist"
          ],
          [
           "Crypto.com",
           "Access Control",
           "2022-01-17",
           "centralized-exchange-exploit 2fa-bypass withdrawal-whitelist-bypass btc-tumbler-laundering user-funds-drained security-audit-failure cryptocom-denial multi-chain-exploit hot-wallet-vulnerability unauthorized-activity"
          ],
          [
           "DAO Maker",
           "Access Control",
           "2021-08-01",
           "reinitialization-vulnerability emergency-exit-exploit multiple-token-drain dao-maker-re-rekt audit-failures bad-security-practices post-exploit-swap potential-whitehat-recovery"
          ],
          [
           "Compounder Finance",
           "Access Control",
           "2020-11-23",
           "malicious-strategy-contracts unmonitored-timelock centralized-admin-control missing-withdraw-checks post-audit-code-swap anon-dev-rugpull tornado-cash-funding large-defi-rugpull"
          ],
          [
           "Dexible",
           "Access Control",
           "2023-11-24",
           "unverified-router-address self-swap-vulnerability token-contract-call transfer-from-exploit unaudited-code cross-chain-exploit poor-crisis-communication delayed-announcement blocktower-capital-loss"
          ],
          [
           "Exactly Protocol",
           "Access Control",
           "2023-08-01",
           "optimism-lending-platform insufficient-input-validation fake-market-address collateral-drain defi-hack debtmanager-contract-vulnerability cross-chain-exploit tornado-cash-funded"
          ],
          [
           "Force Bridge",
           "Access Control",
           "2023-06-01",
           "access-control-exploit insider-threat multi-chain-drain tornado-cash-laundering suspicious-timing protocol-sunset admin-privilege-abuse failed-attempts-before-success magickbase-communication nervos-foundation-distancing"
          ],
          [
           "Gala Games",
           "Access Control",
           "2024-05-20",
           "admin-account-compromise gala-token-mint unauthorized-token-dump multi-sig-protection exploiter-fund-return internal-sabotage-suspicion past-incidents-context blockchain-gaming-exploit"
          ],
          [
           "Infini",
           "Access Control",
           "2024-03-24",
           "rogue-developer admin-key-compromise privilege-escalation tornado-cash-laundering delayed-exploit access-control-failure insider-threat usdc-dai-eth-swap"
          ],
          [
           "Kannagi Finance",
           "Access Control",
           "2023-08-05",
           "yield-aggregator-rug zksync-scam centralized-withdrawal-vulnerability auditor-negligence tornado-cash-laundering project-website-deleted smart-contract-unverified"
          ],
          [
           "Kokomo Finance",
           "Access Control",
           "2023-04-10",
           "defi-rugpull optimism-exploit malicious-contract-upgrade deployer-address-exploit wrapped-bitcoin-theft no-full-audit smart-contract-vulnerability total-value-locked-drain project-disappeared lending-protocol-hack"
          ],
          [
           "Levyathan.finance",
           "Access Control",
           "2023-08-01",
           "private-key-compromise github-leak minting-capability-exploit withdrawal-bug incompetent-team no-multisig bnb-chain-exploit rugpull-suspected"
          ],
          [
           "LiFi Protocol",
           "Access Control",
           "2023-07-16",
           "infinite-approvals-exploit call-injection-attack lack-validation-bug cross-chain-aggregator router-contract-vulnerability arbitrary-function-execution unaudited-contract-upgrade previous-exploit-recurrence approval-hygiene-failure multiple-chains-affected"
          ],
          [
           "M2 Exchange",
           "Access Control",
           "2023-10-30",
           "exchange-hot-wallet-drain multi-chain-exploit access-control-vulnerability swift-recovery-claim halloween-hack unusual-incident-report funds-already-recovered suspicious-circumstances"
          ],
          [
           "Meerkat Finance",
           "Access Control",
           "2021-03-04",
           "rug-pull proxy-upgrade owner-privilege-escalation backdoor-function centralized-governance-exploit bsc-exploit defi-scam"
          ],
          [
           "Merlin DEX",
           "Access Control",
           "2023-04-26",
           "liquidity-drain feeto-address-control max-approvals zksync-exploit defi-rugpull centralization-vulnerability audit-controversy mage-token-sale"
          ],
          [
           "Munchables",
           "Access Control",
           "2024-03-26",
           "rogue-dev-exploit storage-slot-manipulation upgradeable-proxy-vulnerability insider-threat funds-recovered-due-to-doxxing blast-l2-incident smart-contract-security supply-chain-attack defi-exploit-2024"
          ],
          [
           "Fantom Foundation",
           "Access Control",
           "2023-10-26",
           "employee-wallet-drain multi-chain-exploit fantom-foundation-breach compromised-password-manager mixed-messaging-incident employee-asset-loss crypto-wallet-drain security-vulnerability-exploit"
          ],
          [
           "Pickle Finance",
           "Access Control",
           "2020-10-31",
           "fake-jar-exploit missing-whitelist-check defi-protocol-hack controller-v4-vulnerability smart-contract-exploit yield-farming-attack governance-timelock-bypass emergency-response-failure"
          ],
          [
           "Pike Finance",
           "Access Control",
           "2024-04-30",
           "storage-vulnerability unprotected-initializer contract-upgrade-exploit multiple-attacks cross-chain-exploit negligent-security admin-privilege-escalation"
          ],
          [
           "Poloniex",
           "Access Control",
           "2023-11-10",
           "exchange-hot-wallet-drain private-key-compromise multi-chain-exploit off-chain-attack-vector centralized-exchange-hack large-scale-fund-drain security-incident-response attacker-loses-funds"
          ],
          [
           "Poly Network",
           "Access Control",
           "2021-08-10",
           "cross-chain-exploit eth-cross-chain-manager eth-cross-chain-data signature-hash-manipulation proxy-lock-contracts multichain-hack largest-defi-hack defi-protocol-compromise"
          ],
          [
           "Radiant Capital",
           "Access Control",
           "2024-09-24",
           "multisig-bypass access-control-exploit proxy-upgrade-attack centralized-control-point cross-chain-exploit prepared-attack defi-demolition protocol-takeover low-threshold-signature ownership-transfer-attack"
          ],
          [
           "0xbad MEV Bot",
           "Access Control",
           "2022-09-28",
           "mev-bot-attack flashloan-exploit arbitrary-execution access-control-vulnerability on-chain-karma ethereum-dark-forest weth-theft bot-pwned"
          ],
          [
           "MEV Bot",
           "Access Control",
           "2023-09-26",
           "mev-bot-sandwich unprotected-swap-function access-control-vulnerability flash-loan-attack arbitrage-exploit weth-wbtc-trades on-chain-predator curve-pool-manipulation"
          ],
          [
           "Ronin Network",
           "Access Control",
           "2022-03-23",
           "side-chain-exploit validator-compromise access-control-vulnerability axie-dao-signature unrevoked-whitelist proof-of-authority biggest-crypto-hack delayed-detection centralization-risk bridge-drain"
          ],
          [
           "Ronin Network",
           "Access Control",
           "2023-08-06",
           "bridge-exploit contract-upgrade-vulnerability uninitialized-variable mev-bot-front-run operational-security-failure whitehat-intervention partial-fund-recovery withdrawal-limit-mitigation"
          ],
          [
           "Safemoon",
           "Access Control",
           "2023-03-29",
           "burn-function-exploit liquidity-pool-drain price-manipulation smart-contract-vulnerability upgrade-vulnerability mev-bot-claim admin-key-compromise token-contract-exploit"
          ],
          [
           "Socket Bungee bridge",
           "Access Control",
           "2024-01-23",
           "infinite-approvals unaudited-upgrade user-input-validation bridge-exploit smart-contract-vulnerability transferfrom-injection approval-hygiene protocol-exploit"
          ],
          [
           "SushiSwap",
           "Access Control",
           "2023-04-01",
           "router-processor-exploit unprotected-callback-function fake-univ3-pool arbitrary-data-acceptance token-drainage approval-revocation-urgency whitehat-recovery-efforts"
          ],
          [
           "Swaprum",
           "Access Control",
           "2023-04-20",
           "dex-rug-pull arbitrum-scam contract-upgrade-exploit liquidity-drain centralization-vulnerability certik-audit-fail insider-threat tornado-cash-laundering"
          ],
          [
           "Transit Swap",
           "Access Control",
           "2022-10-02",
           "cross-chain-exploit unverified-contract transfer-from-vulnerability user-wallet-drain multi-chain-attack funds-returned security-team-cooperation decompile-code-analysis"
          ],
          [
           "Unibot",
           "Access Control",
           "2023-10-27",
           "router-contract-exploit token-approval-drain unverified-contract-vulnerability arbitrary-call-exploit copycat-attackers-active lack-input-validation third-party-bot-risk user-funds-compromised"
          ],
          [
           "Unizen",
           "Access Control",
           "2024-03-08",
           "unverified-external-call dex-aggregator-exploit contract-upgrade-vulnerability user-fund-theft multiple-attackers post-upgrade-exploit reimbursement-bounty gas-optimization-bug smart-contract-security unverified-code-exploit"
          ],
          [
           "Value DeFi",
           "Access Control",
           "2021-05-05",
           "missing-code-line reinitialize-pool owner-takeover governance-exploit human-error-vulnerability cross-chain-transfer defi-exploit value-defi-rekt-incident"
          ],
          [
           "Visor Finance",
           "Access Control",
           "2021-12-01",
           "unlimited-rewards-mint access-control-vulnerability vvisr-rewards-contract uniswap-liquidity-drain tornado-cash-mixer token-migration-proposal smart-contract-bug multiple-security-incidents post-hack-pr"
          ],
          [
           "X-Token",
           "Access Control",
           "2021-02-12",
           "flash-loan access-control-vulnerability price-manipulation erroneous-require-statement xsnx-contract defi-exploit arbitrage-opportunity"
          ],
          [
           "Zoth",
           "Access Control",
           "2024-03-21",
           "admin-key-compromise contract-swap funds-drained proxy-contract-upgrade stolen-credentials deployer-wallet-compromise real-world-asset-protocol-exploit lax-key-management repeated-exploit insider-threat-potential"
          ],
          [
           "Zunami Protocol",
           "Access Control",
           "2025-05-14",
           "admin-key-compromise privileged-access-exploit emergency-function-abuse insider-job-suspicion abandoned-development protocol-mismanagement multi-exploit-history value-extraction-incident"
          ],
          [
           "ArcadiaFi",
           "Access Control",
           "2024-07-15",
           "arbitrary-calldata-execution rebalancer-contract-exploit flashloan-assisted-attack permission-escalation unchecked-external-call audit-blind-spot emergency-pause-lockout multi-stage-exploit"
          ],
          [
           "Credix",
           "Access Control",
           "2024-03-07",
           "admin-key-compromise privilege-escalation unbacked-token-minting liquidity-drain cross-chain-bridge phantom-collateral-loan multisig-vulnerability insider-threat"
          ],
          [
           "Coinbase (0xProject Settler Contract)",
           "Access Control",
           "2024-08-13",
           "misconfigured-approvals erc-20-exploit mev-bot-drain operational-security-failure permissionless-contract-abuse corporate-wallet-drain defi-mechanics-exploit documented-vulnerability third-party-contract-risk crypto-exchange-vulnerability"
          ]
         ],
         "hovertemplate": "exploit_type=%{customdata[1]}<br>x=%{x}<br>y=%{y}<br>total_value_extracted_usd=%{marker.size}<br>app=%{customdata[0]}<br>hack_date=%{customdata[2]}<br>tags_str=%{customdata[3]}<extra></extra>",
         "legendgroup": "Access Control",
         "marker": {
          "color": "#00cc96",
          "line": {
           "color": "white",
           "width": 0.5
          },
          "opacity": 0.85,
          "size": {
           "bdata": "AAAAAGDjdkEAAAAA8LM6QQAAAAByXadBAAAAAGvkiUEAAAAAxRGAQQAAAACAhE5BAAAAAGDjZkEAAAAAgIQ+QQAAAABAd1tBAAAAAMCvTEEAAAAAzL+pQQAAAAB7modBAAAAAJAFQEEAAAAAgIROQQAAAABg4zZBAAAAAPqOYkEAAAAAdCFqQQAAAACAhH5BAAAAAGDFO0EAAAAAZc2NQQAAAAA4nFxBAAAAAJLJckEAAAAA4P08QQAAAABuCp5BAAAAYI81wkEAAAAAukWJQQAAAABg4zZBAAAAAICEPkEAAAAAvpjCQQAAAABg42ZBAAAAALT5YEEAAAAAUC1JQQAAAABQLUlBAAAAAGDjRkEAAAAAyDd0QQAAAAAAiCNBAAAAAPQGdEEAAAAA0BJjQQAAAADQR19BAAAAAIgqUUEAAAAAkAVgQQAAAACAhB5BAAAAAAAA8D8AAAAAAADwPwAAAAAAAPA/",
           "dtype": "f8"
          },
          "sizemin": 3,
          "sizemode": "area",
          "sizeref": 3590432.5675,
          "symbol": "circle"
         },
         "mode": "markers",
         "name": "Access Control",
         "orientation": "v",
         "showlegend": true,
         "type": "scatter",
         "x": {
          "bdata": "AAAAQIiED8AAAABgzHEWwAAAACC7bvO/AAAAwLnN9r8AAABgB030vwAAAOCFnwvAAAAAQJgZEMAAAACASKoUwAAAAGAvahTAAAAAwDKTD8AAAADg7q0PwAAAAKBUpA3AAAAAYF2VEsAAAABgqs0NwAAAAIBVRw3AAAAAYNaZEMAAAACAc+nsvwAAAEACqRPAAAAAYJ+FEcAAAABgpQsOwAAAAEDTvQPAAAAAIOddEcAAAADAOrAKwAAAAEAB//C/AAAAwBrMAcAAAABAe+oIwAAAACDMSRjAAAAAAGbyGMAAAACgkyMJwAAAAIA+LQnAAAAAIHpkGMAAAAAg85oQwAAAAAAVNxDAAAAAoLfOE8AAAACg7GUQwAAAAEA91xDAAAAAIPwvFcAAAAAA/B4QwAAAAKDItxPAAAAA4H2/GcAAAABg70ULwAAAAGCubQ7AAAAAoIvcG8AAAACAStEIwAAAAICVrBDA",
          "dtype": "f8"
         },
         "xaxis": "x",
         "y": {
          "bdata": "AAAAwJ9cIUAAAAAg5k4hQAAAAAA6YSBAAAAAgJ40H0AAAAAAOuEeQAAAAKA0RyZAAAAA4NC8IEAAAADAM4cjQAAAAMBBtSdAAAAAYDUJIEAAAAAg+ashQAAAAKBUDyBAAAAA4DBJIEAAAADgAcAlQAAAAEAVtCFAAAAAIB12I0AAAACgQ4kfQAAAAAC/xyZAAAAAIFKlIEAAAADA+Y0lQAAAAECngCBAAAAAIJXwJEAAAADg6QMiQAAAACB5mx9AAAAAAM8LI0AAAABgsi4jQAAAAICTOilAAAAAIHVJKUAAAAAgmPUiQAAAAGBpkCVAAAAAoFOpJEAAAABgh8EjQAAAAIDUBSNAAAAAIDTZIEAAAADAJWAmQAAAAADNpSNAAAAAoMq9IUAAAADgSZ8mQAAAAMBd0iJAAAAAoASgKEAAAABAOL0gQAAAAEAnNyBAAAAAoOrgJ0AAAADAATgiQAAAAABC9CRA",
          "dtype": "f8"
         },
         "yaxis": "y"
        },
        {
         "customdata": [
          [
           "Anyswap",
           "Private Key Compromise",
           "2021-07-28",
           "mpc-wallet-exploit ecdsa-vulnerability private-key-leak cross-chain-bridge stablecoin-theft repeated-k-value prototype-v3-hack security-flaw-known"
          ],
          [
           "DeltaPrime",
           "Private Key Compromise",
           "2023-10-09",
           "private-key-compromise admin-key-hack arbitrum-exploit proxy-contract-upgrade deposit-amount-inflation state-sponsored-attack defi-security-lapse multi-protocol-theft laundered-funds cold-wallet-bypass"
          ],
          [
           "Harmony Bridge",
           "Private Key Compromise",
           "2022-06-24",
           "cross-chain-bridge multi-sig-bypass compromised-private-keys hot-wallet-vulnerability insufficient-security-measures high-value-exploit known-vulnerability-ignored blockchain-bridge-attack supply-chain-attack targeted-attack"
          ],
          [
           "LCX Exchange",
           "Private Key Compromise",
           "2022-01-08",
           "centralized-exchange-exploit hot-wallet-breach private-key-compromise multi-asset-theft tornado-cash-laundering security-vulnerability-cex regulatory-risk-exchange defi-cefi-security-gap"
          ],
          [
           "OKX DEX Aggregator",
           "Private Key Compromise",
           "2023-12-14",
           "private-key-compromise proxy-contract-upgrade dex-aggregator-exploit deprecated-contract-vulnerability user-fund-siphon access-control-breach centralized-exchange-liability defi-security-lapse"
          ],
          [
           "Remitano",
           "Private Key Compromise",
           "2023-09-12",
           "hot-wallet-drain private-key-compromise exchange-hack state-sponsored-attack tether-fund-freeze multi-chain-exploit delayed-response third-party-breach asset-consolidation"
          ],
          [
           "Stake",
           "Private Key Compromise",
           "2023-09-04",
           "hot-wallet-compromise multi-chain-drain private-key-theft centralized-exchange-hack user-fund-impact post-hack-communications stake-casino-hack defi-security-lapses"
          ],
          [
           "Wintermute",
           "Private Key Compromise",
           "2022-09-20",
           "vanity-address-exploit profanity-tool-vulnerability hot-wallet-compromise defi-operations-hack private-key-theft stablecoin-drain curve-3pool-deposit admin-address-compromise"
          ],
          [
           "BTCTurk",
           "Private Key Compromise",
           "2025-08-14",
           "private-key-compromise hot-wallet-drain multi-chain-exploit exchange-security-failure repeat-incident asset-consolidation cross-chain-transfer altcoin-to-eth-swap"
          ]
         ],
         "hovertemplate": "exploit_type=%{customdata[1]}<br>x=%{x}<br>y=%{y}<br>total_value_extracted_usd=%{marker.size}<br>app=%{customdata[0]}<br>hack_date=%{customdata[2]}<br>tags_str=%{customdata[3]}<extra></extra>",
         "legendgroup": "Private Key Compromise",
         "marker": {
          "color": "#ab63fa",
          "line": {
           "color": "white",
           "width": 0.5
          },
          "opacity": 0.85,
          "size": {
           "bdata": "AAAAANgiXkEAAAAA2M9WQQAAAACE15dBAAAAAOhJXkEAAAAAcJlEQQAAAABwmURBAAAAACDWg0EAAADAAFmjQQAAAAAAAPA/",
           "dtype": "f8"
          },
          "sizemin": 3,
          "sizemode": "area",
          "sizeref": 3590432.5675,
          "symbol": "circle"
         },
         "mode": "markers",
         "name": "Private Key Compromise",
         "orientation": "v",
         "showlegend": true,
         "type": "scatter",
         "x": {
          "bdata": "AAAA4P/0BMAAAABgGXkIwAAAAMBb1vm/AAAAQGDC9b8AAADgOX4UwAAAACCv9vC/AAAAQAZT978AAACAN/QGwAAAAIBEau+/",
          "dtype": "f8"
         },
         "xaxis": "x",
         "y": {
          "bdata": "AAAAgCcyIkAAAAAAnK4gQAAAAKDCESJAAAAAYOeOHkAAAAAgnichQAAAAIB5ZCBAAAAAQKQrIEAAAABgZKAgQAAAAMCZjiBA",
          "dtype": "f8"
         },
         "yaxis": "y"
        },
        {
         "customdata": [
          [
           "Arbix Finance",
           "honeypot",
           "2022-01-04",
           "vault-drainage exit-scam defi-rugpull arbitrage-scheme pancakeswap-dump multi-asset-theft website-deletion social-media-wipe"
          ]
         ],
         "hovertemplate": "exploit_type=%{customdata[1]}<br>x=%{x}<br>y=%{y}<br>total_value_extracted_usd=%{marker.size}<br>app=%{customdata[0]}<br>hack_date=%{customdata[2]}<br>tags_str=%{customdata[3]}<extra></extra>",
         "legendgroup": "honeypot",
         "marker": {
          "color": "#FFA15A",
          "line": {
           "color": "white",
           "width": 0.5
          },
          "opacity": 0.85,
          "size": {
           "bdata": "AAAAANASY0E=",
           "dtype": "f8"
          },
          "sizemin": 3,
          "sizemode": "area",
          "sizeref": 3590432.5675,
          "symbol": "circle"
         },
         "mode": "markers",
         "name": "honeypot",
         "orientation": "v",
         "showlegend": true,
         "type": "scatter",
         "x": {
          "bdata": "AAAA4GyAEsA=",
          "dtype": "f8"
         },
         "xaxis": "x",
         "y": {
          "bdata": "AAAAYC7KH0A=",
          "dtype": "f8"
         },
         "yaxis": "y"
        },
        {
         "customdata": [
          [
           "Astroport",
           "Reentrancy via IBC hooks",
           "2023-07-30",
           "reentrancy-vulnerability ibc-hooks-exploit known-vulnerability-reintroduced accidental-patch-revert cosmos-chain-hack terra-ecosystem-impact regulatory-action-oversight security-warnings-ignored token-factory-force-transfer stolen-funds-frozen"
          ]
         ],
         "hovertemplate": "exploit_type=%{customdata[1]}<br>x=%{x}<br>y=%{y}<br>total_value_extracted_usd=%{marker.size}<br>app=%{customdata[0]}<br>hack_date=%{customdata[2]}<br>tags_str=%{customdata[3]}<extra></extra>",
         "legendgroup": "Reentrancy via IBC hooks",
         "marker": {
          "color": "#19d3f3",
          "line": {
           "color": "white",
           "width": 0.5
          },
          "opacity": 0.85,
          "size": {
           "bdata": "AAAAAABqWEE=",
           "dtype": "f8"
          },
          "sizemin": 3,
          "sizemode": "area",
          "sizeref": 3590432.5675,
          "symbol": "circle"
         },
         "mode": "markers",
         "name": "Reentrancy via IBC hooks",
         "orientation": "v",
         "showlegend": true,
         "type": "scatter",
         "x": {
          "bdata": "AAAAwDoSEcA=",
          "dtype": "f8"
         },
         "xaxis": "x",
         "y": {
          "bdata": "AAAAIAK8JUA=",
          "dtype": "f8"
         },
         "yaxis": "y"
        },
        {
         "customdata": [
          [
           "Atlantis Loans",
           "Governance Takeover",
           "2023-06-07",
           "governance-takeover malicious-proposal contract-upgrade token-approvals-drain abandoned-protocol-exploit defi-lending-vulnerability smart-contract-exploit post-abandonment-hack"
          ],
          [
           "Audius",
           "Governance Takeover",
           "2022-07-24",
           "governance-takeover proxy-admin-collision defi-hack storage-slot-exploit token-dump treasury-drain smart-contract-vulnerability open-zeppelin-bug"
          ],
          [
           "Beanstalk Farms",
           "Governance Takeover",
           "2022-04-17",
           "flash-loan-exploit governance-attack voting-power-manipulation no-execution-delay malicious-proposal liquidity-pool-exploit tornado-cash-outflow smart-contract-vulnerability defi-hack"
          ],
          [
           "Tornado Cash Governance",
           "Governance Takeover",
           "2023-05-20",
           "governance-takeover selfdestruct-opcode metamorphic-contract token-dump admin-control trojan-horse-proposal dao-compromise voting-power-manipulation"
          ]
         ],
         "hovertemplate": "exploit_type=%{customdata[1]}<br>x=%{x}<br>y=%{y}<br>total_value_extracted_usd=%{marker.size}<br>app=%{customdata[0]}<br>hack_date=%{customdata[2]}<br>tags_str=%{customdata[3]}<extra></extra>",
         "legendgroup": "Governance Takeover",
         "marker": {
          "color": "#FF6692",
          "line": {
           "color": "white",
           "width": 0.5
          },
          "opacity": 0.85,
          "size": {
           "bdata": "AAAAANASQ0EAAAAAYONWQQAAAICuk6VBAAAAAGDjJkE=",
           "dtype": "f8"
          },
          "sizemin": 3,
          "sizemode": "area",
          "sizeref": 3590432.5675,
          "symbol": "circle"
         },
         "mode": "markers",
         "name": "Governance Takeover",
         "orientation": "v",
         "showlegend": true,
         "type": "scatter",
         "x": {
          "bdata": "AAAAgJ27D8AAAADAUDcNwAAAACANlhPAAAAA4ADQDsA=",
          "dtype": "f8"
         },
         "xaxis": "x",
         "y": {
          "bdata": "AAAAQCqLJEAAAACgJs4kQAAAAMBHiiZAAAAA4JOEJEA=",
          "dtype": "f8"
         },
         "yaxis": "y"
        },
        {
         "customdata": [
          [
           "Atomic Wallet",
           "Supply Chain Attack",
           "2023-06-02",
           "multi-chain-exploit supply-chain-attack bcp-hijacking-potential lazarus-group-activity wallet-vulnerability-ignored fund-laundering-mixer desktop-mobile-affected indiscriminate-drain"
          ],
          [
           "Bittensor",
           "Supply Chain Attack",
           "2023-07-02",
           "pypi-package-compromise supply-chain-attack coldkey-details-theft network-halt-response tao-token-drain malicious-package-injection validator-wallet-exploit centralized-control-issue"
          ],
          [
           "JayPegs Automart (MISO auction)",
           "Supply Chain Attack",
           "2021-09-08",
           "developer-wallet-insertion malicious-code-injection supply-chain-compromise contractor-inside-job funds-recovered-doxxing sushiswap-incident miso-auction-exploit front-end-attack"
          ],
          [
           "BigONE",
           "Supply Chain Attack",
           "2023-07-15",
           "supply-chain-compromise production-server-hijack account-logic-rewrite risk-control-bypass internal-network-breach multi-chain-drain infrastructure-exploit unauthorized-withdrawal"
          ]
         ],
         "hovertemplate": "exploit_type=%{customdata[1]}<br>x=%{x}<br>y=%{y}<br>total_value_extracted_usd=%{marker.size}<br>app=%{customdata[0]}<br>hack_date=%{customdata[2]}<br>tags_str=%{customdata[3]}<extra></extra>",
         "legendgroup": "Supply Chain Attack",
         "marker": {
          "color": "#B6E880",
          "line": {
           "color": "white",
           "width": 0.5
          },
          "opacity": 0.85,
          "size": {
           "bdata": "AAAAAITXl0EAAAAAgIReQQAAAACwpkdBAAAAAAAA8D8=",
           "dtype": "f8"
          },
          "sizemin": 3,
          "sizemode": "area",
          "sizeref": 3590432.5675,
          "symbol": "circle"
         },
         "mode": "markers",
         "name": "Supply Chain Attack",
         "orientation": "v",
         "showlegend": true,
         "type": "scatter",
         "x": {
          "bdata": "AAAAwGpM/L8AAAAgFy0LwAAAACAR/QnAAAAAIECV+L8=",
          "dtype": "f8"
         },
         "xaxis": "x",
         "y": {
          "bdata": "AAAAAOQ0IEAAAABANU8iQAAAAAAEmB5AAAAAYJXAHkA=",
          "dtype": "f8"
         },
         "yaxis": "y"
        },
        {
         "customdata": [
          [
           "DODO",
           "Fake Token Attack",
           "2021-03-09",
           "fake-token-exploit multiple-init-bug crowdpool-drain flash-loan-exploit bot-frontrunning returned-funds defi-protocol-hack smart-contract-vulnerability"
          ]
         ],
         "hovertemplate": "exploit_type=%{customdata[1]}<br>x=%{x}<br>y=%{y}<br>total_value_extracted_usd=%{marker.size}<br>app=%{customdata[0]}<br>hack_date=%{customdata[2]}<br>tags_str=%{customdata[3]}<extra></extra>",
         "legendgroup": "Fake Token Attack",
         "marker": {
          "color": "#FF97FF",
          "line": {
           "color": "white",
           "width": 0.5
          },
          "opacity": 0.85,
          "size": {
           "bdata": "AAAAAICEPkE=",
           "dtype": "f8"
          },
          "sizemin": 3,
          "sizemode": "area",
          "sizeref": 3590432.5675,
          "symbol": "circle"
         },
         "mode": "markers",
         "name": "Fake Token Attack",
         "orientation": "v",
         "showlegend": true,
         "type": "scatter",
         "x": {
          "bdata": "AAAAoDGyE8A=",
          "dtype": "f8"
         },
         "xaxis": "x",
         "y": {
          "bdata": "AAAAINQoJUA=",
          "dtype": "f8"
         },
         "yaxis": "y"
        },
        {
         "customdata": [
          [
           "Autoshark",
           "flash-loan-attack",
           "2021-05-22",
           "flash-loan-attack price-oracle-manipulation minting-exploit defi-hack bnb-chain-exploit token-dump reward-system-abuse"
          ],
          [
           "Platypus Finance",
           "flash-loan-attack",
           "2023-10-13",
           "flash-loan-exploit price-manipulation liquidity-pool-attack slippage-exploit defi-exploit repeated-exploit funds-recovered post-audit-vulnerability"
          ],
          [
           "PrismaFi",
           "flash-loan-attack",
           "2024-03-28",
           "flash-loan-exploit restaking-protocol-vulnerability migrate-trove-zap-contract input-validation-flaw trove-manager-manipulation wsteth-theft emergency-multisig-pause post-mortem-fund-retrieval"
          ]
         ],
         "hovertemplate": "exploit_type=%{customdata[1]}<br>x=%{x}<br>y=%{y}<br>total_value_extracted_usd=%{marker.size}<br>app=%{customdata[0]}<br>hack_date=%{customdata[2]}<br>tags_str=%{customdata[3]}<extra></extra>",
         "legendgroup": "flash-loan-attack",
         "marker": {
          "color": "#FECB52",
          "line": {
           "color": "white",
           "width": 0.5
          },
          "opacity": 0.85,
          "size": {
           "bdata": "AAAAAFC8JkEAAAAA4MhAQQAAAAAQIGZB",
           "dtype": "f8"
          },
          "sizemin": 3,
          "sizemode": "area",
          "sizeref": 3590432.5675,
          "symbol": "circle"
         },
         "mode": "markers",
         "name": "flash-loan-attack",
         "orientation": "v",
         "showlegend": true,
         "type": "scatter",
         "x": {
          "bdata": "AAAAoELmGMAAAADgXuMVwAAAAKCLrhXA",
          "dtype": "f8"
         },
         "xaxis": "x",
         "y": {
          "bdata": "AAAAgFy6JkAAAABgX/MnQAAAAKDpdSZA",
          "dtype": "f8"
         },
         "yaxis": "y"
        },
        {
         "customdata": [
          [
           "Badger DAO",
           "Front-end attack",
           "2021-12-02",
           "front-end-compromise infinite-approval-exploit user-address-drained wrapped-bitcoin-theft malicious-transaction-pause cloudflare-compromise-rumor discord-vulnerability-flag wallet-approval-hygiene decentralized-finance-security mass-adoption-hurdle"
          ]
         ],
         "hovertemplate": "exploit_type=%{customdata[1]}<br>x=%{x}<br>y=%{y}<br>total_value_extracted_usd=%{marker.size}<br>app=%{customdata[0]}<br>hack_date=%{customdata[2]}<br>tags_str=%{customdata[3]}<extra></extra>",
         "legendgroup": "Front-end attack",
         "marker": {
          "color": "#636efa",
          "line": {
           "color": "white",
           "width": 0.5
          },
          "opacity": 0.85,
          "size": {
           "bdata": "AAAAADicnEE=",
           "dtype": "f8"
          },
          "sizemin": 3,
          "sizemode": "area",
          "sizeref": 3590432.5675,
          "symbol": "circle"
         },
         "mode": "markers",
         "name": "Front-end attack",
         "orientation": "v",
         "showlegend": true,
         "type": "scatter",
         "x": {
          "bdata": "AAAAIFCpDcA=",
          "dtype": "f8"
         },
         "xaxis": "x",
         "y": {
          "bdata": "AAAAoHwzIkA=",
          "dtype": "f8"
         },
         "yaxis": "y"
        },
        {
         "customdata": [
          [
           "Balancer",
           "Price Manipulation",
           "2023-09-08",
           "amm-pool-exploit vulnerability-disclosure-exploit price-oracle-manipulation linear-pool-rounding boosted-pool-attack multi-chain-exploit balancer-protocol-hack"
          ],
          [
           "MonoX",
           "Price Manipulation",
           "2021-10-31",
           "price-oracle-manipulation single-token-liquidity cross-chain-exploit vulnerable-swap-contract native-token-exploit monoswap-contract-bug defi-protocol-hack exploit-monox-dex"
          ],
          [
           "Sturdy Finance",
           "Price Manipulation",
           "2024-06-02",
           "price-oracle-manipulation flash-loan-attack read-only-reentrancy lending-protocol-exploit staked-assets-collateral tornado-cash-laundering audits-missed-vulnerability oracle-dependency-risk"
          ],
          [
           "Zunami Protocol",
           "Price Manipulation",
           "2023-08-14",
           "price-manipulation-attack stablecoin-depeg flash-loan-exploit liquidity-pool-drain flawed-price-calculation curve-ecosystem-exploit tornado-cash-deposit"
          ]
         ],
         "hovertemplate": "exploit_type=%{customdata[1]}<br>x=%{x}<br>y=%{y}<br>total_value_extracted_usd=%{marker.size}<br>app=%{customdata[0]}<br>hack_date=%{customdata[2]}<br>tags_str=%{customdata[3]}<extra></extra>",
         "legendgroup": "Price Manipulation",
         "marker": {
          "color": "#EF553B",
          "line": {
           "color": "white",
           "width": 0.5
          },
          "opacity": 0.85,
          "size": {
           "bdata": "AAAAAJAFQEEAAAAABPJ9QQAAAAAAaihBAAAAAJAFQEE=",
           "dtype": "f8"
          },
          "sizemin": 3,
          "sizemode": "area",
          "sizeref": 3590432.5675,
          "symbol": "circle"
         },
         "mode": "markers",
         "name": "Price Manipulation",
         "orientation": "v",
         "showlegend": true,
         "type": "scatter",
         "x": {
          "bdata": "AAAA4BAnGsAAAABgbxIYwAAAAOAfHR3AAAAAwPuRGMA=",
          "dtype": "f8"
         },
         "xaxis": "x",
         "y": {
          "bdata": "AAAAAHp8J0AAAABgsRIkQAAAAECXGSZAAAAAoGJnKEA=",
          "dtype": "f8"
         },
         "yaxis": "y"
        },
        {
         "customdata": [
          [
           "BALD",
           "liquidity pull",
           "2023-07-31",
           "memecoin-rugpull base-network-incident liquidity-drain deployer-exit-scam early-stage-exploit centralized-control defi-degeneracy pump-dump"
          ]
         ],
         "hovertemplate": "exploit_type=%{customdata[1]}<br>x=%{x}<br>y=%{y}<br>total_value_extracted_usd=%{marker.size}<br>app=%{customdata[0]}<br>hack_date=%{customdata[2]}<br>tags_str=%{customdata[3]}<extra></extra>",
         "legendgroup": "liquidity pull",
         "marker": {
          "color": "#00cc96",
          "line": {
           "color": "white",
           "width": 0.5
          },
          "opacity": 0.85,
          "size": {
           "bdata": "AAAAADzvdUE=",
           "dtype": "f8"
          },
          "sizemin": 3,
          "sizemode": "area",
          "sizeref": 3590432.5675,
          "symbol": "circle"
         },
         "mode": "markers",
         "name": "liquidity pull",
         "orientation": "v",
         "showlegend": true,
         "type": "scatter",
         "x": {
          "bdata": "AAAAIELsEcA=",
          "dtype": "f8"
         },
         "xaxis": "x",
         "y": {
          "bdata": "AAAA4Gs2IUA=",
          "dtype": "f8"
         },
         "yaxis": "y"
        },
        {
         "customdata": [
          [
           "Banana Gun",
           "Telegram Message Oracle Manipulation",
           "2023-09-19",
           "telegram-oracle-exploit cross-chain-exploit trading-bot-vulnerability wallet-drainage smart-money-attack concentrated-loss security-flaws-revealed defi-bot-attack"
          ]
         ],
         "hovertemplate": "exploit_type=%{customdata[1]}<br>x=%{x}<br>y=%{y}<br>total_value_extracted_usd=%{marker.size}<br>app=%{customdata[0]}<br>hack_date=%{customdata[2]}<br>tags_str=%{customdata[3]}<extra></extra>",
         "legendgroup": "Telegram Message Oracle Manipulation",
         "marker": {
          "color": "#ab63fa",
          "line": {
           "color": "white",
           "width": 0.5
          },
          "opacity": 0.85,
          "size": {
           "bdata": "AAAAAGDjRkE=",
           "dtype": "f8"
          },
          "sizemin": 3,
          "sizemode": "area",
          "sizeref": 3590432.5675,
          "symbol": "circle"
         },
         "mode": "markers",
         "name": "Telegram Message Oracle Manipulation",
         "orientation": "v",
         "showlegend": true,
         "type": "scatter",
         "x": {
          "bdata": "AAAAYHq0F8A=",
          "dtype": "f8"
         },
         "xaxis": "x",
         "y": {
          "bdata": "AAAAwLAkJUA=",
          "dtype": "f8"
         },
         "yaxis": "y"
        },
        {
         "customdata": [
          [
           "Belt Finance",
           "Flash Loan Attack",
           "2021-05-29",
           "flash-loan-exploit incorrect-share-valuation bsc-protocol-hack fork-of-fork price-oracle-manipulation liquidity-pool-exploit collateral-manipulation re-entrancy-attack"
          ],
          [
           "Hedgey Finance",
           "Flash Loan Attack",
           "2024-04-19",
           "flash-loan-exploit arbitrum-ethereum-attack input-validation-vulnerability token-claim-contract unauthorized-token-approvals defi-security-breach cross-chain-exploit hacked-vesting-platform"
          ],
          [
           "PancakeBunny Finance",
           "Flash Loan Attack",
           "2021-05-20",
           "flash-loan-exploit price-oracle-manipulation pancakeswap-vulnerability vault-exploit bunny-token-minting defi-hack-bsc liquidity-pool-attack"
          ],
          [
           "Raft",
           "Flash Loan Attack",
           "2023-10-06",
           "flash-loan-exploit stablecoin-depeg delegatecall-bug hacker-error rekt-post-mortem collateral-manipulation uncollected-profit defi-incident vulnerability-audit-bypass"
          ],
          [
           "Value DeFi",
           "Flash Loan Attack",
           "2020-11-14",
           "flash-loan-exploit price-oracle-manipulation vault-contract-vulnerability proxy-withdrawal-exploit curve-spot-price-manipulation defi-protocol-hack security-oversight vulnerable-protocol-design"
          ],
          [
           "xToken",
           "Flash Loan Attack",
           "2021-05-08",
           "flash-loan-exploit price-oracle-manipulation defi-protocol-hack yield-farming-drain snx-bnt-pools dydx-flashloan arbitrage-attack mev-private-transaction uniswap-v2-vulnerability"
          ],
          [
           "Yearn DAI v1 vault",
           "Flash Loan Attack",
           "2021-02-04",
           "flash-loan-exploit arbitrage-attack curve-liquidity-drain vault-migration-vulnerability defi-blue-chip-hack complex-transaction-chain tether-funds-frozen economic-manipulation"
          ]
         ],
         "hovertemplate": "exploit_type=%{customdata[1]}<br>x=%{x}<br>y=%{y}<br>total_value_extracted_usd=%{marker.size}<br>app=%{customdata[0]}<br>hack_date=%{customdata[2]}<br>tags_str=%{customdata[3]}<extra></extra>",
         "legendgroup": "Flash Loan Attack",
         "marker": {
          "color": "#FFA15A",
          "line": {
           "color": "white",
           "width": 0.5
          },
          "opacity": 0.85,
          "size": {
           "bdata": "AAAAAFgIWEEAAAAAi1CFQQAAAAAqdYVBAAAAAFAtSUEAAAAA8LNaQQAAAABg43ZBAAAAABj7ZEE=",
           "dtype": "f8"
          },
          "sizemin": 3,
          "sizemode": "area",
          "sizeref": 3590432.5675,
          "symbol": "circle"
         },
         "mode": "markers",
         "name": "Flash Loan Attack",
         "orientation": "v",
         "showlegend": true,
         "type": "scatter",
         "x": {
          "bdata": "AAAAQAtvG8AAAACgScsSwAAAAECQSRjAAAAAYK/1EsAAAABAUdMXwAAAAADIHBrAAAAAwDktFsA=",
          "dtype": "f8"
         },
         "xaxis": "x",
         "y": {
          "bdata": "AAAAIArzJkAAAABg9GQlQAAAAEBIgiZAAAAAQKY2J0AAAAAAoxsmQAAAAEDAuihAAAAAAH3rJ0A=",
          "dtype": "f8"
         },
         "yaxis": "y"
        },
        {
         "customdata": [
          [
           "BingX",
           "hot wallet compromise",
           "2024-09-19",
           "centralized-exchange-hack hot-wallet-compromise multi-chain-exploit sophisticated-hacking-group lazarus-group-tactics customer-fund-loss pr-downplay-incident security-vulnerability"
          ]
         ],
         "hovertemplate": "exploit_type=%{customdata[1]}<br>x=%{x}<br>y=%{y}<br>total_value_extracted_usd=%{marker.size}<br>app=%{customdata[0]}<br>hack_date=%{customdata[2]}<br>tags_str=%{customdata[3]}<extra></extra>",
         "legendgroup": "hot wallet compromise",
         "marker": {
          "color": "#19d3f3",
          "line": {
           "color": "white",
           "width": 0.5
          },
          "opacity": 0.85,
          "size": {
           "bdata": "AAAAAItQhUE=",
           "dtype": "f8"
          },
          "sizemin": 3,
          "sizemode": "area",
          "sizeref": 3590432.5675,
          "symbol": "circle"
         },
         "mode": "markers",
         "name": "hot wallet compromise",
         "orientation": "v",
         "showlegend": true,
         "type": "scatter",
         "x": {
          "bdata": "AAAA4Mcv+b8=",
          "dtype": "f8"
         },
         "xaxis": "x",
         "y": {
          "bdata": "AAAAQHPoH0A=",
          "dtype": "f8"
         },
         "yaxis": "y"
        },
        {
         "customdata": [
          [
           "BNB Bridge (BSC Token Hub)",
           "Forged Proofs/Bridge Exploit",
           "2022-10-06",
           "cross-chain-bridge forged-proofs iav-verification-bug bnb-chain-pause liquidity-drain centralization-concerns post-hack-measures funds-bridged-offchain"
          ]
         ],
         "hovertemplate": "exploit_type=%{customdata[1]}<br>x=%{x}<br>y=%{y}<br>total_value_extracted_usd=%{marker.size}<br>app=%{customdata[0]}<br>hack_date=%{customdata[2]}<br>tags_str=%{customdata[3]}<extra></extra>",
         "legendgroup": "Forged Proofs/Bridge Exploit",
         "marker": {
          "color": "#FF6692",
          "line": {
           "color": "white",
           "width": 0.5
          },
          "opacity": 0.85,
          "size": {
           "bdata": "AAAAQNN2wUE=",
           "dtype": "f8"
          },
          "sizemin": 3,
          "sizemode": "area",
          "sizeref": 3590432.5675,
          "symbol": "circle"
         },
         "mode": "markers",
         "name": "Forged Proofs/Bridge Exploit",
         "orientation": "v",
         "showlegend": true,
         "type": "scatter",
         "x": {
          "bdata": "AAAAgO7q+78=",
          "dtype": "f8"
         },
         "xaxis": "x",
         "y": {
          "bdata": "AAAAgCGnIkA=",
          "dtype": "f8"
         },
         "yaxis": "y"
        },
        {
         "customdata": [
          [
           "Bondly Finance",
           "Infinite Mint",
           "2021-07-16",
           "infinite-mint-exploit token-price-manipulation celebrity-partnership-impact community-trust-erosion defi-protocol-rekt market-dump-attack wallet-compromise-claim smart-contract-vulnerability"
          ],
          [
           "Paid Network",
           "Infinite Mint",
           "2021-03-01",
           "infinite-mint-exploit rugpull-event insider-job-suspected liquidity-pool-drain token-price-manipulation smart-contract-vulnerability founder-exploit eth-ecosystem-attack token-dump"
          ]
         ],
         "hovertemplate": "exploit_type=%{customdata[1]}<br>x=%{x}<br>y=%{y}<br>total_value_extracted_usd=%{marker.size}<br>app=%{customdata[0]}<br>hack_date=%{customdata[2]}<br>tags_str=%{customdata[3]}<extra></extra>",
         "legendgroup": "Infinite Mint",
         "marker": {
          "color": "#B6E880",
          "line": {
           "color": "white",
           "width": 0.5
          },
          "opacity": 0.85,
          "size": {
           "bdata": "AAAAALiBVkEAAAAAzL95QQ==",
           "dtype": "f8"
          },
          "sizemin": 3,
          "sizemode": "area",
          "sizeref": 3590432.5675,
          "symbol": "circle"
         },
         "mode": "markers",
         "name": "Infinite Mint",
         "orientation": "v",
         "showlegend": true,
         "type": "scatter",
         "x": {
          "bdata": "AAAAAIr/EsAAAAAAMaARwA==",
          "dtype": "f8"
         },
         "xaxis": "x",
         "y": {
          "bdata": "AAAAgPAnI0AAAACA5XkhQA==",
          "dtype": "f8"
         },
         "yaxis": "y"
        },
        {
         "customdata": [
          [
           "BonqDAO",
           "Price Oracle Manipulation",
           "2023-02-01",
           "oracle-manipulation polygon-lending-protocol tellor-price-feed inflated-collateral-borrow liquidation-attack stablecoin-depeg unaudited-contract allianceblock-collateral-damage"
          ],
          [
           "Cream Finance",
           "Price Oracle Manipulation",
           "2021-10-27",
           "defi-lending-exploit flashloan-attack oracle-price-manipulation yearn-ecosystem-incident recursive-borrow-loop token-price-exploit"
          ],
          [
           "Deus DAO",
           "Price Oracle Manipulation",
           "2022-04-29",
           "flash-loan-attack price-oracle-manipulation dei-lending-contract liquidation-exploit defi-hack collateral-value-manipulation multichain-funds-movement tornado-cash-mixer"
          ],
          [
           "Deus DAO",
           "Price Oracle Manipulation",
           "2022-04-28",
           "oracle-manipulation flash-loan solidly-exploit muon-oracle-bypass single-price-source inadequate-filtering defi-lending-exploit tornado-cash-funds fantom-ethereum-bridge protocol-insolvency"
          ],
          [
           "dYdX",
           "Price Oracle Manipulation",
           "2023-11-24",
           "yfi-price-manipulation insurance-fund-drain market-manipulation-attack targeted-liquidation-event single-actor-exploit dydx-v3-exploit defi-protocol-attack large-open-interest token-price-crash margin-trading-exploit"
          ],
          [
           "Elephant Money",
           "Price Oracle Manipulation",
           "2022-04-12",
           "flash-loan-attack price-oracle-manipulation stablecoin-exploit token-minting-vulnerability arbitrage-exploit elephant-token-price-drop audit-failure defi-exploit cross-chain-transfer tornado-cash-laundering"
          ],
          [
           "Fortress Protocol",
           "Price Oracle Manipulation",
           "2021-04-24",
           "oracle-manipulation governance-exploit malicious-proposal collateral-price-exploit bsc-defi-hack tornado-cash-outflow auditor-oversight protocol-drainage insufficient-governance-security"
          ],
          [
           "Hundred Finance",
           "Price Oracle Manipulation",
           "2023-04-15",
           "optimism-exploit flashloan-attack exchange-rate-manipulation compound-fork-vulnerability hwbbtc-contract-exploit lending-pool-drain smart-contract-vulnerability rounding-error-exploit"
          ],
          [
           "Indexed Finance",
           "Price Oracle Manipulation",
           "2021-10-14",
           "flash-loan-exploit oracle-manipulation defi-index-fund balancer-fork pool-value-extrapolation slippage-control-vulnerability token-weight-manipulation attacker-communication post-mortem-details insider-knowledge"
          ],
          [
           "Inverse Finance",
           "Price Oracle Manipulation",
           "2022-04-02",
           "oracle-price-manipulation sushiswap-twap-exploit low-liquidity-leverage mev-aware-attack flash-bot-protection defi-lending-protocol smart-contract-vulnerability economic-exploit third-party-oracle"
          ],
          [
           "Inverse Finance",
           "Price Oracle Manipulation",
           "2022-06-02",
           "oracle-price-manipulation flash-loan-attack yvcrv3crypto-exploit defi-lending-protocol bad-debt-creation collateral-price-manipulation multi-step-exploit tornado-cash-laundering"
          ],
          [
           "Lodestar Finance",
           "Price Oracle Manipulation",
           "2022-12-10",
           "plvglp-price-manipulation glporacle-vulnerability compound-fork-exploit flash-loan-attack arbitrum-defi-hack collateral-asset-drain glp-oracle-defect rekt-leaderboard-incident"
          ],
          [
           "Loopscale",
           "Price Oracle Manipulation",
           "2024-04-26",
           "oracle-price-manipulation undercollateralized-loans solana-lending-protocol wormhole-bridge-funds negotiated-bounty-return audit-warnings-ignored genesis-vaults-drained closed-source-reverse-engineered"
          ],
          [
           "Mango Markets",
           "Price Oracle Manipulation",
           "2022-10-11",
           "solana-defi-exploit market-manipulation low-liquidity-attack bad-debt-creation governance-vote-abuse ftx-funded-attacker perp-position-exploit"
          ],
          [
           "Merlin Labs",
           "Price Oracle Manipulation",
           "2021-05-20",
           "price-calculator-vulnerability band-mispricing-exploit second-exploit-in-a-day flawed-fix-attack compensation-plan-offered defi-protocol-hack bsc-exploit-series"
          ],
          [
           "Moola Market",
           "Price Oracle Manipulation",
           "2022-10-14",
           "price-oracle-manipulation collateral-asset-exploit loan-protocol-drain native-token-leverage partial-fund-return whitehat-actor celo-ecosystem-incident low-liquidity-exploit"
          ],
          [
           "Nirvana Finance",
           "Price Oracle Manipulation",
           "2022-07-27",
           "flash-loan-attack price-oracle-manipulation solana-ecosystem-exploit ana-token-inflation cross-chain-fund-transfer defi-protocol-rekt vulnerable-treasury-contract flash-loan-solend wormhole-bridge-exploit overpriced-token-cashout"
          ],
          [
           "Polter Finance",
           "Price Oracle Manipulation",
           "2023-10-26",
           "oracle-price-manipulation flash-loan-exploit unaudited-protocol spot-price-dependency copy-pasta-code defi-recklessness inflated-police-report spookyswap-v2-v3-oracle"
          ],
          [
           "Rho Market",
           "Price Oracle Manipulation",
           "2024-07-19",
           "oracle-misconfiguration mev-bot-arbitrage price-manipulation funds-returned human-error-deployment l2-centralization-debate"
          ],
          [
           "Saddle Finance",
           "Price Oracle Manipulation",
           "2023-04-20",
           "metapool-swap-exploit flash-loan-attack price-oracle-manipulation old-library-bug saddle-finance-rekt synthetix-susd-pool code-implementation-failure"
          ],
          [
           "Sovryn",
           "Price Oracle Manipulation",
           "2022-10-04",
           "rsk-blockchain-exploit defi-protocol-hack oracle-price-manipulation flashloan-attack legacy-lending-pools bitcoin-smart-contract external-call-vulnerability partial-fund-recovery"
          ],
          [
           "Vee Finance",
           "Price Oracle Manipulation",
           "2021-09-12",
           "price-oracle-manipulation leveraged-trading-exploit cross-chain-exploit avalanche-ethereum-bridge tornado-cash-funded slippage-check-bypass audit-recommendations-ignored bug-bounty-offer"
          ],
          [
           "Blizz Finance, Venus Protocol",
           "Price Oracle Manipulation",
           "2022-05-12",
           "luna-price-manipulation chainlink-oracle-exploit lending-protocol-drain collateral-valuation-issue defi-protocol-rekt market-crash-vulnerability no-failsafe-mechanism minimum-price-exploit"
          ],
          [
           "Warp Finance",
           "Price Oracle Manipulation",
           "2020-12-17",
           "flashloan-attack oracle-manipulation defi-hack uniswap-lp-exploit collateral-over-borrow stablecoin-loss underwater-borrow-position amm-based-oracle price-feed-manipulation lending-protocol-exploit"
          ]
         ],
         "hovertemplate": "exploit_type=%{customdata[1]}<br>x=%{x}<br>y=%{y}<br>total_value_extracted_usd=%{marker.size}<br>app=%{customdata[0]}<br>hack_date=%{customdata[2]}<br>tags_str=%{customdata[3]}<extra></extra>",
         "legendgroup": "Price Oracle Manipulation",
         "marker": {
          "color": "#FF97FF",
          "line": {
           "color": "white",
           "width": 0.5
          },
          "opacity": 0.85,
          "size": {
           "bdata": "AAAAADicnEEAAAAAkv6eQQAAAABg40ZBAAAAAPiOaUEAAAAAiCphQQAAAADsK3VBAAAAAGDjRkEAAAAAkDpcQQAAAACAhG5BAAAAADDBbUEAAAAAECBWQQAAAACoy1hBAAAAABAgVkEAAAAAC2ubQQAAAADgyCBBAAAAAJAFYEEAAAAA8LNKQQAAAAAMmGBBAAAAADicXEEAAAAAGPtkQQAAAADY8zBBAAAAAGQ2gEEAAAAARMp0QQAAAAAwwV1B",
           "dtype": "f8"
          },
          "sizemin": 3,
          "sizemode": "area",
          "sizeref": 3590432.5675,
          "symbol": "circle"
         },
         "mode": "markers",
         "name": "Price Oracle Manipulation",
         "orientation": "v",
         "showlegend": true,
         "type": "scatter",
         "x": {
          "bdata": "AAAAIJNPHcAAAAAgGYIawAAAAGAClhvAAAAAANgFHcAAAABgueoYwAAAAGCeyBjAAAAAAETOHMAAAABAoGQXwAAAAMACBxrAAAAAgPflG8AAAADgjjAdwAAAAOBQdBvAAAAAgPuzHcAAAAAArYIXwAAAAMCasxXAAAAA4KSbHMAAAACgudwZwAAAAMCKah3AAAAAwM9yHMAAAACg7n0ZwAAAAGCmzRjAAAAAgNWkGMAAAAAg4vwawAAAAAAejRvA",
          "dtype": "f8"
         },
         "xaxis": "x",
         "y": {
          "bdata": "AAAAAB+wJkAAAABAMk8nQAAAAGCyUCZAAAAAoAPjJkAAAAAAFcUkQAAAAODjtCVAAAAAIL8IJkAAAACAi28oQAAAAIBdriZAAAAAYK0/JkAAAACgOoMmQAAAAADUvyZAAAAAgPgrJkAAAABAopsnQAAAACBwwSZAAAAAoIHuJUAAAAAguyQmQAAAAKBKhyZAAAAAgLisJUAAAAAgjYsoQAAAAADM7iVAAAAAoPauIkAAAABAJu4kQAAAAIBkiidA",
          "dtype": "f8"
         },
         "yaxis": "y"
        },
        {
         "customdata": [
          [
           "BrincFi",
           "admin-key-compromise",
           "2021-12-14",
           "admin-key-exploit insider-threat privilege-escalation supply-chain-attack contract-upgrade-vulnerability developer-betrayal fund-drain tornado-cash-laundering legal-battle slow-justice"
          ]
         ],
         "hovertemplate": "exploit_type=%{customdata[1]}<br>x=%{x}<br>y=%{y}<br>total_value_extracted_usd=%{marker.size}<br>app=%{customdata[0]}<br>hack_date=%{customdata[2]}<br>tags_str=%{customdata[3]}<extra></extra>",
         "legendgroup": "admin-key-compromise",
         "marker": {
          "color": "#FECB52",
          "line": {
           "color": "white",
           "width": 0.5
          },
          "opacity": 0.85,
          "size": {
           "bdata": "AAAAAODIMEE=",
           "dtype": "f8"
          },
          "sizemin": 3,
          "sizemode": "area",
          "sizeref": 3590432.5675,
          "symbol": "circle"
         },
         "mode": "markers",
         "name": "admin-key-compromise",
         "orientation": "v",
         "showlegend": true,
         "type": "scatter",
         "x": {
          "bdata": "AAAAoPevDcA=",
          "dtype": "f8"
         },
         "xaxis": "x",
         "y": {
          "bdata": "AAAAwA5EIEA=",
          "dtype": "f8"
         },
         "yaxis": "y"
        },
        {
         "customdata": [
          [
           "ByBit",
           "Front-end Spoofing, Blind Signing, Smart Contract Vulnerability",
           "2024-07-26",
           "front-end-spoofing multisig-compromise blind-signing state-sponsored-hack cold-wallet-drain supply-chain-attack sophisticated-malware social-engineering"
          ]
         ],
         "hovertemplate": "exploit_type=%{customdata[1]}<br>x=%{x}<br>y=%{y}<br>total_value_extracted_usd=%{marker.size}<br>app=%{customdata[0]}<br>hack_date=%{customdata[2]}<br>tags_str=%{customdata[3]}<extra></extra>",
         "legendgroup": "Front-end Spoofing, Blind Signing, Smart Contract Vulnerability",
         "marker": {
          "color": "#636efa",
          "line": {
           "color": "white",
           "width": 0.5
          },
          "opacity": 0.85,
          "size": {
           "bdata": "AADAuJBm1UE=",
           "dtype": "f8"
          },
          "sizemin": 3,
          "sizemode": "area",
          "sizeref": 3590432.5675,
          "symbol": "circle"
         },
         "mode": "markers",
         "name": "Front-end Spoofing, Blind Signing, Smart Contract Vulnerability",
         "orientation": "v",
         "showlegend": true,
         "type": "scatter",
         "x": {
          "bdata": "AAAAABx8A8A=",
          "dtype": "f8"
         },
         "xaxis": "x",
         "y": {
          "bdata": "AAAAwH8GIEA=",
          "dtype": "f8"
         },
         "yaxis": "y"
        },
        {
         "customdata": [
          [
           "bZx",
           "phishing-attack",
           "2022-02-18",
           "phishing-exploit developer-wallet-compromise private-key-theft supply-chain-attack malicious-macro token-approval-drain cross-chain-fund-movement social-engineering-attack"
          ],
          [
           "WOO X",
           "phishing-attack",
           "2024-07-24",
           "phishing-attack hot-wallet-compromise development-environment-breach multi-chain-exploit targeted-attack insider-threat opsec-failure exchange-breach api-key-compromise supply-chain-attack"
          ]
         ],
         "hovertemplate": "exploit_type=%{customdata[1]}<br>x=%{x}<br>y=%{y}<br>total_value_extracted_usd=%{marker.size}<br>app=%{customdata[0]}<br>hack_date=%{customdata[2]}<br>tags_str=%{customdata[3]}<extra></extra>",
         "legendgroup": "phishing-attack",
         "marker": {
          "color": "#EF553B",
          "line": {
           "color": "white",
           "width": 0.5
          },
          "opacity": 0.85,
          "size": {
           "bdata": "AAAAAN45ikEAAAAAAADwPw==",
           "dtype": "f8"
          },
          "sizemin": 3,
          "sizemode": "area",
          "sizeref": 3590432.5675,
          "symbol": "circle"
         },
         "mode": "markers",
         "name": "phishing-attack",
         "orientation": "v",
         "showlegend": true,
         "type": "scatter",
         "x": {
          "bdata": "AAAAIMrGBsAAAACgq/YFwA==",
          "dtype": "f8"
         },
         "xaxis": "x",
         "y": {
          "bdata": "AAAA4NwWHkAAAABAzWMeQA==",
          "dtype": "f8"
         },
         "yaxis": "y"
        },
        {
         "customdata": [
          [
           "Cashio",
           "Infinite Mint / Incomplete Collateral Validation",
           "2022-03-22",
           "solana-infinite-mint collateral-validation-bypass fake-root-contract saber-swap-exploit lp-token-vulnerability partial-funds-return anonymous-attacker cross-chain-bridge"
          ]
         ],
         "hovertemplate": "exploit_type=%{customdata[1]}<br>x=%{x}<br>y=%{y}<br>total_value_extracted_usd=%{marker.size}<br>app=%{customdata[0]}<br>hack_date=%{customdata[2]}<br>tags_str=%{customdata[3]}<extra></extra>",
         "legendgroup": "Infinite Mint / Incomplete Collateral Validation",
         "marker": {
          "color": "#00cc96",
          "line": {
           "color": "white",
           "width": 0.5
          },
          "opacity": 0.85,
          "size": {
           "bdata": "AAAAAGDjhkE=",
           "dtype": "f8"
          },
          "sizemin": 3,
          "sizemode": "area",
          "sizeref": 3590432.5675,
          "symbol": "circle"
         },
         "mode": "markers",
         "name": "Infinite Mint / Incomplete Collateral Validation",
         "orientation": "v",
         "showlegend": true,
         "type": "scatter",
         "x": {
          "bdata": "AAAAILhIB8A=",
          "dtype": "f8"
         },
         "xaxis": "x",
         "y": {
          "bdata": "AAAAgP3KI0A=",
          "dtype": "f8"
         },
         "yaxis": "y"
        },
        {
         "customdata": [
          [
           "Kraken",
           "Bug Bounty Abuse",
           "2024-06-09",
           "bug-bounty-dispute security-firm-exploit account-balance-inflation corporate-wallet-drain vulnerability-disclosure-conflict ethical-hacking-controversy platform-security-breach tornado-cash-involvement"
          ]
         ],
         "hovertemplate": "exploit_type=%{customdata[1]}<br>x=%{x}<br>y=%{y}<br>total_value_extracted_usd=%{marker.size}<br>app=%{customdata[0]}<br>hack_date=%{customdata[2]}<br>tags_str=%{customdata[3]}<extra></extra>",
         "legendgroup": "Bug Bounty Abuse",
         "marker": {
          "color": "#ab63fa",
          "line": {
           "color": "white",
           "width": 0.5
          },
          "opacity": 0.85,
          "size": {
           "bdata": "AAAAAGDjRkE=",
           "dtype": "f8"
          },
          "sizemin": 3,
          "sizemode": "area",
          "sizeref": 3590432.5675,
          "symbol": "circle"
         },
         "mode": "markers",
         "name": "Bug Bounty Abuse",
         "orientation": "v",
         "showlegend": true,
         "type": "scatter",
         "x": {
          "bdata": "AAAAYMUkGMA=",
          "dtype": "f8"
         },
         "xaxis": "x",
         "y": {
          "bdata": "AAAAYASmIkA=",
          "dtype": "f8"
         },
         "yaxis": "y"
        },
        {
         "customdata": [
          [
           "Cetus Protocol",
           "Precision/Rounding Error",
           "2024-05-22",
           "math-error-exploit liquidity-pool-drain sui-ecosystem-risk amm-vulnerability precision-error-hack flashloan-attack wormhole-bridge validator-intervention bounty-offer-failed shared-library-bug"
          ]
         ],
         "hovertemplate": "exploit_type=%{customdata[1]}<br>x=%{x}<br>y=%{y}<br>total_value_extracted_usd=%{marker.size}<br>app=%{customdata[0]}<br>hack_date=%{customdata[2]}<br>tags_str=%{customdata[3]}<extra></extra>",
         "legendgroup": "Precision/Rounding Error",
         "marker": {
          "color": "#FFA15A",
          "line": {
           "color": "white",
           "width": 0.5
          },
          "opacity": 0.85,
          "size": {
           "bdata": "AAAAgGuVqkE=",
           "dtype": "f8"
          },
          "sizemin": 3,
          "sizemode": "area",
          "sizeref": 3590432.5675,
          "symbol": "circle"
         },
         "mode": "markers",
         "name": "Precision/Rounding Error",
         "orientation": "v",
         "showlegend": true,
         "type": "scatter",
         "x": {
          "bdata": "AAAAwBm9FMA=",
          "dtype": "f8"
         },
         "xaxis": "x",
         "y": {
          "bdata": "AAAAQBnFKEA=",
          "dtype": "f8"
         },
         "yaxis": "y"
        },
        {
         "customdata": [
          [
           "ChainSwap",
           "Proxy contract exploit",
           "2021-08-01",
           "cross-chain-bridge-exploit proxy-contract-vulnerability token-minting-exploit sloppy-auth-bypass multi-chain-attack defi-bridge-hack asset-depletion attacker-cashout suspicious-correspondence unlaundered-funds"
          ]
         ],
         "hovertemplate": "exploit_type=%{customdata[1]}<br>x=%{x}<br>y=%{y}<br>total_value_extracted_usd=%{marker.size}<br>app=%{customdata[0]}<br>hack_date=%{customdata[2]}<br>tags_str=%{customdata[3]}<extra></extra>",
         "legendgroup": "Proxy contract exploit",
         "marker": {
          "color": "#19d3f3",
          "line": {
           "color": "white",
           "width": 0.5
          },
          "opacity": 0.85,
          "size": {
           "bdata": "AAAAAODIUEE=",
           "dtype": "f8"
          },
          "sizemin": 3,
          "sizemode": "area",
          "sizeref": 3590432.5675,
          "symbol": "circle"
         },
         "mode": "markers",
         "name": "Proxy contract exploit",
         "orientation": "v",
         "showlegend": true,
         "type": "scatter",
         "x": {
          "bdata": "AAAAwM0jBcA=",
          "dtype": "f8"
         },
         "xaxis": "x",
         "y": {
          "bdata": "AAAA4FJqI0A=",
          "dtype": "f8"
         },
         "yaxis": "y"
        },
        {
         "customdata": [
          [
           "Conic Finance",
           "Read-only Reentrancy & Sandwich Attack",
           "2023-07-21",
           "read-only-reentrancy oracle-manipulation sandwich-attack omnipool-exploit frontrun-attack audit-miss eth-weth-confusion imbalanced-pool-drain"
          ]
         ],
         "hovertemplate": "exploit_type=%{customdata[1]}<br>x=%{x}<br>y=%{y}<br>total_value_extracted_usd=%{marker.size}<br>app=%{customdata[0]}<br>hack_date=%{customdata[2]}<br>tags_str=%{customdata[3]}<extra></extra>",
         "legendgroup": "Read-only Reentrancy & Sandwich Attack",
         "marker": {
          "color": "#FF6692",
          "line": {
           "color": "white",
           "width": 0.5
          },
          "opacity": 0.85,
          "size": {
           "bdata": "AAAAAJAFUEE=",
           "dtype": "f8"
          },
          "sizemin": 3,
          "sizemode": "area",
          "sizeref": 3590432.5675,
          "symbol": "circle"
         },
         "mode": "markers",
         "name": "Read-only Reentrancy & Sandwich Attack",
         "orientation": "v",
         "showlegend": true,
         "type": "scatter",
         "x": {
          "bdata": "AAAAoBifGsA=",
          "dtype": "f8"
         },
         "xaxis": "x",
         "y": {
          "bdata": "AAAAALo2KEA=",
          "dtype": "f8"
         },
         "yaxis": "y"
        },
        {
         "customdata": [
          [
           "Cork Protocol",
           "Improper Input Validation",
           "2024-05-28",
           "fake-token-manipulation exchange-rate-exploit arbitrary-redemption-assets unauthorized-function-call missing-input-validation out-of-scope-audit wsteth-drainage depeg-insurance-failure"
          ]
         ],
         "hovertemplate": "exploit_type=%{customdata[1]}<br>x=%{x}<br>y=%{y}<br>total_value_extracted_usd=%{marker.size}<br>app=%{customdata[0]}<br>hack_date=%{customdata[2]}<br>tags_str=%{customdata[3]}<extra></extra>",
         "legendgroup": "Improper Input Validation",
         "marker": {
          "color": "#B6E880",
          "line": {
           "color": "white",
           "width": 0.5
          },
          "opacity": 0.85,
          "size": {
           "bdata": "AAAAAGDjZkE=",
           "dtype": "f8"
          },
          "sizemin": 3,
          "sizemode": "area",
          "sizeref": 3590432.5675,
          "symbol": "circle"
         },
         "mode": "markers",
         "name": "Improper Input Validation",
         "orientation": "v",
         "showlegend": true,
         "type": "scatter",
         "x": {
          "bdata": "AAAAoE8ZEsA=",
          "dtype": "f8"
         },
         "xaxis": "x",
         "y": {
          "bdata": "AAAAwHZaJEA=",
          "dtype": "f8"
         },
         "yaxis": "y"
        },
        {
         "customdata": [
          [
           "Cover Protocol",
           "infinite-mint-vulnerability",
           "2020-12-28",
           "infinite-mint-exploit yield-farming-manipulation token-supply-inflation white-hat-pretender balancer-pool-exploit defi-insurance-vulnerability opsec-failure-attacker multisig-contract-exploit community-refund-plan"
          ]
         ],
         "hovertemplate": "exploit_type=%{customdata[1]}<br>x=%{x}<br>y=%{y}<br>total_value_extracted_usd=%{marker.size}<br>app=%{customdata[0]}<br>hack_date=%{customdata[2]}<br>tags_str=%{customdata[3]}<extra></extra>",
         "legendgroup": "infinite-mint-vulnerability",
         "marker": {
          "color": "#FF97FF",
          "line": {
           "color": "white",
           "width": 0.5
          },
          "opacity": 0.85,
          "size": {
           "bdata": "AAAAANjtYUE=",
           "dtype": "f8"
          },
          "sizemin": 3,
          "sizemode": "area",
          "sizeref": 3590432.5675,
          "symbol": "circle"
         },
         "mode": "markers",
         "name": "infinite-mint-vulnerability",
         "orientation": "v",
         "showlegend": true,
         "type": "scatter",
         "x": {
          "bdata": "AAAA4AyXEsA=",
          "dtype": "f8"
         },
         "xaxis": "x",
         "y": {
          "bdata": "AAAAQNe3I0A=",
          "dtype": "f8"
         },
         "yaxis": "y"
        },
        {
         "customdata": [
          [
           "Curio DAO",
           "Governance Manipulation",
           "2024-03-23",
           "voting-power-exploit makerdao-fork-vulnerability token-minting-scheme cross-chain-transfers governance-takeover defi-exploit smart-contract-vulnerability access-control-bypass"
          ]
         ],
         "hovertemplate": "exploit_type=%{customdata[1]}<br>x=%{x}<br>y=%{y}<br>total_value_extracted_usd=%{marker.size}<br>app=%{customdata[0]}<br>hack_date=%{customdata[2]}<br>tags_str=%{customdata[3]}<extra></extra>",
         "legendgroup": "Governance Manipulation",
         "marker": {
          "color": "#FECB52",
          "line": {
           "color": "white",
           "width": 0.5
          },
          "opacity": 0.85,
          "size": {
           "bdata": "AAAAAICEbkE=",
           "dtype": "f8"
          },
          "sizemin": 3,
          "sizemode": "area",
          "sizeref": 3590432.5675,
          "symbol": "circle"
         },
         "mode": "markers",
         "name": "Governance Manipulation",
         "orientation": "v",
         "showlegend": true,
         "type": "scatter",
         "x": {
          "bdata": "AAAAwDBvDMA=",
          "dtype": "f8"
         },
         "xaxis": "x",
         "y": {
          "bdata": "AAAAwPIpJEA=",
          "dtype": "f8"
         },
         "yaxis": "y"
        },
        {
         "customdata": [
          [
           "Curve Finance",
           "DNS Hijacking",
           "2022-08-09",
           "dns-hijacking front-end-exploit web2-dependency approval-harvesting nameserver-compromise centralized-infrastructure user-trust-exploit defi-security-lapse"
          ]
         ],
         "hovertemplate": "exploit_type=%{customdata[1]}<br>x=%{x}<br>y=%{y}<br>total_value_extracted_usd=%{marker.size}<br>app=%{customdata[0]}<br>hack_date=%{customdata[2]}<br>tags_str=%{customdata[3]}<extra></extra>",
         "legendgroup": "DNS Hijacking",
         "marker": {
          "color": "#636efa",
          "line": {
           "color": "white",
           "width": 0.5
          },
          "opacity": 0.85,
          "size": {
           "bdata": "AAAAADCMIUE=",
           "dtype": "f8"
          },
          "sizemin": 3,
          "sizemode": "area",
          "sizeref": 3590432.5675,
          "symbol": "circle"
         },
         "mode": "markers",
         "name": "DNS Hijacking",
         "orientation": "v",
         "showlegend": true,
         "type": "scatter",
         "x": {
          "bdata": "AAAAwKsGEMA=",
          "dtype": "f8"
         },
         "xaxis": "x",
         "y": {
          "bdata": "AAAAALxsIkA=",
          "dtype": "f8"
         },
         "yaxis": "y"
        },
        {
         "customdata": [
          [
           "Curve Finance (and integrated protocols)",
           "Compiler Bug/Re-entrancy",
           "2023-07-30",
           "vyper-compiler-bug reentrancy-vulnerability curve-pools-drain defi-liquidation-risk lp-token-manipulation whitehat-intervention-attempt critical-infrastructure-exploit storage-slot-misalignment"
          ]
         ],
         "hovertemplate": "exploit_type=%{customdata[1]}<br>x=%{x}<br>y=%{y}<br>total_value_extracted_usd=%{marker.size}<br>app=%{customdata[0]}<br>hack_date=%{customdata[2]}<br>tags_str=%{customdata[3]}<extra></extra>",
         "legendgroup": "Compiler Bug/Re-entrancy",
         "marker": {
          "color": "#EF553B",
          "line": {
           "color": "white",
           "width": 0.5
          },
          "opacity": 0.85,
          "size": {
           "bdata": "AAAAgLyFkEE=",
           "dtype": "f8"
          },
          "sizemin": 3,
          "sizemode": "area",
          "sizeref": 3590432.5675,
          "symbol": "circle"
         },
         "mode": "markers",
         "name": "Compiler Bug/Re-entrancy",
         "orientation": "v",
         "showlegend": true,
         "type": "scatter",
         "x": {
          "bdata": "AAAAQOXsEMA=",
          "dtype": "f8"
         },
         "xaxis": "x",
         "y": {
          "bdata": "AAAAQCrXJkA=",
          "dtype": "f8"
         },
         "yaxis": "y"
        },
        {
         "customdata": [
          [
           "DeFiLabs",
           "Backdoor Function",
           "2023-08-01",
           "bsc-rugpull backdoor-drain staking-contract-exploit centralization-vulnerability audit-circumvention shitcoin-casino"
          ]
         ],
         "hovertemplate": "exploit_type=%{customdata[1]}<br>x=%{x}<br>y=%{y}<br>total_value_extracted_usd=%{marker.size}<br>app=%{customdata[0]}<br>hack_date=%{customdata[2]}<br>tags_str=%{customdata[3]}<extra></extra>",
         "legendgroup": "Backdoor Function",
         "marker": {
          "color": "#00cc96",
          "line": {
           "color": "white",
           "width": 0.5
          },
          "opacity": 0.85,
          "size": {
           "bdata": "AAAAAABqOEE=",
           "dtype": "f8"
          },
          "sizemin": 3,
          "sizemode": "area",
          "sizeref": 3590432.5675,
          "symbol": "circle"
         },
         "mode": "markers",
         "name": "Backdoor Function",
         "orientation": "v",
         "showlegend": true,
         "type": "scatter",
         "x": {
          "bdata": "AAAA4NTRFMA=",
          "dtype": "f8"
         },
         "xaxis": "x",
         "y": {
          "bdata": "AAAAQAsLJ0A=",
          "dtype": "f8"
         },
         "yaxis": "y"
        },
        {
         "customdata": [
          [
           "DeltaPrime",
           "unchecked-input-validation",
           "2023-11-20",
           "unchecked-input-exploit arbitrary-input-vulnerability flash-loan-attack cross-chain-exploit yield-farming-stolen-funds periphery-adaptor-flaw avalanche-arbitrum-hack multiple-vulnerabilities-combined repeated-protocol-exploit security-audit-ignored"
          ]
         ],
         "hovertemplate": "exploit_type=%{customdata[1]}<br>x=%{x}<br>y=%{y}<br>total_value_extracted_usd=%{marker.size}<br>app=%{customdata[0]}<br>hack_date=%{customdata[2]}<br>tags_str=%{customdata[3]}<extra></extra>",
         "legendgroup": "unchecked-input-validation",
         "marker": {
          "color": "#ab63fa",
          "line": {
           "color": "white",
           "width": 0.5
          },
          "opacity": 0.85,
          "size": {
           "bdata": "AAAAAFSAUkE=",
           "dtype": "f8"
          },
          "sizemin": 3,
          "sizemode": "area",
          "sizeref": 3590432.5675,
          "symbol": "circle"
         },
         "mode": "markers",
         "name": "unchecked-input-validation",
         "orientation": "v",
         "showlegend": true,
         "type": "scatter",
         "x": {
          "bdata": "AAAAwBkSE8A=",
          "dtype": "f8"
         },
         "xaxis": "x",
         "y": {
          "bdata": "AAAAIIpCJkA=",
          "dtype": "f8"
         },
         "yaxis": "y"
        },
        {
         "customdata": [
          [
           "Deus DAO",
           "Improper Access Control",
           "2023-03-24",
           "burnfrom-misconfiguration parameter-order-bug multichain-exploit stablecoin-depeg public-burn-vulnerability arbitrum-bsc-ethereum frontrun-recovery triply-hacked-protocol smart-contract-bug defi-exploit"
          ],
          [
           "Gym Network",
           "Improper Access Control",
           "2022-06-10",
           "caller-verification-bypass fake-deposit-exploit yield-aggregator-hack new-feature-vulnerability unaudited-code-exploit post-audit-vulnerability smart-contract-exploit stolen-token-dump defi-protocol-hack bnb-chain-exploit"
          ]
         ],
         "hovertemplate": "exploit_type=%{customdata[1]}<br>x=%{x}<br>y=%{y}<br>total_value_extracted_usd=%{marker.size}<br>app=%{customdata[0]}<br>hack_date=%{customdata[2]}<br>tags_str=%{customdata[3]}<extra></extra>",
         "legendgroup": "Improper Access Control",
         "marker": {
          "color": "#FFA15A",
          "line": {
           "color": "white",
           "width": 0.5
          },
          "opacity": 0.85,
          "size": {
           "bdata": "AAAAAKjLWEEAAAAAkAVAQQ==",
           "dtype": "f8"
          },
          "sizemin": 3,
          "sizemode": "area",
          "sizeref": 3590432.5675,
          "symbol": "circle"
         },
         "mode": "markers",
         "name": "Improper Access Control",
         "orientation": "v",
         "showlegend": true,
         "type": "scatter",
         "x": {
          "bdata": "AAAAYNBvFcAAAADAqjsSwA==",
          "dtype": "f8"
         },
         "xaxis": "x",
         "y": {
          "bdata": "AAAAADq6JEAAAADgE2wkQA==",
          "dtype": "f8"
         },
         "yaxis": "y"
        },
        {
         "customdata": [
          [
           "DMM Bitcoin",
           "private key compromise",
           "2024-05-31",
           "exchange-hot-wallet private-key-compromise address-spoofing centralized-exchange-exploit major-bitcoin-theft japan-crypto-incident security-incident-investigation bounty-program-recovery"
          ],
          [
           "Kucoin",
           "private key compromise",
           "2020-09-25",
           "exchange-hot-wallet private-key-compromise erc20-token-freeze centralized-response multiple-asset-theft attacker-laundering-fail employee-insider-attack btc-theft-included"
          ],
          [
           "Multichain",
           "private key compromise",
           "2023-07-07",
           "cross-chain-bridge private-key-compromise fantom-bridge moonriver-bridge multi-token-contracts back-end-breach spearphishing-attack malicious-insider possible-whitehat"
          ],
          [
           "Orange Finance",
           "private key compromise",
           "2025-01-01",
           "private-key-compromise admin-key-exploit contract-upgrade-attack access-control-failure multi-sig-misconfiguration operational-security-lapse arbitrum-defi-hack funds-drain token-sweep approval-exploitation"
          ],
          [
           "Roll",
           "private key compromise",
           "2021-03-14",
           "private-key-compromise inside-job-possibility social-token-hot-wallet liquidity-pool-drain defi-influencer-funds immediate-token-dump tornado-swap-exit fixed-supply-vulnerability poor-opsec-management lack-of-communication"
          ],
          [
           "Tapioca DAO",
           "private key compromise",
           "2024-06-25",
           "private-key-compromise social-engineering-attack vesting-contract-exploit stablecoin-infinite-mint multi-chain-fund-drain attacker-hacked-back north-korean-hackers-suspected phishing-malware-vector"
          ],
          [
           "Solana Wallet Ecosystem (Phantom, Slope)",
           "private key compromise",
           "2022-08-02",
           "solana-wallet-drain private-key-compromise mobile-wallet-exploit supply-chain-attack phantom-wallet-hack slope-wallet-hack user-funds-stolen cross-chain-vulnerability"
          ]
         ],
         "hovertemplate": "exploit_type=%{customdata[1]}<br>x=%{x}<br>y=%{y}<br>total_value_extracted_usd=%{marker.size}<br>app=%{customdata[0]}<br>hack_date=%{customdata[2]}<br>tags_str=%{customdata[3]}<extra></extra>",
         "legendgroup": "private key compromise",
         "marker": {
          "color": "#19d3f3",
          "line": {
           "color": "white",
           "width": 0.5
          },
          "opacity": 0.85,
          "size": {
           "bdata": "AAAAAKweskEAAAAAKnWFQQAAAIC9HJ5BAAAAANi9KUEAAAAAaL5VQQAAAADgyFBBAAAAAMg3VEE=",
           "dtype": "f8"
          },
          "sizemin": 3,
          "sizemode": "area",
          "sizeref": 3590432.5675,
          "symbol": "circle"
         },
         "mode": "markers",
         "name": "private key compromise",
         "orientation": "v",
         "showlegend": true,
         "type": "scatter",
         "x": {
          "bdata": "AAAA4JMZ9b8AAABAxw7xvwAAAIBUhwXAAAAAYEZiC8AAAACA87gKwAAAAABqnAXAAAAAwKdkBMA=",
          "dtype": "f8"
         },
         "xaxis": "x",
         "y": {
          "bdata": "AAAA4B7nHUAAAABAFHoeQAAAAGClnSJAAAAA4GYuIUAAAACgJUkgQAAAAKCDWB5AAAAAwLPsIEA=",
          "dtype": "f8"
         },
         "yaxis": "y"
        },
        {
         "customdata": [
          [
           "EasyFi",
           "Compromised Mnemonic Keys",
           "2021-04-19",
           "mnemonic-key-compromise admin-key-theft poor-opsec single-point-failure polygon-network-hack treasury-drain liquidity-loss insufficient-security-measures"
          ]
         ],
         "hovertemplate": "exploit_type=%{customdata[1]}<br>x=%{x}<br>y=%{y}<br>total_value_extracted_usd=%{marker.size}<br>app=%{customdata[0]}<br>hack_date=%{customdata[2]}<br>tags_str=%{customdata[3]}<extra></extra>",
         "legendgroup": "Compromised Mnemonic Keys",
         "marker": {
          "color": "#FF6692",
          "line": {
           "color": "white",
           "width": 0.5
          },
          "opacity": 0.85,
          "size": {
           "bdata": "AAAAACYijEE=",
           "dtype": "f8"
          },
          "sizemin": 3,
          "sizemode": "area",
          "sizeref": 3590432.5675,
          "symbol": "circle"
         },
         "mode": "markers",
         "name": "Compromised Mnemonic Keys",
         "orientation": "v",
         "showlegend": true,
         "type": "scatter",
         "x": {
          "bdata": "AAAAAL8LCsA=",
          "dtype": "f8"
         },
         "xaxis": "x",
         "y": {
          "bdata": "AAAAwGmCIEA=",
          "dtype": "f8"
         },
         "yaxis": "y"
        },
        {
         "customdata": [
          [
           "Eminence Finance",
           "Flash Loan Manipulation",
           "2020-09-28",
           "flash-loan-exploit price-oracle-manipulation unaudited-contract bonding-curve-exploit arbitrage-attack andre-cronje-project defi-exploit partial-funds-return"
          ],
          [
           "Origin Protocol",
           "Flash Loan Manipulation",
           "2020-11-17",
           "flashloan-attack faketoken-exploit re-entrancy defi-hack protocol-exploit value-extraction smart-contract-vulnerability economic-manipulation"
          ]
         ],
         "hovertemplate": "exploit_type=%{customdata[1]}<br>x=%{x}<br>y=%{y}<br>total_value_extracted_usd=%{marker.size}<br>app=%{customdata[0]}<br>hack_date=%{customdata[2]}<br>tags_str=%{customdata[3]}<extra></extra>",
         "legendgroup": "Flash Loan Manipulation",
         "marker": {
          "color": "#B6E880",
          "line": {
           "color": "white",
           "width": 0.5
          },
          "opacity": 0.85,
          "size": {
           "bdata": "AAAAADicbEEAAAAAgIReQQ==",
           "dtype": "f8"
          },
          "sizemin": 3,
          "sizemode": "area",
          "sizeref": 3590432.5675,
          "symbol": "circle"
         },
         "mode": "markers",
         "name": "Flash Loan Manipulation",
         "orientation": "v",
         "showlegend": true,
         "type": "scatter",
         "x": {
          "bdata": "AAAAoLM5GsAAAAAgC6wWwA==",
          "dtype": "f8"
         },
         "xaxis": "x",
         "y": {
          "bdata": "AAAAAA2pJ0AAAADgXAwlQA==",
          "dtype": "f8"
         },
         "yaxis": "y"
        },
        {
         "customdata": [
          [
           "EraLend",
           "Read-only Reentrancy",
           "2023-07-28",
           "read-only-reentrancy oracle-price-manipulation syncswap-code-reuse improper-implementation ignored-developer-comment lending-protocol-exploit zksync-era-hack lp-token-burning audit-scope-limitation defi-vulnerability"
          ]
         ],
         "hovertemplate": "exploit_type=%{customdata[1]}<br>x=%{x}<br>y=%{y}<br>total_value_extracted_usd=%{marker.size}<br>app=%{customdata[0]}<br>hack_date=%{customdata[2]}<br>tags_str=%{customdata[3]}<extra></extra>",
         "legendgroup": "Read-only Reentrancy",
         "marker": {
          "color": "#FF97FF",
          "line": {
           "color": "white",
           "width": 0.5
          },
          "opacity": 0.85,
          "size": {
           "bdata": "AAAAAKDwSUE=",
           "dtype": "f8"
          },
          "sizemin": 3,
          "sizemode": "area",
          "sizeref": 3590432.5675,
          "symbol": "circle"
         },
         "mode": "markers",
         "name": "Read-only Reentrancy",
         "orientation": "v",
         "showlegend": true,
         "type": "scatter",
         "x": {
          "bdata": "AAAAQGtnGMA=",
          "dtype": "f8"
         },
         "xaxis": "x",
         "y": {
          "bdata": "AAAAgDRvJUA=",
          "dtype": "f8"
         },
         "yaxis": "y"
        },
        {
         "customdata": [
          [
           "ETHTrustFund",
           "Exit Scam",
           "2024-07-21",
           "base-network-rugpull defi-exit-scam ohm-fork-fraud treasury-drain social-engineering-scam token-pump-dump funds-bridged-ethereum tornado-cash-laundering"
          ],
          [
           "Hope Finance",
           "Exit Scam",
           "2023-03-27",
           "tomb-fork-scam multisig-rugpull fake-router-exploit arbitrum-defi-drain kyc-fraud-scheme funds-bridged-tornado defi-exit-scam auditor-negligence team-member-insider"
          ]
         ],
         "hovertemplate": "exploit_type=%{customdata[1]}<br>x=%{x}<br>y=%{y}<br>total_value_extracted_usd=%{marker.size}<br>app=%{customdata[0]}<br>hack_date=%{customdata[2]}<br>tags_str=%{customdata[3]}<extra></extra>",
         "legendgroup": "Exit Scam",
         "marker": {
          "color": "#FECB52",
          "line": {
           "color": "white",
           "width": 0.5
          },
          "opacity": 0.85,
          "size": {
           "bdata": "AAAAAJAFQEEAAAAAoGE8QQ==",
           "dtype": "f8"
          },
          "sizemin": 3,
          "sizemode": "area",
          "sizeref": 3590432.5675,
          "symbol": "circle"
         },
         "mode": "markers",
         "name": "Exit Scam",
         "orientation": "v",
         "showlegend": true,
         "type": "scatter",
         "x": {
          "bdata": "AAAAQC71EcAAAABgj/oSwA==",
          "dtype": "f8"
         },
         "xaxis": "x",
         "y": {
          "bdata": "AAAA4BuqH0AAAADgpwYgQA==",
          "dtype": "f8"
         },
         "yaxis": "y"
        },
        {
         "customdata": [
          [
           "Furucombo",
           "Delegatecall Vulnerability",
           "2021-07-18",
           "delegatecall-exploit infinite-approval proxy-contract-manipulation evil-contract storage-overwrite aave-v2-impersonation token-drain defi-hack"
          ]
         ],
         "hovertemplate": "exploit_type=%{customdata[1]}<br>x=%{x}<br>y=%{y}<br>total_value_extracted_usd=%{marker.size}<br>app=%{customdata[0]}<br>hack_date=%{customdata[2]}<br>tags_str=%{customdata[3]}<extra></extra>",
         "legendgroup": "Delegatecall Vulnerability",
         "marker": {
          "color": "#636efa",
          "line": {
           "color": "white",
           "width": 0.5
          },
          "opacity": 0.85,
          "size": {
           "bdata": "AAAAAPCzakE=",
           "dtype": "f8"
          },
          "sizemin": 3,
          "sizemode": "area",
          "sizeref": 3590432.5675,
          "symbol": "circle"
         },
         "mode": "markers",
         "name": "Delegatecall Vulnerability",
         "orientation": "v",
         "showlegend": true,
         "type": "scatter",
         "x": {
          "bdata": "AAAAAKLRDsA=",
          "dtype": "f8"
         },
         "xaxis": "x",
         "y": {
          "bdata": "AAAAIL52JEA=",
          "dtype": "f8"
         },
         "yaxis": "y"
        },
        {
         "customdata": [
          [
           "Gamma Strategies",
           "flash loan price manipulation",
           "2024-02-12",
           "concentrated-liquidity-exploit flashloan-price-manipulation lp-token-inflation high-price-change-threshold arbitrum-protocol-hack deposit-pause-mitigation tornado-cash-funded"
          ]
         ],
         "hovertemplate": "exploit_type=%{customdata[1]}<br>x=%{x}<br>y=%{y}<br>total_value_extracted_usd=%{marker.size}<br>app=%{customdata[0]}<br>hack_date=%{customdata[2]}<br>tags_str=%{customdata[3]}<extra></extra>",
         "legendgroup": "flash loan price manipulation",
         "marker": {
          "color": "#EF553B",
          "line": {
           "color": "white",
           "width": 0.5
          },
          "opacity": 0.85,
          "size": {
           "bdata": "AAAAAIgqUUE=",
           "dtype": "f8"
          },
          "sizemin": 3,
          "sizemode": "area",
          "sizeref": 3590432.5675,
          "symbol": "circle"
         },
         "mode": "markers",
         "name": "flash loan price manipulation",
         "orientation": "v",
         "showlegend": true,
         "type": "scatter",
         "x": {
          "bdata": "AAAA4KcEGsA=",
          "dtype": "f8"
         },
         "xaxis": "x",
         "y": {
          "bdata": "AAAAQGafJUA=",
          "dtype": "f8"
         },
         "yaxis": "y"
        },
        {
         "customdata": [
          [
           "Grand Base",
           "private-key-compromise",
           "2024-04-15",
           "private-key-leak deployer-wallet-exploit token-mint-attack liquidity-pool-drain base-chain-incident real-world-asset-protocol missing-security-audit"
          ]
         ],
         "hovertemplate": "exploit_type=%{customdata[1]}<br>x=%{x}<br>y=%{y}<br>total_value_extracted_usd=%{marker.size}<br>app=%{customdata[0]}<br>hack_date=%{customdata[2]}<br>tags_str=%{customdata[3]}<extra></extra>",
         "legendgroup": "private-key-compromise",
         "marker": {
          "color": "#00cc96",
          "line": {
           "color": "white",
           "width": 0.5
          },
          "opacity": 0.85,
          "size": {
           "bdata": "AAAAAICEPkE=",
           "dtype": "f8"
          },
          "sizemin": 3,
          "sizemode": "area",
          "sizeref": 3590432.5675,
          "symbol": "circle"
         },
         "mode": "markers",
         "name": "private-key-compromise",
         "orientation": "v",
         "showlegend": true,
         "type": "scatter",
         "x": {
          "bdata": "AAAAoOebDMA=",
          "dtype": "f8"
         },
         "xaxis": "x",
         "y": {
          "bdata": "AAAAIJaEIUA=",
          "dtype": "f8"
         },
         "yaxis": "y"
        },
        {
         "customdata": [
          [
           "Harvest Finance",
           "Flash Loan Arbitrage",
           "2020-10-26",
           "flash-loan-exploit price-oracle-manipulation stablecoin-pools-drain arbitrage-attack liquidity-pool-exploit defi-hack contract-vulnerability yield-farming-exploit"
          ]
         ],
         "hovertemplate": "exploit_type=%{customdata[1]}<br>x=%{x}<br>y=%{y}<br>total_value_extracted_usd=%{marker.size}<br>app=%{customdata[0]}<br>hack_date=%{customdata[2]}<br>tags_str=%{customdata[3]}<extra></extra>",
         "legendgroup": "Flash Loan Arbitrage",
         "marker": {
          "color": "#ab63fa",
          "line": {
           "color": "white",
           "width": 0.5
          },
          "opacity": 0.85,
          "size": {
           "bdata": "AAAAAITXd0E=",
           "dtype": "f8"
          },
          "sizemin": 3,
          "sizemode": "area",
          "sizeref": 3590432.5675,
          "symbol": "circle"
         },
         "mode": "markers",
         "name": "Flash Loan Arbitrage",
         "orientation": "v",
         "showlegend": true,
         "type": "scatter",
         "x": {
          "bdata": "AAAAANJkGcA=",
          "dtype": "f8"
         },
         "xaxis": "x",
         "y": {
          "bdata": "AAAAoCDCJ0A=",
          "dtype": "f8"
         },
         "yaxis": "y"
        },
        {
         "customdata": [
          [
           "HECO Bridge, HTX",
           "Compromised Operator Account",
           "2023-11-22",
           "heco-bridge-exploit htx-hot-wallet-drain justin-sun-projects operator-account-compromise cross-chain-bridge-hack multiple-asset-theft"
          ]
         ],
         "hovertemplate": "exploit_type=%{customdata[1]}<br>x=%{x}<br>y=%{y}<br>total_value_extracted_usd=%{marker.size}<br>app=%{customdata[0]}<br>hack_date=%{customdata[2]}<br>tags_str=%{customdata[3]}<extra></extra>",
         "legendgroup": "Compromised Operator Account",
         "marker": {
          "color": "#FFA15A",
          "line": {
           "color": "white",
           "width": 0.5
          },
          "opacity": 0.85,
          "size": {
           "bdata": "AAAAgJWgl0E=",
           "dtype": "f8"
          },
          "sizemin": 3,
          "sizemode": "area",
          "sizeref": 3590432.5675,
          "symbol": "circle"
         },
         "mode": "markers",
         "name": "Compromised Operator Account",
         "orientation": "v",
         "showlegend": true,
         "type": "scatter",
         "x": {
          "bdata": "AAAAwPpg9r8=",
          "dtype": "f8"
         },
         "xaxis": "x",
         "y": {
          "bdata": "AAAAQAkyIUA=",
          "dtype": "f8"
         },
         "yaxis": "y"
        },
        {
         "customdata": [
          [
           "Hedera Ecosystem (Pangolin, HeliSwap, Hashport)",
           "Smart Contract Vulnerability",
           "2023-03-10",
           "smart-contract-exploit cross-chain-exploit liquidity-pool-drain wrapped-token-burn network-pause hedera-token-service-vulnerability hashgraph-attack multi-dex-exploit arbitrary-token-burn bridge-deactivation"
          ]
         ],
         "hovertemplate": "exploit_type=%{customdata[1]}<br>x=%{x}<br>y=%{y}<br>total_value_extracted_usd=%{marker.size}<br>app=%{customdata[0]}<br>hack_date=%{customdata[2]}<br>tags_str=%{customdata[3]}<extra></extra>",
         "legendgroup": "Smart Contract Vulnerability",
         "marker": {
          "color": "#19d3f3",
          "line": {
           "color": "white",
           "width": 0.5
          },
          "opacity": 0.85,
          "size": {
           "bdata": "AAAAAOBuH0E=",
           "dtype": "f8"
          },
          "sizemin": 3,
          "sizemode": "area",
          "sizeref": 3590432.5675,
          "symbol": "circle"
         },
         "mode": "markers",
         "name": "Smart Contract Vulnerability",
         "orientation": "v",
         "showlegend": true,
         "type": "scatter",
         "x": {
          "bdata": "AAAAANtLF8A=",
          "dtype": "f8"
         },
         "xaxis": "x",
         "y": {
          "bdata": "AAAAoEDPI0A=",
          "dtype": "f8"
         },
         "yaxis": "y"
        },
        {
         "customdata": [
          [
           "HTX (formerly Huobi)",
           "unknown",
           "2023-09-24",
           "centralized-exchange-hack hot-wallet-compromise exchange-security-breach partial-fund-drain attacker-identified bounty-offer-made real-time-monitoring asian-market-incident huobi-rebranded-htx insufficient-security-systems"
          ]
         ],
         "hovertemplate": "exploit_type=%{customdata[1]}<br>x=%{x}<br>y=%{y}<br>total_value_extracted_usd=%{marker.size}<br>app=%{customdata[0]}<br>hack_date=%{customdata[2]}<br>tags_str=%{customdata[3]}<extra></extra>",
         "legendgroup": "unknown",
         "marker": {
          "color": "#FF6692",
          "line": {
           "color": "white",
           "width": 0.5
          },
          "opacity": 0.85,
          "size": {
           "bdata": "AAAAANgiXkE=",
           "dtype": "f8"
          },
          "sizemin": 3,
          "sizemode": "area",
          "sizeref": 3590432.5675,
          "symbol": "circle"
         },
         "mode": "markers",
         "name": "unknown",
         "orientation": "v",
         "showlegend": true,
         "type": "scatter",
         "x": {
          "bdata": "AAAAYCjy878=",
          "dtype": "f8"
         },
         "xaxis": "x",
         "y": {
          "bdata": "AAAAgAZjHkA=",
          "dtype": "f8"
         },
         "yaxis": "y"
        },
        {
         "customdata": [
          [
           "Hypr Network Bridge",
           "Re-initialization Vulnerability",
           "2023-11-29",
           "bridge-exploit op-stack-vulnerability re-initialization-bug unpatched-codebase l2-bridge-hack defi-security-lapse post-launch-exploit forked-code-risk"
          ]
         ],
         "hovertemplate": "exploit_type=%{customdata[1]}<br>x=%{x}<br>y=%{y}<br>total_value_extracted_usd=%{marker.size}<br>app=%{customdata[0]}<br>hack_date=%{customdata[2]}<br>tags_str=%{customdata[3]}<extra></extra>",
         "legendgroup": "Re-initialization Vulnerability",
         "marker": {
          "color": "#B6E880",
          "line": {
           "color": "white",
           "width": 0.5
          },
          "opacity": 0.85,
          "size": {
           "bdata": "AAAAAADbCkE=",
           "dtype": "f8"
          },
          "sizemin": 3,
          "sizemode": "area",
          "sizeref": 3590432.5675,
          "symbol": "circle"
         },
         "mode": "markers",
         "name": "Re-initialization Vulnerability",
         "orientation": "v",
         "showlegend": true,
         "type": "scatter",
         "x": {
          "bdata": "AAAAAJizEMA=",
          "dtype": "f8"
         },
         "xaxis": "x",
         "y": {
          "bdata": "AAAAgCPgJ0A=",
          "dtype": "f8"
         },
         "yaxis": "y"
        },
        {
         "customdata": [
          [
           "Indodax",
           "Withdrawal System Breach",
           "2024-09-10",
           "centralized-exchange-hack hot-wallet-compromise multi-chain-fund-siphon sophisticated-hacking-group withdrawal-system-exploit large-scale-crypto-theft security-protocol-failure"
          ]
         ],
         "hovertemplate": "exploit_type=%{customdata[1]}<br>x=%{x}<br>y=%{y}<br>total_value_extracted_usd=%{marker.size}<br>app=%{customdata[0]}<br>hack_date=%{customdata[2]}<br>tags_str=%{customdata[3]}<extra></extra>",
         "legendgroup": "Withdrawal System Breach",
         "marker": {
          "color": "#FF97FF",
          "line": {
           "color": "white",
           "width": 0.5
          },
          "opacity": 0.85,
          "size": {
           "bdata": "AAAAADoNeEE=",
           "dtype": "f8"
          },
          "sizemin": 3,
          "sizemode": "area",
          "sizeref": 3590432.5675,
          "symbol": "circle"
         },
         "mode": "markers",
         "name": "Withdrawal System Breach",
         "orientation": "v",
         "showlegend": true,
         "type": "scatter",
         "x": {
          "bdata": "AAAA4HIo9b8=",
          "dtype": "f8"
         },
         "xaxis": "x",
         "y": {
          "bdata": "AAAAYOH8H0A=",
          "dtype": "f8"
         },
         "yaxis": "y"
        },
        {
         "customdata": [
          [
           "Ionic Money",
           "Social Engineering",
           "2024-02-04",
           "social-engineering fake-collateral counterfeit-token supply-manipulation tornado-cash-mixer defi-exploit mode-network rebranding-failure oracle-manipulation"
          ]
         ],
         "hovertemplate": "exploit_type=%{customdata[1]}<br>x=%{x}<br>y=%{y}<br>total_value_extracted_usd=%{marker.size}<br>app=%{customdata[0]}<br>hack_date=%{customdata[2]}<br>tags_str=%{customdata[3]}<extra></extra>",
         "legendgroup": "Social Engineering",
         "marker": {
          "color": "#FECB52",
          "line": {
           "color": "white",
           "width": 0.5
          },
          "opacity": 0.85,
          "size": {
           "bdata": "AAAAgAd9WkE=",
           "dtype": "f8"
          },
          "sizemin": 3,
          "sizemode": "area",
          "sizeref": 3590432.5675,
          "symbol": "circle"
         },
         "mode": "markers",
         "name": "Social Engineering",
         "orientation": "v",
         "showlegend": true,
         "type": "scatter",
         "x": {
          "bdata": "AAAAYON4HcA=",
          "dtype": "f8"
         },
         "xaxis": "x",
         "y": {
          "bdata": "AAAAYLSkJkA=",
          "dtype": "f8"
         },
         "yaxis": "y"
        },
        {
         "customdata": [
          [
           "Jimbo’s Protocol",
           "flash-loan",
           "2023-05-28",
           "arbitrum-flash-loan slippage-control-bug price-manipulation rebalance-exploit liquidity-drain weth-theft semi-stablecoin-exploit contract-vulnerability"
          ]
         ],
         "hovertemplate": "exploit_type=%{customdata[1]}<br>x=%{x}<br>y=%{y}<br>total_value_extracted_usd=%{marker.size}<br>app=%{customdata[0]}<br>hack_date=%{customdata[2]}<br>tags_str=%{customdata[3]}<extra></extra>",
         "legendgroup": "flash-loan",
         "marker": {
          "color": "#636efa",
          "line": {
           "color": "white",
           "width": 0.5
          },
          "opacity": 0.85,
          "size": {
           "bdata": "AAAAADicXEE=",
           "dtype": "f8"
          },
          "sizemin": 3,
          "sizemode": "area",
          "sizeref": 3590432.5675,
          "symbol": "circle"
         },
         "mode": "markers",
         "name": "flash-loan",
         "orientation": "v",
         "showlegend": true,
         "type": "scatter",
         "x": {
          "bdata": "AAAAYClpFsA=",
          "dtype": "f8"
         },
         "xaxis": "x",
         "y": {
          "bdata": "AAAAwPbxKEA=",
          "dtype": "f8"
         },
         "yaxis": "y"
        },
        {
         "customdata": [
          [
           "KiloEx",
           "access control",
           "2024-04-14",
           "oracle-price-manipulation access-control-vulnerability minimalforwarder-exploit multi-chain-attack tornado-cash-funding leveraged-long-exploit audit-scope-failure funds-bridged-out"
          ]
         ],
         "hovertemplate": "exploit_type=%{customdata[1]}<br>x=%{x}<br>y=%{y}<br>total_value_extracted_usd=%{marker.size}<br>app=%{customdata[0]}<br>hack_date=%{customdata[2]}<br>tags_str=%{customdata[3]}<extra></extra>",
         "legendgroup": "access control",
         "marker": {
          "color": "#EF553B",
          "line": {
           "color": "white",
           "width": 0.5
          },
          "opacity": 0.85,
          "size": {
           "bdata": "AAAAAOuTXEE=",
           "dtype": "f8"
          },
          "sizemin": 3,
          "sizemode": "area",
          "sizeref": 3590432.5675,
          "symbol": "circle"
         },
         "mode": "markers",
         "name": "access control",
         "orientation": "v",
         "showlegend": true,
         "type": "scatter",
         "x": {
          "bdata": "AAAAYGswHMA=",
          "dtype": "f8"
         },
         "xaxis": "x",
         "y": {
          "bdata": "AAAA4JCAJUA=",
          "dtype": "f8"
         },
         "yaxis": "y"
        },
        {
         "customdata": [
          [
           "Kronos Research",
           "API Key Compromise",
           "2023-10-28",
           "api-key-compromise market-maker-exploit cex-liquidity-issues unauthorized-access trading-firm-hack multi-exchange-drain funds-transferred-to-hacker whitelist-circumvention"
          ]
         ],
         "hovertemplate": "exploit_type=%{customdata[1]}<br>x=%{x}<br>y=%{y}<br>total_value_extracted_usd=%{marker.size}<br>app=%{customdata[0]}<br>hack_date=%{customdata[2]}<br>tags_str=%{customdata[3]}<extra></extra>",
         "legendgroup": "API Key Compromise",
         "marker": {
          "color": "#00cc96",
          "line": {
           "color": "white",
           "width": 0.5
          },
          "opacity": 0.85,
          "size": {
           "bdata": "AAAAAKjLeEE=",
           "dtype": "f8"
          },
          "sizemin": 3,
          "sizemode": "area",
          "sizeref": 3590432.5675,
          "symbol": "circle"
         },
         "mode": "markers",
         "name": "API Key Compromise",
         "orientation": "v",
         "showlegend": true,
         "type": "scatter",
         "x": {
          "bdata": "AAAAIKXz+r8=",
          "dtype": "f8"
         },
         "xaxis": "x",
         "y": {
          "bdata": "AAAAYC87HkA=",
          "dtype": "f8"
         },
         "yaxis": "y"
        },
        {
         "customdata": [
          [
           "KyberSwap Elastic",
           "Precision Error / Tick Manipulation",
           "2023-11-22",
           "concentrated-liquidity-exploit flash-loan-attack tick-manipulation precision-error-vulnerability cross-chain-exploit defi-protocol-hack dex-vulnerability on-chain-negotiation smart-contract-exploit"
          ]
         ],
         "hovertemplate": "exploit_type=%{customdata[1]}<br>x=%{x}<br>y=%{y}<br>total_value_extracted_usd=%{marker.size}<br>app=%{customdata[0]}<br>hack_date=%{customdata[2]}<br>tags_str=%{customdata[3]}<extra></extra>",
         "legendgroup": "Precision Error / Tick Manipulation",
         "marker": {
          "color": "#ab63fa",
          "line": {
           "color": "white",
           "width": 0.5
          },
          "opacity": 0.85,
          "size": {
           "bdata": "AAAAAGDjhkE=",
           "dtype": "f8"
          },
          "sizemin": 3,
          "sizemode": "area",
          "sizeref": 3590432.5675,
          "symbol": "circle"
         },
         "mode": "markers",
         "name": "Precision Error / Tick Manipulation",
         "orientation": "v",
         "showlegend": true,
         "type": "scatter",
         "x": {
          "bdata": "AAAAgJCMF8A=",
          "dtype": "f8"
         },
         "xaxis": "x",
         "y": {
          "bdata": "AAAAIFk1JEA=",
          "dtype": "f8"
         },
         "yaxis": "y"
        },
        {
         "customdata": [
          [
           "LastPass",
           "Seed Phrase Compromise",
           "2022-12-15",
           "lastpass-data-breach seed-phrase-compromise wallet-draining-campaign cloud-storage-breach brute-force-attack multi-chain-theft targeted-crypto-users cex-fund-laundering"
          ]
         ],
         "hovertemplate": "exploit_type=%{customdata[1]}<br>x=%{x}<br>y=%{y}<br>total_value_extracted_usd=%{marker.size}<br>app=%{customdata[0]}<br>hack_date=%{customdata[2]}<br>tags_str=%{customdata[3]}<extra></extra>",
         "legendgroup": "Seed Phrase Compromise",
         "marker": {
          "color": "#FFA15A",
          "line": {
           "color": "white",
           "width": 0.5
          },
          "opacity": 0.85,
          "size": {
           "bdata": "AAAAAJqkgUE=",
           "dtype": "f8"
          },
          "sizemin": 3,
          "sizemode": "area",
          "sizeref": 3590432.5675,
          "symbol": "circle"
         },
         "mode": "markers",
         "name": "Seed Phrase Compromise",
         "orientation": "v",
         "showlegend": true,
         "type": "scatter",
         "x": {
          "bdata": "AAAAwI3nB8A=",
          "dtype": "f8"
         },
         "xaxis": "x",
         "y": {
          "bdata": "AAAAgPECH0A=",
          "dtype": "f8"
         },
         "yaxis": "y"
        },
        {
         "customdata": [
          [
           "Levana Protocol",
           "Oracle Manipulation",
           "2023-12-13",
           "oracle-manipulation network-congestion price-discrepancy slow-burn-exploit osmosis-exploit ddos-attack leveraged-trades transaction-timing"
          ],
          [
           "UwuLend",
           "Oracle Manipulation",
           "2024-06-06",
           "lending-protocol-exploit oracle-price-manipulation flashloan-attack defi-hack sifu-controversy audited-vulnerability curve-pool-manipulation multiple-transactions-attack"
          ]
         ],
         "hovertemplate": "exploit_type=%{customdata[1]}<br>x=%{x}<br>y=%{y}<br>total_value_extracted_usd=%{marker.size}<br>app=%{customdata[0]}<br>hack_date=%{customdata[2]}<br>tags_str=%{customdata[3]}<extra></extra>",
         "legendgroup": "Oracle Manipulation",
         "marker": {
          "color": "#19d3f3",
          "line": {
           "color": "white",
           "width": 0.5
          },
          "opacity": 0.85,
          "size": {
           "bdata": "AAAAAJB8MUEAAAAAVIByQQ==",
           "dtype": "f8"
          },
          "sizemin": 3,
          "sizemode": "area",
          "sizeref": 3590432.5675,
          "symbol": "circle"
         },
         "mode": "markers",
         "name": "Oracle Manipulation",
         "orientation": "v",
         "showlegend": true,
         "type": "scatter",
         "x": {
          "bdata": "AAAAIGJ+HMAAAADgoUwZwA==",
          "dtype": "f8"
         },
         "xaxis": "x",
         "y": {
          "bdata": "AAAAYGaKJkAAAACAQNkmQA==",
          "dtype": "f8"
         },
         "yaxis": "y"
        },
        {
         "customdata": [
          [
           "MM Finance",
           "DNS Attack",
           "2022-05-04",
           "dns-attack frontend-exploit malicious-router-injection cronos-dex-hack user-fund-redirection operational-security-lapse tornado-cash-drain okx-tracing-attempt"
          ]
         ],
         "hovertemplate": "exploit_type=%{customdata[1]}<br>x=%{x}<br>y=%{y}<br>total_value_extracted_usd=%{marker.size}<br>app=%{customdata[0]}<br>hack_date=%{customdata[2]}<br>tags_str=%{customdata[3]}<extra></extra>",
         "legendgroup": "DNS Attack",
         "marker": {
          "color": "#FF6692",
          "line": {
           "color": "white",
           "width": 0.5
          },
          "opacity": 0.85,
          "size": {
           "bdata": "AAAAAICEPkE=",
           "dtype": "f8"
          },
          "sizemin": 3,
          "sizemode": "area",
          "sizeref": 3590432.5675,
          "symbol": "circle"
         },
         "mode": "markers",
         "name": "DNS Attack",
         "orientation": "v",
         "showlegend": true,
         "type": "scatter",
         "x": {
          "bdata": "AAAAYGKrEMA=",
          "dtype": "f8"
         },
         "xaxis": "x",
         "y": {
          "bdata": "AAAAYGYeIkA=",
          "dtype": "f8"
         },
         "yaxis": "y"
        },
        {
         "customdata": [
          [
           "Merlin Labs",
           "Economic Manipulation",
           "2021-06-20",
           "economic-exploit merlin-finance reward-system-manipulation bnb-chain-attack unintended-vault-access profit-calculation-vulnerability third-exploit defi-hack smart-contract-vulnerability"
          ]
         ],
         "hovertemplate": "exploit_type=%{customdata[1]}<br>x=%{x}<br>y=%{y}<br>total_value_extracted_usd=%{marker.size}<br>app=%{customdata[0]}<br>hack_date=%{customdata[2]}<br>tags_str=%{customdata[3]}<extra></extra>",
         "legendgroup": "Economic Manipulation",
         "marker": {
          "color": "#B6E880",
          "line": {
           "color": "white",
           "width": 0.5
          },
          "opacity": 0.85,
          "size": {
           "bdata": "AAAAAEAkFEE=",
           "dtype": "f8"
          },
          "sizemin": 3,
          "sizemode": "area",
          "sizeref": 3590432.5675,
          "symbol": "circle"
         },
         "mode": "markers",
         "name": "Economic Manipulation",
         "orientation": "v",
         "showlegend": true,
         "type": "scatter",
         "x": {
          "bdata": "AAAAIBAiFcA=",
          "dtype": "f8"
         },
         "xaxis": "x",
         "y": {
          "bdata": "AAAAIG1RJkA=",
          "dtype": "f8"
         },
         "yaxis": "y"
        },
        {
         "customdata": [
          [
           "Meter.io",
           "Bridge Vulnerability",
           "2022-02-05",
           "cross-chain-bridge deposit-method-exploit wrapped-native-token arbitrary-amount-mint meter-passport-fork hundred-finance-collateral-damage unsecured-deposit-method tornado-cash-laundering"
          ]
         ],
         "hovertemplate": "exploit_type=%{customdata[1]}<br>x=%{x}<br>y=%{y}<br>total_value_extracted_usd=%{marker.size}<br>app=%{customdata[0]}<br>hack_date=%{customdata[2]}<br>tags_str=%{customdata[3]}<extra></extra>",
         "legendgroup": "Bridge Vulnerability",
         "marker": {
          "color": "#FF97FF",
          "line": {
           "color": "white",
           "width": 0.5
          },
          "opacity": 0.85,
          "size": {
           "bdata": "AAAAAIhfXUE=",
           "dtype": "f8"
          },
          "sizemin": 3,
          "sizemode": "area",
          "sizeref": 3590432.5675,
          "symbol": "circle"
         },
         "mode": "markers",
         "name": "Bridge Vulnerability",
         "orientation": "v",
         "showlegend": true,
         "type": "scatter",
         "x": {
          "bdata": "AAAAwPI/GsA=",
          "dtype": "f8"
         },
         "xaxis": "x",
         "y": {
          "bdata": "AAAAgKN9JUA=",
          "dtype": "f8"
         },
         "yaxis": "y"
        },
        {
         "customdata": [
          [
           "Midas Capital",
           "Read-only reentrancy",
           "2023-11-26",
           "flash-loan-attack read-only-reentrancy price-oracle-manipulation collateral-token-vulnerability lp-token-exploit known-vulnerability defi-lending-exploit matic-swap-exploit jarvis-network-affected protocol-reimbursement"
          ]
         ],
         "hovertemplate": "exploit_type=%{customdata[1]}<br>x=%{x}<br>y=%{y}<br>total_value_extracted_usd=%{marker.size}<br>app=%{customdata[0]}<br>hack_date=%{customdata[2]}<br>tags_str=%{customdata[3]}<extra></extra>",
         "legendgroup": "Read-only reentrancy",
         "marker": {
          "color": "#FECB52",
          "line": {
           "color": "white",
           "width": 0.5
          },
          "opacity": 0.85,
          "size": {
           "bdata": "AAAAAEAkJEE=",
           "dtype": "f8"
          },
          "sizemin": 3,
          "sizemode": "area",
          "sizeref": 3590432.5675,
          "symbol": "circle"
         },
         "mode": "markers",
         "name": "Read-only reentrancy",
         "orientation": "v",
         "showlegend": true,
         "type": "scatter",
         "x": {
          "bdata": "AAAAgA60F8A=",
          "dtype": "f8"
         },
         "xaxis": "x",
         "y": {
          "bdata": "AAAAYD9SJkA=",
          "dtype": "f8"
         },
         "yaxis": "y"
        },
        {
         "customdata": [
          [
           "Midas Capital",
           "Rounding Vulnerability",
           "2023-11-04",
           "lending-protocol-exploit rounding-vulnerability interest-rate-manipulation stolen-funds-tornadocash cross-chain-attack defi-interconnected-risks known-issue-exploit bsc-defi-hack"
          ]
         ],
         "hovertemplate": "exploit_type=%{customdata[1]}<br>x=%{x}<br>y=%{y}<br>total_value_extracted_usd=%{marker.size}<br>app=%{customdata[0]}<br>hack_date=%{customdata[2]}<br>tags_str=%{customdata[3]}<extra></extra>",
         "legendgroup": "Rounding Vulnerability",
         "marker": {
          "color": "#636efa",
          "line": {
           "color": "white",
           "width": 0.5
          },
          "opacity": 0.85,
          "size": {
           "bdata": "AAAAAIBPIkE=",
           "dtype": "f8"
          },
          "sizemin": 3,
          "sizemode": "area",
          "sizeref": 3590432.5675,
          "symbol": "circle"
         },
         "mode": "markers",
         "name": "Rounding Vulnerability",
         "orientation": "v",
         "showlegend": true,
         "type": "scatter",
         "x": {
          "bdata": "AAAAIFAGFcA=",
          "dtype": "f8"
         },
         "xaxis": "x",
         "y": {
          "bdata": "AAAAoNAmJ0A=",
          "dtype": "f8"
         },
         "yaxis": "y"
        },
        {
         "customdata": [
          [
           "Mirror Protocol",
           "Logic Bug, Price Oracle Manipulation",
           "2021-10-08",
           "collateral-unlock-exploit duplicate-call-vulnerability unnoticed-funds-drain terra-ecosystem-failings outdated-oracle-exploit luna-classic-mispricing m-asset-drain delayed-exploit-discovery vulnerability-smuggled-fix protocol-security-oversight"
          ]
         ],
         "hovertemplate": "exploit_type=%{customdata[1]}<br>x=%{x}<br>y=%{y}<br>total_value_extracted_usd=%{marker.size}<br>app=%{customdata[0]}<br>hack_date=%{customdata[2]}<br>tags_str=%{customdata[3]}<extra></extra>",
         "legendgroup": "Logic Bug, Price Oracle Manipulation",
         "marker": {
          "color": "#EF553B",
          "line": {
           "color": "white",
           "width": 0.5
          },
          "opacity": 0.85,
          "size": {
           "bdata": "AAAAADzvlUE=",
           "dtype": "f8"
          },
          "sizemin": 3,
          "sizemode": "area",
          "sizeref": 3590432.5675,
          "symbol": "circle"
         },
         "mode": "markers",
         "name": "Logic Bug, Price Oracle Manipulation",
         "orientation": "v",
         "showlegend": true,
         "type": "scatter",
         "x": {
          "bdata": "AAAAAKz9GsA=",
          "dtype": "f8"
         },
         "xaxis": "x",
         "y": {
          "bdata": "AAAAICcsJUA=",
          "dtype": "f8"
         },
         "yaxis": "y"
        },
        {
         "customdata": [
          [
           "Mixin Network",
           "Data breach / Private key leak",
           "2023-09-23",
           "cloud-service-provider private-key-compromise third-party-breach hot-wallet-drain decentralization-failure large-scale-theft lazarus-group-suspected multi-chain-funds"
          ]
         ],
         "hovertemplate": "exploit_type=%{customdata[1]}<br>x=%{x}<br>y=%{y}<br>total_value_extracted_usd=%{marker.size}<br>app=%{customdata[0]}<br>hack_date=%{customdata[2]}<br>tags_str=%{customdata[3]}<extra></extra>",
         "legendgroup": "Data breach / Private key leak",
         "marker": {
          "color": "#00cc96",
          "line": {
           "color": "white",
           "width": 0.5
          },
          "opacity": 0.85,
          "size": {
           "bdata": "AAAAAITXp0E=",
           "dtype": "f8"
          },
          "sizemin": 3,
          "sizemode": "area",
          "sizeref": 3590432.5675,
          "symbol": "circle"
         },
         "mode": "markers",
         "name": "Data breach / Private key leak",
         "orientation": "v",
         "showlegend": true,
         "type": "scatter",
         "x": {
          "bdata": "AAAAICrc8r8=",
          "dtype": "f8"
         },
         "xaxis": "x",
         "y": {
          "bdata": "AAAAIGMxIEA=",
          "dtype": "f8"
         },
         "yaxis": "y"
        },
        {
         "customdata": [
          [
           "MobiusDAO",
           "Decimal Handling Error",
           "2023-05-11",
           "decimal-error minting-exploit price-calculation-flaw unaudited-contract rugpull infinite-mint pancakeswap-drain tornado-cash-laundering"
          ]
         ],
         "hovertemplate": "exploit_type=%{customdata[1]}<br>x=%{x}<br>y=%{y}<br>total_value_extracted_usd=%{marker.size}<br>app=%{customdata[0]}<br>hack_date=%{customdata[2]}<br>tags_str=%{customdata[3]}<extra></extra>",
         "legendgroup": "Decimal Handling Error",
         "marker": {
          "color": "#ab63fa",
          "line": {
           "color": "white",
           "width": 0.5
          },
          "opacity": 0.85,
          "size": {
           "bdata": "AAAAADhnQEE=",
           "dtype": "f8"
          },
          "sizemin": 3,
          "sizemode": "area",
          "sizeref": 3590432.5675,
          "symbol": "circle"
         },
         "mode": "markers",
         "name": "Decimal Handling Error",
         "orientation": "v",
         "showlegend": true,
         "type": "scatter",
         "x": {
          "bdata": "AAAAIKwOGsA=",
          "dtype": "f8"
         },
         "xaxis": "x",
         "y": {
          "bdata": "AAAAwLyJJEA=",
          "dtype": "f8"
         },
         "yaxis": "y"
        },
        {
         "customdata": [
          [
           "Moby Trade",
           "private key leak",
           "2024-01-08",
           "private-key-leak admin-key-compromise proxy-contract-upgrade multi-chain-exploit whitehat-rescue stolen-funds-disbursement arbitrum-ethereum-bridge vault-drain"
          ]
         ],
         "hovertemplate": "exploit_type=%{customdata[1]}<br>x=%{x}<br>y=%{y}<br>total_value_extracted_usd=%{marker.size}<br>app=%{customdata[0]}<br>hack_date=%{customdata[2]}<br>tags_str=%{customdata[3]}<extra></extra>",
         "legendgroup": "private key leak",
         "marker": {
          "color": "#FFA15A",
          "line": {
           "color": "white",
           "width": 0.5
          },
          "opacity": 0.85,
          "size": {
           "bdata": "AAAAAJCcLkE=",
           "dtype": "f8"
          },
          "sizemin": 3,
          "sizemode": "area",
          "sizeref": 3590432.5675,
          "symbol": "circle"
         },
         "mode": "markers",
         "name": "private key leak",
         "orientation": "v",
         "showlegend": true,
         "type": "scatter",
         "x": {
          "bdata": "AAAAwJLnCMA=",
          "dtype": "f8"
         },
         "xaxis": "x",
         "y": {
          "bdata": "AAAAwAkQIUA=",
          "dtype": "f8"
         },
         "yaxis": "y"
        },
        {
         "customdata": [
          [
           "Uniswap V3",
           "fat-finger error",
           "2023-04-18",
           "fat-finger-error uniswap-v3-lp mev-bot-extraction high-bribe-validator out-of-range-liquidity liquidity-pool-loss on-chain-karma"
          ]
         ],
         "hovertemplate": "exploit_type=%{customdata[1]}<br>x=%{x}<br>y=%{y}<br>total_value_extracted_usd=%{marker.size}<br>app=%{customdata[0]}<br>hack_date=%{customdata[2]}<br>tags_str=%{customdata[3]}<extra></extra>",
         "legendgroup": "fat-finger error",
         "marker": {
          "color": "#19d3f3",
          "line": {
           "color": "white",
           "width": 0.5
          },
          "opacity": 0.85,
          "size": {
           "bdata": "AAAAACDWM0E=",
           "dtype": "f8"
          },
          "sizemin": 3,
          "sizemode": "area",
          "sizeref": 3590432.5675,
          "symbol": "circle"
         },
         "mode": "markers",
         "name": "fat-finger error",
         "orientation": "v",
         "showlegend": true,
         "type": "scatter",
         "x": {
          "bdata": "AAAAAOMDHMA=",
          "dtype": "f8"
         },
         "xaxis": "x",
         "y": {
          "bdata": "AAAA4HJmJUA=",
          "dtype": "f8"
         },
         "yaxis": "y"
        },
        {
         "customdata": [
          [
           "Onyx Protocol",
           "Rounding Error / Empty Market Manipulation",
           "2023-11-07",
           "compound-v2-fork empty-market-exploit rounding-error-vulnerability flash-loan-attack token-price-manipulation governance-proposal-exploit liquidity-drain-attack repeated-vulnerability tornado-cash-laundering insufficient-community-vigilance"
          ]
         ],
         "hovertemplate": "exploit_type=%{customdata[1]}<br>x=%{x}<br>y=%{y}<br>total_value_extracted_usd=%{marker.size}<br>app=%{customdata[0]}<br>hack_date=%{customdata[2]}<br>tags_str=%{customdata[3]}<extra></extra>",
         "legendgroup": "Rounding Error / Empty Market Manipulation",
         "marker": {
          "color": "#FF6692",
          "line": {
           "color": "white",
           "width": 0.5
          },
          "opacity": 0.85,
          "size": {
           "bdata": "AAAAAJAFQEE=",
           "dtype": "f8"
          },
          "sizemin": 3,
          "sizemode": "area",
          "sizeref": 3590432.5675,
          "symbol": "circle"
         },
         "mode": "markers",
         "name": "Rounding Error / Empty Market Manipulation",
         "orientation": "v",
         "showlegend": true,
         "type": "scatter",
         "x": {
          "bdata": "AAAAYO6sF8A=",
          "dtype": "f8"
         },
         "xaxis": "x",
         "y": {
          "bdata": "AAAA4B80KEA=",
          "dtype": "f8"
         },
         "yaxis": "y"
        },
        {
         "customdata": [
          [
           "Onyx Protocol",
           "Precision Manipulation",
           "2023-11-01",
           "compound-v2-fork-exploit low-liquidity-market exchange-rate-manipulation re-exploit flash-loan-attack nft-liquidation-vulnerability governance-proposal-risk auditor-oversight-failure new-market-vulnerability"
          ]
         ],
         "hovertemplate": "exploit_type=%{customdata[1]}<br>x=%{x}<br>y=%{y}<br>total_value_extracted_usd=%{marker.size}<br>app=%{customdata[0]}<br>hack_date=%{customdata[2]}<br>tags_str=%{customdata[3]}<extra></extra>",
         "legendgroup": "Precision Manipulation",
         "marker": {
          "color": "#B6E880",
          "line": {
           "color": "white",
           "width": 0.5
          },
          "opacity": 0.85,
          "size": {
           "bdata": "AAAAAOD9TEE=",
           "dtype": "f8"
          },
          "sizemin": 3,
          "sizemode": "area",
          "sizeref": 3590432.5675,
          "symbol": "circle"
         },
         "mode": "markers",
         "name": "Precision Manipulation",
         "orientation": "v",
         "showlegend": true,
         "type": "scatter",
         "x": {
          "bdata": "AAAAQJe/FsA=",
          "dtype": "f8"
         },
         "xaxis": "x",
         "y": {
          "bdata": "AAAAAI4MKEA=",
          "dtype": "f8"
         },
         "yaxis": "y"
        },
        {
         "customdata": [
          [
           "Orbit Bridge",
           "Compromised Multisig",
           "2023-12-31",
           "cross-chain-bridge multisig-compromise nation-state-actor former-ciso-insider tornado-cash-funding defi-bridge-exploit ethereum-ecosystem-attack large-value-theft"
          ]
         ],
         "hovertemplate": "exploit_type=%{customdata[1]}<br>x=%{x}<br>y=%{y}<br>total_value_extracted_usd=%{marker.size}<br>app=%{customdata[0]}<br>hack_date=%{customdata[2]}<br>tags_str=%{customdata[3]}<extra></extra>",
         "legendgroup": "Compromised Multisig",
         "marker": {
          "color": "#FF97FF",
          "line": {
           "color": "white",
           "width": 0.5
          },
          "opacity": 0.85,
          "size": {
           "bdata": "AAAAgF1uk0E=",
           "dtype": "f8"
          },
          "sizemin": 3,
          "sizemode": "area",
          "sizeref": 3590432.5675,
          "symbol": "circle"
         },
         "mode": "markers",
         "name": "Compromised Multisig",
         "orientation": "v",
         "showlegend": true,
         "type": "scatter",
         "x": {
          "bdata": "AAAAYEY1AMA=",
          "dtype": "f8"
         },
         "xaxis": "x",
         "y": {
          "bdata": "AAAAQCSoIkA=",
          "dtype": "f8"
         },
         "yaxis": "y"
        },
        {
         "customdata": [
          [
           "PancakeBunny",
           "flashloan attack",
           "2021-07-01",
           "flashloan-exploit minter-manipulation polybunny-dump mev-attack defi-hack polygon-exploit same-exploit-twice"
          ]
         ],
         "hovertemplate": "exploit_type=%{customdata[1]}<br>x=%{x}<br>y=%{y}<br>total_value_extracted_usd=%{marker.size}<br>app=%{customdata[0]}<br>hack_date=%{customdata[2]}<br>tags_str=%{customdata[3]}<extra></extra>",
         "legendgroup": "flashloan attack",
         "marker": {
          "color": "#FECB52",
          "line": {
           "color": "white",
           "width": 0.5
          },
          "opacity": 0.85,
          "size": {
           "bdata": "AAAAAIBPQkE=",
           "dtype": "f8"
          },
          "sizemin": 3,
          "sizemode": "area",
          "sizeref": 3590432.5675,
          "symbol": "circle"
         },
         "mode": "markers",
         "name": "flashloan attack",
         "orientation": "v",
         "showlegend": true,
         "type": "scatter",
         "x": {
          "bdata": "AAAAAG/eFsA=",
          "dtype": "f8"
         },
         "xaxis": "x",
         "y": {
          "bdata": "AAAAwBwTKUA=",
          "dtype": "f8"
         },
         "yaxis": "y"
        },
        {
         "customdata": [
          [
           "Phemex",
           "Access Control, Private Key Compromise",
           "2025-01-23",
           "exchange-hot-wallet-drain multi-chain-attack centralized-exchange-hack access-control-breach private-key-compromise simultaneous-wallet-drain systematic-fund-exfiltration multi-chain-mayhem large-scale-asset-theft"
          ]
         ],
         "hovertemplate": "exploit_type=%{customdata[1]}<br>x=%{x}<br>y=%{y}<br>total_value_extracted_usd=%{marker.size}<br>app=%{customdata[0]}<br>hack_date=%{customdata[2]}<br>tags_str=%{customdata[3]}<extra></extra>",
         "legendgroup": "Access Control, Private Key Compromise",
         "marker": {
          "color": "#636efa",
          "line": {
           "color": "white",
           "width": 0.5
          },
          "opacity": 0.85,
          "size": {
           "bdata": "AAAAJIuIkUE=",
           "dtype": "f8"
          },
          "sizemin": 3,
          "sizemode": "area",
          "sizeref": 3590432.5675,
          "symbol": "circle"
         },
         "mode": "markers",
         "name": "Access Control, Private Key Compromise",
         "orientation": "v",
         "showlegend": true,
         "type": "scatter",
         "x": {
          "bdata": "AAAAAA+J878=",
          "dtype": "f8"
         },
         "xaxis": "x",
         "y": {
          "bdata": "AAAAQDUEH0A=",
          "dtype": "f8"
         },
         "yaxis": "y"
        },
        {
         "customdata": [
          [
           "Platypus Finance",
           "Flash loan attack",
           "2023-02-16",
           "flash-loan-exploit solvency-check-bypass stablecoin-depeg collateral-withdrawal-vulnerability logic-error-exploit undercollateralized-stablecoin amateur-hacker doxxed-attacker defi-exploit"
          ]
         ],
         "hovertemplate": "exploit_type=%{customdata[1]}<br>x=%{x}<br>y=%{y}<br>total_value_extracted_usd=%{marker.size}<br>app=%{customdata[0]}<br>hack_date=%{customdata[2]}<br>tags_str=%{customdata[3]}<extra></extra>",
         "legendgroup": "Flash loan attack",
         "marker": {
          "color": "#EF553B",
          "line": {
           "color": "white",
           "width": 0.5
          },
          "opacity": 0.85,
          "size": {
           "bdata": "AAAAAGQ2YEE=",
           "dtype": "f8"
          },
          "sizemin": 3,
          "sizemode": "area",
          "sizeref": 3590432.5675,
          "symbol": "circle"
         },
         "mode": "markers",
         "name": "Flash loan attack",
         "orientation": "v",
         "showlegend": true,
         "type": "scatter",
         "x": {
          "bdata": "AAAAgOlTFcA=",
          "dtype": "f8"
         },
         "xaxis": "x",
         "y": {
          "bdata": "AAAAoAAQKEA=",
          "dtype": "f8"
         },
         "yaxis": "y"
        },
        {
         "customdata": [
          [
           "Popsicle Finance",
           "Fee Accounting Error",
           "2021-08-04",
           "fee-accounting-exploit flash-loan-attack lp-token-transfer reward-distribution-bug uniswap-v3-liquidity smart-contract-vulnerability auditor-oversight tornado-cash-laundering"
          ]
         ],
         "hovertemplate": "exploit_type=%{customdata[1]}<br>x=%{x}<br>y=%{y}<br>total_value_extracted_usd=%{marker.size}<br>app=%{customdata[0]}<br>hack_date=%{customdata[2]}<br>tags_str=%{customdata[3]}<extra></extra>",
         "legendgroup": "Fee Accounting Error",
         "marker": {
          "color": "#00cc96",
          "line": {
           "color": "white",
           "width": 0.5
          },
          "opacity": 0.85,
          "size": {
           "bdata": "AAAAANASc0E=",
           "dtype": "f8"
          },
          "sizemin": 3,
          "sizemode": "area",
          "sizeref": 3590432.5675,
          "symbol": "circle"
         },
         "mode": "markers",
         "name": "Fee Accounting Error",
         "orientation": "v",
         "showlegend": true,
         "type": "scatter",
         "x": {
          "bdata": "AAAAIDOyGMA=",
          "dtype": "f8"
         },
         "xaxis": "x",
         "y": {
          "bdata": "AAAAALMcI0A=",
          "dtype": "f8"
         },
         "yaxis": "y"
        },
        {
         "customdata": [
          [
           "Punk Protocol",
           "Missing Modifier",
           "2021-08-10",
           "missing-modifier-vulnerability delegatecall-exploit frontrun-recovery whitehat-negotiation partial-fund-return tornado-cash-laundering defi-annuity-scheme smart-contract-vulnerability"
          ]
         ],
         "hovertemplate": "exploit_type=%{customdata[1]}<br>x=%{x}<br>y=%{y}<br>total_value_extracted_usd=%{marker.size}<br>app=%{customdata[0]}<br>hack_date=%{customdata[2]}<br>tags_str=%{customdata[3]}<extra></extra>",
         "legendgroup": "Missing Modifier",
         "marker": {
          "color": "#ab63fa",
          "line": {
           "color": "white",
           "width": 0.5
          },
          "opacity": 0.85,
          "size": {
           "bdata": "AAAAAB4SYUE=",
           "dtype": "f8"
          },
          "sizemin": 3,
          "sizemode": "area",
          "sizeref": 3590432.5675,
          "symbol": "circle"
         },
         "mode": "markers",
         "name": "Missing Modifier",
         "orientation": "v",
         "showlegend": true,
         "type": "scatter",
         "x": {
          "bdata": "AAAAwMmVEcA=",
          "dtype": "f8"
         },
         "xaxis": "x",
         "y": {
          "bdata": "AAAAAGbMJkA=",
          "dtype": "f8"
         },
         "yaxis": "y"
        },
        {
         "customdata": [
          [
           "Qubit Finance",
           "Logic Bug",
           "2022-01-27",
           "cross-chain-exploit qbridge-deposit-bug zero-address-vulnerability collateral-manipulation lending-protocol-hack bsc-exploit theori-audited-project repeated-offender-team"
          ],
          [
           "Treasure DAO Marketplace",
           "Logic Bug",
           "2022-02-01",
           "nft-marketplace-exploit zero-quantity-bug logic-error-exploit arbitrum-nft-hack stolen-nft-assets smart-contract-vulnerability"
          ],
          [
           "Uranium Finance",
           "Logic Bug",
           "2021-04-28",
           "math-bug-exploit uniswap-v2-fork improper-code-change cross-chain-escape liquidity-pool-drain pre-fix-exploit contract-repo-removed tornado-cash-mixer bnb-chain-exploit defi-protocol-hack"
          ]
         ],
         "hovertemplate": "exploit_type=%{customdata[1]}<br>x=%{x}<br>y=%{y}<br>total_value_extracted_usd=%{marker.size}<br>app=%{customdata[0]}<br>hack_date=%{customdata[2]}<br>tags_str=%{customdata[3]}<extra></extra>",
         "legendgroup": "Logic Bug",
         "marker": {
          "color": "#FFA15A",
          "line": {
           "color": "white",
           "width": 0.5
          },
          "opacity": 0.85,
          "size": {
           "bdata": "AAAAANASk0EAAAAAwFw1QQAAAABsRotB",
           "dtype": "f8"
          },
          "sizemin": 3,
          "sizemode": "area",
          "sizeref": 3590432.5675,
          "symbol": "circle"
         },
         "mode": "markers",
         "name": "Logic Bug",
         "orientation": "v",
         "showlegend": true,
         "type": "scatter",
         "x": {
          "bdata": "AAAAQCKbFMAAAADgAtcUwAAAAIC74BDA",
          "dtype": "f8"
         },
         "xaxis": "x",
         "y": {
          "bdata": "AAAAwFXiJkAAAACg6BojQAAAACABiidA",
          "dtype": "f8"
         },
         "yaxis": "y"
        },
        {
         "customdata": [
          [
           "Radiant Capital",
           "Rounding Error / Logic Error",
           "2024-01-02",
           "aave-fork-exploit flashloan-attack new-market-vulnerability arbitrum-hack rounding-error zero-total-supply pre-planned-exploit protocol-fork-risk"
          ]
         ],
         "hovertemplate": "exploit_type=%{customdata[1]}<br>x=%{x}<br>y=%{y}<br>total_value_extracted_usd=%{marker.size}<br>app=%{customdata[0]}<br>hack_date=%{customdata[2]}<br>tags_str=%{customdata[3]}<extra></extra>",
         "legendgroup": "Rounding Error / Logic Error",
         "marker": {
          "color": "#19d3f3",
          "line": {
           "color": "white",
           "width": 0.5
          },
          "opacity": 0.85,
          "size": {
           "bdata": "AAAAAIgqUUE=",
           "dtype": "f8"
          },
          "sizemin": 3,
          "sizemode": "area",
          "sizeref": 3590432.5675,
          "symbol": "circle"
         },
         "mode": "markers",
         "name": "Rounding Error / Logic Error",
         "orientation": "v",
         "showlegend": true,
         "type": "scatter",
         "x": {
          "bdata": "AAAAYBPgFcA=",
          "dtype": "f8"
         },
         "xaxis": "x",
         "y": {
          "bdata": "AAAA4N2hKEA=",
          "dtype": "f8"
         },
         "yaxis": "y"
        },
        {
         "customdata": [
          [
           "Raydium",
           "compromised private key",
           "2023-01-06",
           "private-key-compromise amm-drain solana-exploit protocol-fees-loss admin-wallet-exploit liquidity-pool-drain trojan-attack post-ftx-incident"
          ]
         ],
         "hovertemplate": "exploit_type=%{customdata[1]}<br>x=%{x}<br>y=%{y}<br>total_value_extracted_usd=%{marker.size}<br>app=%{customdata[0]}<br>hack_date=%{customdata[2]}<br>tags_str=%{customdata[3]}<extra></extra>",
         "legendgroup": "compromised private key",
         "marker": {
          "color": "#FF6692",
          "line": {
           "color": "white",
           "width": 0.5
          },
          "opacity": 0.85,
          "size": {
           "bdata": "AAAAAODIUEE=",
           "dtype": "f8"
          },
          "sizemin": 3,
          "sizemode": "area",
          "sizeref": 3590432.5675,
          "symbol": "circle"
         },
         "mode": "markers",
         "name": "compromised private key",
         "orientation": "v",
         "showlegend": true,
         "type": "scatter",
         "x": {
          "bdata": "AAAA4AnLBsA=",
          "dtype": "f8"
         },
         "xaxis": "x",
         "y": {
          "bdata": "AAAAAII5IUA=",
          "dtype": "f8"
         },
         "yaxis": "y"
        },
        {
         "customdata": [
          [
           "RocketSwap",
           "Compromised Private Keys",
           "2023-08-14",
           "private-key-compromise server-bruteforce-attack farming-contract-drain proxy-contract-vulnerability base-ecosystem-incident defi-exploit"
          ],
          [
           "Vulcan Forged",
           "Compromised Private Keys",
           "2021-12-12",
           "compromised-private-keys integrated-wallet-exploit nft-marketplace-hack play-to-earn-game-breach user-wallet-drain venly-wallet-security token-price-impact post-hack-reimbursement"
          ]
         ],
         "hovertemplate": "exploit_type=%{customdata[1]}<br>x=%{x}<br>y=%{y}<br>total_value_extracted_usd=%{marker.size}<br>app=%{customdata[0]}<br>hack_date=%{customdata[2]}<br>tags_str=%{customdata[3]}<extra></extra>",
         "legendgroup": "Compromised Private Keys",
         "marker": {
          "color": "#B6E880",
          "line": {
           "color": "white",
           "width": 0.5
          },
          "opacity": 0.85,
          "size": {
           "bdata": "AAAAABCFKkEAAAAAdrCgQQ==",
           "dtype": "f8"
          },
          "sizemin": 3,
          "sizemode": "area",
          "sizeref": 3590432.5675,
          "symbol": "circle"
         },
         "mode": "markers",
         "name": "Compromised Private Keys",
         "orientation": "v",
         "showlegend": true,
         "type": "scatter",
         "x": {
          "bdata": "AAAAoM0gEMAAAAAgS8UFwA==",
          "dtype": "f8"
         },
         "xaxis": "x",
         "y": {
          "bdata": "AAAAwHxJJUAAAACgRgEhQA==",
          "dtype": "f8"
         },
         "yaxis": "y"
        },
        {
         "customdata": [
          [
           "Saddle Finance",
           "arbitrage",
           "2021-01-19",
           "arbitrage-exploit forked-code-vulnerability high-slippage-exploit liquidity-provider-losses quantstamp-audit-failure"
          ]
         ],
         "hovertemplate": "exploit_type=%{customdata[1]}<br>x=%{x}<br>y=%{y}<br>total_value_extracted_usd=%{marker.size}<br>app=%{customdata[0]}<br>hack_date=%{customdata[2]}<br>tags_str=%{customdata[3]}<extra></extra>",
         "legendgroup": "arbitrage",
         "marker": {
          "color": "#FF97FF",
          "line": {
           "color": "white",
           "width": 0.5
          },
          "opacity": 0.85,
          "size": {
           "bdata": "AAAAAFzUEEE=",
           "dtype": "f8"
          },
          "sizemin": 3,
          "sizemode": "area",
          "sizeref": 3590432.5675,
          "symbol": "circle"
         },
         "mode": "markers",
         "name": "arbitrage",
         "orientation": "v",
         "showlegend": true,
         "type": "scatter",
         "x": {
          "bdata": "AAAAQCQZF8A=",
          "dtype": "f8"
         },
         "xaxis": "x",
         "y": {
          "bdata": "AAAAYEC3KEA=",
          "dtype": "f8"
         },
         "yaxis": "y"
        },
        {
         "customdata": [
          [
           "SafeDollar",
           "Infinite Mint Exploit",
           "2021-06-28",
           "infinite-mint-exploit reward-mechanism-manipulation stablecoin-depeg polygon-exploit deposit-withdraw-loop price-oracle-manipulation defi-vulnerability exit-liquidity-drain"
          ]
         ],
         "hovertemplate": "exploit_type=%{customdata[1]}<br>x=%{x}<br>y=%{y}<br>total_value_extracted_usd=%{marker.size}<br>app=%{customdata[0]}<br>hack_date=%{customdata[2]}<br>tags_str=%{customdata[3]}<extra></extra>",
         "legendgroup": "Infinite Mint Exploit",
         "marker": {
          "color": "#FECB52",
          "line": {
           "color": "white",
           "width": 0.5
          },
          "opacity": 0.85,
          "size": {
           "bdata": "AAAAAABGDkE=",
           "dtype": "f8"
          },
          "sizemin": 3,
          "sizemode": "area",
          "sizeref": 3590432.5675,
          "symbol": "circle"
         },
         "mode": "markers",
         "name": "Infinite Mint Exploit",
         "orientation": "v",
         "showlegend": true,
         "type": "scatter",
         "x": {
          "bdata": "AAAAQBr0GMA=",
          "dtype": "f8"
         },
         "xaxis": "x",
         "y": {
          "bdata": "AAAAwCC4J0A=",
          "dtype": "f8"
         },
         "yaxis": "y"
        },
        {
         "customdata": [
          [
           "FTX",
           "Theft of Customer Funds",
           "2022-11-12",
           "customer-fund-misuse centralized-exchange-collapse poor-internal-controls misappropriation-assets unauthorized-access corporate-governance-failure insider-threat bad-accounting-practices liquidation-fraud"
          ]
         ],
         "hovertemplate": "exploit_type=%{customdata[1]}<br>x=%{x}<br>y=%{y}<br>total_value_extracted_usd=%{marker.size}<br>app=%{customdata[0]}<br>hack_date=%{customdata[2]}<br>tags_str=%{customdata[3]}<extra></extra>",
         "legendgroup": "Theft of Customer Funds",
         "marker": {
          "color": "#636efa",
          "line": {
           "color": "white",
           "width": 0.5
          },
          "opacity": 0.85,
          "size": {
           "bdata": "AAAAQHFuvEE=",
           "dtype": "f8"
          },
          "sizemin": 3,
          "sizemode": "area",
          "sizeref": 3590432.5675,
          "symbol": "circle"
         },
         "mode": "markers",
         "name": "Theft of Customer Funds",
         "orientation": "v",
         "showlegend": true,
         "type": "scatter",
         "x": {
          "bdata": "AAAAoFfP+b8=",
          "dtype": "f8"
         },
         "xaxis": "x",
         "y": {
          "bdata": "AAAAINrfHUA=",
          "dtype": "f8"
         },
         "yaxis": "y"
        },
        {
         "customdata": [
          [
           "Seneca Protocol",
           "Approval Exploit",
           "2024-02-28",
           "approval-exploit stolen-funds arbitrum-ethereum partial-recovery audit-failure negligent-security internal-pause-bug"
          ]
         ],
         "hovertemplate": "exploit_type=%{customdata[1]}<br>x=%{x}<br>y=%{y}<br>total_value_extracted_usd=%{marker.size}<br>app=%{customdata[0]}<br>hack_date=%{customdata[2]}<br>tags_str=%{customdata[3]}<extra></extra>",
         "legendgroup": "Approval Exploit",
         "marker": {
          "color": "#EF553B",
          "line": {
           "color": "white",
           "width": 0.5
          },
          "opacity": 0.85,
          "size": {
           "bdata": "AAAAAABqWEE=",
           "dtype": "f8"
          },
          "sizemin": 3,
          "sizemode": "area",
          "sizeref": 3590432.5675,
          "symbol": "circle"
         },
         "mode": "markers",
         "name": "Approval Exploit",
         "orientation": "v",
         "showlegend": true,
         "type": "scatter",
         "x": {
          "bdata": "AAAAQGCHEsA=",
          "dtype": "f8"
         },
         "xaxis": "x",
         "y": {
          "bdata": "AAAA4GaRJUA=",
          "dtype": "f8"
         },
         "yaxis": "y"
        },
        {
         "customdata": [
          [
           "Shezmu",
           "arbitrary mint",
           "2023-09-20",
           "collateral-mint-vulnerability vault-exploit post-upgrade-vulnerability negotiated-bounty partial-fund-recovery shezusd-drain low-liquidity-impact attacker-negotiation"
          ]
         ],
         "hovertemplate": "exploit_type=%{customdata[1]}<br>x=%{x}<br>y=%{y}<br>total_value_extracted_usd=%{marker.size}<br>app=%{customdata[0]}<br>hack_date=%{customdata[2]}<br>tags_str=%{customdata[3]}<extra></extra>",
         "legendgroup": "arbitrary mint",
         "marker": {
          "color": "#00cc96",
          "line": {
           "color": "white",
           "width": 0.5
          },
          "opacity": 0.85,
          "size": {
           "bdata": "AAAAACixUkE=",
           "dtype": "f8"
          },
          "sizemin": 3,
          "sizemode": "area",
          "sizeref": 3590432.5675,
          "symbol": "circle"
         },
         "mode": "markers",
         "name": "arbitrary mint",
         "orientation": "v",
         "showlegend": true,
         "type": "scatter",
         "x": {
          "bdata": "AAAAQCy9CsA=",
          "dtype": "f8"
         },
         "xaxis": "x",
         "y": {
          "bdata": "AAAAANV+I0A=",
          "dtype": "f8"
         },
         "yaxis": "y"
        },
        {
         "customdata": [
          [
           "Shibarium Bridge",
           "Faulty Bridge Implementation",
           "2023-08-16",
           "shibarium-bridge-failure l2-launch-botch user-funds-stuck proxy-contract-recoverable memecoin-defi-risk"
          ]
         ],
         "hovertemplate": "exploit_type=%{customdata[1]}<br>x=%{x}<br>y=%{y}<br>total_value_extracted_usd=%{marker.size}<br>app=%{customdata[0]}<br>hack_date=%{customdata[2]}<br>tags_str=%{customdata[3]}<extra></extra>",
         "legendgroup": "Faulty Bridge Implementation",
         "marker": {
          "color": "#ab63fa",
          "line": {
           "color": "white",
           "width": 0.5
          },
          "opacity": 0.85,
          "size": {
           "bdata": "AAAAACDWQ0E=",
           "dtype": "f8"
          },
          "sizemin": 3,
          "sizemode": "area",
          "sizeref": 3590432.5675,
          "symbol": "circle"
         },
         "mode": "markers",
         "name": "Faulty Bridge Implementation",
         "orientation": "v",
         "showlegend": true,
         "type": "scatter",
         "x": {
          "bdata": "AAAAIG/bB8A=",
          "dtype": "f8"
         },
         "xaxis": "x",
         "y": {
          "bdata": "AAAAIKQRJUA=",
          "dtype": "f8"
         },
         "yaxis": "y"
        },
        {
         "customdata": [
          [
           "SIR Trading",
           "Transient Storage Collision",
           "2024-03-30",
           "transient-storage-exploit uniswap-v3-callback vanity-address-brute-force storage-slot-overwrite defi-leverage-protocol railgun-mixer-use single-audit-failure critical-bug-bounty"
          ]
         ],
         "hovertemplate": "exploit_type=%{customdata[1]}<br>x=%{x}<br>y=%{y}<br>total_value_extracted_usd=%{marker.size}<br>app=%{customdata[0]}<br>hack_date=%{customdata[2]}<br>tags_str=%{customdata[3]}<extra></extra>",
         "legendgroup": "Transient Storage Collision",
         "marker": {
          "color": "#FFA15A",
          "line": {
           "color": "white",
           "width": 0.5
          },
          "opacity": 0.85,
          "size": {
           "bdata": "AAAAAOCqFUE=",
           "dtype": "f8"
          },
          "sizemin": 3,
          "sizemode": "area",
          "sizeref": 3590432.5675,
          "symbol": "circle"
         },
         "mode": "markers",
         "name": "Transient Storage Collision",
         "orientation": "v",
         "showlegend": true,
         "type": "scatter",
         "x": {
          "bdata": "AAAAwHRuDsA=",
          "dtype": "f8"
         },
         "xaxis": "x",
         "y": {
          "bdata": "AAAAQEQPJ0A=",
          "dtype": "f8"
         },
         "yaxis": "y"
        },
        {
         "customdata": [
          [
           "Snowdog",
           "Other",
           "2021-11-25",
           "gamed-buyback insider-trading custom-amm-exploit anon-team rug-pull price-manipulation bot-protection-bypass front-running-exploit meme-coin-scam new-breed-rug-pull"
          ]
         ],
         "hovertemplate": "exploit_type=%{customdata[1]}<br>x=%{x}<br>y=%{y}<br>total_value_extracted_usd=%{marker.size}<br>app=%{customdata[0]}<br>hack_date=%{customdata[2]}<br>tags_str=%{customdata[3]}<extra></extra>",
         "legendgroup": "Other",
         "marker": {
          "color": "#19d3f3",
          "line": {
           "color": "white",
           "width": 0.5
          },
          "opacity": 0.85,
          "size": {
           "bdata": "AAAAAPJCcUE=",
           "dtype": "f8"
          },
          "sizemin": 3,
          "sizemode": "area",
          "sizeref": 3590432.5675,
          "symbol": "circle"
         },
         "mode": "markers",
         "name": "Other",
         "orientation": "v",
         "showlegend": true,
         "type": "scatter",
         "x": {
          "bdata": "AAAAACROEsA=",
          "dtype": "f8"
         },
         "xaxis": "x",
         "y": {
          "bdata": "AAAAoHktIUA=",
          "dtype": "f8"
         },
         "yaxis": "y"
        },
        {
         "customdata": [
          [
           "Sonne Finance",
           "Donation Attack",
           "2023-05-16",
           "flash-loan-attack compound-v2-fork known-vulnerability governance-exploit collateral-factor-manipulation optimism-chain auditor-warning-ignored defi-hack"
          ]
         ],
         "hovertemplate": "exploit_type=%{customdata[1]}<br>x=%{x}<br>y=%{y}<br>total_value_extracted_usd=%{marker.size}<br>app=%{customdata[0]}<br>hack_date=%{customdata[2]}<br>tags_str=%{customdata[3]}<extra></extra>",
         "legendgroup": "Donation Attack",
         "marker": {
          "color": "#FF6692",
          "line": {
           "color": "white",
           "width": 0.5
          },
          "opacity": 0.85,
          "size": {
           "bdata": "AAAAANASc0E=",
           "dtype": "f8"
          },
          "sizemin": 3,
          "sizemode": "area",
          "sizeref": 3590432.5675,
          "symbol": "circle"
         },
         "mode": "markers",
         "name": "Donation Attack",
         "orientation": "v",
         "showlegend": true,
         "type": "scatter",
         "x": {
          "bdata": "AAAAAEj1E8A=",
          "dtype": "f8"
         },
         "xaxis": "x",
         "y": {
          "bdata": "AAAAoGi4J0A=",
          "dtype": "f8"
         },
         "yaxis": "y"
        },
        {
         "customdata": [
          [
           "Spartan Protocol",
           "Liquidity Share Manipulation",
           "2021-05-02",
           "liquidity-share-manipulation flash-loan-attack lp-token-burn defi-exploit asset-balance-inflation amm-vulnerability cross-chain-fund-laundering replicated-protocol-flaw"
          ]
         ],
         "hovertemplate": "exploit_type=%{customdata[1]}<br>x=%{x}<br>y=%{y}<br>total_value_extracted_usd=%{marker.size}<br>app=%{customdata[0]}<br>hack_date=%{customdata[2]}<br>tags_str=%{customdata[3]}<extra></extra>",
         "legendgroup": "Liquidity Share Manipulation",
         "marker": {
          "color": "#B6E880",
          "line": {
           "color": "white",
           "width": 0.5
          },
          "opacity": 0.85,
          "size": {
           "bdata": "AAAAAEoWfUE=",
           "dtype": "f8"
          },
          "sizemin": 3,
          "sizemode": "area",
          "sizeref": 3590432.5675,
          "symbol": "circle"
         },
         "mode": "markers",
         "name": "Liquidity Share Manipulation",
         "orientation": "v",
         "showlegend": true,
         "type": "scatter",
         "x": {
          "bdata": "AAAAQLZlFsA=",
          "dtype": "f8"
         },
         "xaxis": "x",
         "y": {
          "bdata": "AAAAwA89JkA=",
          "dtype": "f8"
         },
         "yaxis": "y"
        },
        {
         "customdata": [
          [
           "Super Sushi Samurai",
           "infinite-mint",
           "2024-03-22",
           "blast-l2-game lp-drain contract-bug double-balance whitehat-claim auditing-failure token-transfer-exploit"
          ]
         ],
         "hovertemplate": "exploit_type=%{customdata[1]}<br>x=%{x}<br>y=%{y}<br>total_value_extracted_usd=%{marker.size}<br>app=%{customdata[0]}<br>hack_date=%{customdata[2]}<br>tags_str=%{customdata[3]}<extra></extra>",
         "legendgroup": "infinite-mint",
         "marker": {
          "color": "#FF97FF",
          "line": {
           "color": "white",
           "width": 0.5
          },
          "opacity": 0.85,
          "size": {
           "bdata": "AAAAAIBPUkE=",
           "dtype": "f8"
          },
          "sizemin": 3,
          "sizemode": "area",
          "sizeref": 3590432.5675,
          "symbol": "circle"
         },
         "mode": "markers",
         "name": "infinite-mint",
         "orientation": "v",
         "showlegend": true,
         "type": "scatter",
         "x": {
          "bdata": "AAAAYCu/C8A=",
          "dtype": "f8"
         },
         "xaxis": "x",
         "y": {
          "bdata": "AAAAQDahJUA=",
          "dtype": "f8"
         },
         "yaxis": "y"
        },
        {
         "customdata": [
          [
           "Steadefi",
           "Compromised Deployer Address",
           "2023-08-07",
           "deployer-address-compromise private-key-theft owner-privilege-abuse arbitrum-avalanche-exploit funds-drained-vaults bounty-negotiation-attempt"
          ]
         ],
         "hovertemplate": "exploit_type=%{customdata[1]}<br>x=%{x}<br>y=%{y}<br>total_value_extracted_usd=%{marker.size}<br>app=%{customdata[0]}<br>hack_date=%{customdata[2]}<br>tags_str=%{customdata[3]}<extra></extra>",
         "legendgroup": "Compromised Deployer Address",
         "marker": {
          "color": "#FECB52",
          "line": {
           "color": "white",
           "width": 0.5
          },
          "opacity": 0.85,
          "size": {
           "bdata": "AAAAACBlMUE=",
           "dtype": "f8"
          },
          "sizemin": 3,
          "sizemode": "area",
          "sizeref": 3590432.5675,
          "symbol": "circle"
         },
         "mode": "markers",
         "name": "Compromised Deployer Address",
         "orientation": "v",
         "showlegend": true,
         "type": "scatter",
         "x": {
          "bdata": "AAAAYFSCCcA=",
          "dtype": "f8"
         },
         "xaxis": "x",
         "y": {
          "bdata": "AAAAgH7WIEA=",
          "dtype": "f8"
         },
         "yaxis": "y"
        },
        {
         "customdata": [
          [
           "Superfluid",
           "Context Forgery",
           "2022-02-08",
           "context-forgery calldata-manipulation agreement-contract-vulnerability arbitrary-sender-impersonation host-contract-trust defi-protocol-hack token-drain post-mortem-analysis"
          ]
         ],
         "hovertemplate": "exploit_type=%{customdata[1]}<br>x=%{x}<br>y=%{y}<br>total_value_extracted_usd=%{marker.size}<br>app=%{customdata[0]}<br>hack_date=%{customdata[2]}<br>tags_str=%{customdata[3]}<extra></extra>",
         "legendgroup": "Context Forgery",
         "marker": {
          "color": "#636efa",
          "line": {
           "color": "white",
           "width": 0.5
          },
          "opacity": 0.85,
          "size": {
           "bdata": "AAAAAAyYYEE=",
           "dtype": "f8"
          },
          "sizemin": 3,
          "sizemode": "area",
          "sizeref": 3590432.5675,
          "symbol": "circle"
         },
         "mode": "markers",
         "name": "Context Forgery",
         "orientation": "v",
         "showlegend": true,
         "type": "scatter",
         "x": {
          "bdata": "AAAA4F60EcA=",
          "dtype": "f8"
         },
         "xaxis": "x",
         "y": {
          "bdata": "AAAAAB5fJEA=",
          "dtype": "f8"
         },
         "yaxis": "y"
        },
        {
         "customdata": [
          [
           "BT Finance, Growth DeFi",
           "price oracle manipulation, fake token deposit",
           "2021-02-15",
           "price-oracle-manipulation fake-token-liquidity missing-if-condition flashloan-attack defi-exploit peckshield-audit-failure multiple-protocols-hacked liquidity-removal copycat-protocol smart-contract-vulnerability"
          ]
         ],
         "hovertemplate": "exploit_type=%{customdata[1]}<br>x=%{x}<br>y=%{y}<br>total_value_extracted_usd=%{marker.size}<br>app=%{customdata[0]}<br>hack_date=%{customdata[2]}<br>tags_str=%{customdata[3]}<extra></extra>",
         "legendgroup": "price oracle manipulation, fake token deposit",
         "marker": {
          "color": "#EF553B",
          "line": {
           "color": "white",
           "width": 0.5
          },
          "opacity": 0.85,
          "size": {
           "bdata": "AAAAACDWM0E=",
           "dtype": "f8"
          },
          "sizemin": 3,
          "sizemode": "area",
          "sizeref": 3590432.5675,
          "symbol": "circle"
         },
         "mode": "markers",
         "name": "price oracle manipulation, fake token deposit",
         "orientation": "v",
         "showlegend": true,
         "type": "scatter",
         "x": {
          "bdata": "AAAAwAsIGMA=",
          "dtype": "f8"
         },
         "xaxis": "x",
         "y": {
          "bdata": "AAAAoD7lJEA=",
          "dtype": "f8"
         },
         "yaxis": "y"
        },
        {
         "customdata": [
          [
           "THORChain",
           "Logic Error/Bridge Manipulation",
           "2021-07-22",
           "cross-chain-exploit bifrost-bridge-vulnerability override-loop-manipulation msg-value-spoofing liquidity-drain-attack code-comment-ignored defi-bridge-hack"
          ]
         ],
         "hovertemplate": "exploit_type=%{customdata[1]}<br>x=%{x}<br>y=%{y}<br>total_value_extracted_usd=%{marker.size}<br>app=%{customdata[0]}<br>hack_date=%{customdata[2]}<br>tags_str=%{customdata[3]}<extra></extra>",
         "legendgroup": "Logic Error/Bridge Manipulation",
         "marker": {
          "color": "#00cc96",
          "line": {
           "color": "white",
           "width": 0.5
          },
          "opacity": 0.85,
          "size": {
           "bdata": "AAAAANASU0E=",
           "dtype": "f8"
          },
          "sizemin": 3,
          "sizemode": "area",
          "sizeref": 3590432.5675,
          "symbol": "circle"
         },
         "mode": "markers",
         "name": "Logic Error/Bridge Manipulation",
         "orientation": "v",
         "showlegend": true,
         "type": "scatter",
         "x": {
          "bdata": "AAAAoG2oD8A=",
          "dtype": "f8"
         },
         "xaxis": "x",
         "y": {
          "bdata": "AAAA4MK6J0A=",
          "dtype": "f8"
         },
         "yaxis": "y"
        },
        {
         "customdata": [
          [
           "THORChain",
           "Lack of proper multi-event handling and tx.origin vulnerability",
           "2021-07-22",
           "bifrost-component-exploit fake-router-creation malicious-memo-injection refund-logic-vulnerability tx-origin-phishing rune-token-drain cross-chain-exploit multiple-vulnerabilities"
          ]
         ],
         "hovertemplate": "exploit_type=%{customdata[1]}<br>x=%{x}<br>y=%{y}<br>total_value_extracted_usd=%{marker.size}<br>app=%{customdata[0]}<br>hack_date=%{customdata[2]}<br>tags_str=%{customdata[3]}<extra></extra>",
         "legendgroup": "Lack of proper multi-event handling and tx.origin vulnerability",
         "marker": {
          "color": "#ab63fa",
          "line": {
           "color": "white",
           "width": 0.5
          },
          "opacity": 0.85,
          "size": {
           "bdata": "AAAAAICEXkE=",
           "dtype": "f8"
          },
          "sizemin": 3,
          "sizemode": "area",
          "sizeref": 3590432.5675,
          "symbol": "circle"
         },
         "mode": "markers",
         "name": "Lack of proper multi-event handling and tx.origin vulnerability",
         "orientation": "v",
         "showlegend": true,
         "type": "scatter",
         "x": {
          "bdata": "AAAAQBPnEMA=",
          "dtype": "f8"
         },
         "xaxis": "x",
         "y": {
          "bdata": "AAAAwKZJJEA=",
          "dtype": "f8"
         },
         "yaxis": "y"
        },
        {
         "customdata": [
          [
           "Value DeFi",
           "Incorrect Bancor Formula Implementation",
           "2021-06-01",
           "bancor-formula-exploit weighted-constant-product improper-power-function liquidity-pool-drain defi-protocol-hack multiple-exploits low-security-standards user-funds-at-risk"
          ]
         ],
         "hovertemplate": "exploit_type=%{customdata[1]}<br>x=%{x}<br>y=%{y}<br>total_value_extracted_usd=%{marker.size}<br>app=%{customdata[0]}<br>hack_date=%{customdata[2]}<br>tags_str=%{customdata[3]}<extra></extra>",
         "legendgroup": "Incorrect Bancor Formula Implementation",
         "marker": {
          "color": "#FFA15A",
          "line": {
           "color": "white",
           "width": 0.5
          },
          "opacity": 0.85,
          "size": {
           "bdata": "AAAAABj7ZEE=",
           "dtype": "f8"
          },
          "sizemin": 3,
          "sizemode": "area",
          "sizeref": 3590432.5675,
          "symbol": "circle"
         },
         "mode": "markers",
         "name": "Incorrect Bancor Formula Implementation",
         "orientation": "v",
         "showlegend": true,
         "type": "scatter",
         "x": {
          "bdata": "AAAAYHH0GMA=",
          "dtype": "f8"
         },
         "xaxis": "x",
         "y": {
          "bdata": "AAAAoChDJ0A=",
          "dtype": "f8"
         },
         "yaxis": "y"
        },
        {
         "customdata": [
          [
           "Velocore",
           "Fee Manipulation",
           "2024-06-02",
           "cpmm-contract-exploit fee-calculation-manipulation liquidity-drain flash-loan-attack underflow-error-vulnerability linea-chain-halt tornado-cash-involvement dex-vulnerability post-audit-exploit bug-bounty-offer"
          ]
         ],
         "hovertemplate": "exploit_type=%{customdata[1]}<br>x=%{x}<br>y=%{y}<br>total_value_extracted_usd=%{marker.size}<br>app=%{customdata[0]}<br>hack_date=%{customdata[2]}<br>tags_str=%{customdata[3]}<extra></extra>",
         "legendgroup": "Fee Manipulation",
         "marker": {
          "color": "#19d3f3",
          "line": {
           "color": "white",
           "width": 0.5
          },
          "opacity": 0.85,
          "size": {
           "bdata": "AAAAAKDwWUE=",
           "dtype": "f8"
          },
          "sizemin": 3,
          "sizemode": "area",
          "sizeref": 3590432.5675,
          "symbol": "circle"
         },
         "mode": "markers",
         "name": "Fee Manipulation",
         "orientation": "v",
         "showlegend": true,
         "type": "scatter",
         "x": {
          "bdata": "AAAAgDzbF8A=",
          "dtype": "f8"
         },
         "xaxis": "x",
         "y": {
          "bdata": "AAAAwL+SIkA=",
          "dtype": "f8"
         },
         "yaxis": "y"
        },
        {
         "customdata": [
          [
           "WazirX",
           "Multisig Compromise",
           "2024-07-18",
           "multisig-compromise safe-wallet-breach signature-phishing privileged-contract-upgrade custody-provider-vulnerability centralized-exchange-hack tornado-cash-laundering state-sponsored-attack-suspect"
          ]
         ],
         "hovertemplate": "exploit_type=%{customdata[1]}<br>x=%{x}<br>y=%{y}<br>total_value_extracted_usd=%{marker.size}<br>app=%{customdata[0]}<br>hack_date=%{customdata[2]}<br>tags_str=%{customdata[3]}<extra></extra>",
         "legendgroup": "Multisig Compromise",
         "marker": {
          "color": "#FF6692",
          "line": {
           "color": "white",
           "width": 0.5
          },
          "opacity": 0.85,
          "size": {
           "bdata": "AAAAgKEDrEE=",
           "dtype": "f8"
          },
          "sizemin": 3,
          "sizemode": "area",
          "sizeref": 3590432.5675,
          "symbol": "circle"
         },
         "mode": "markers",
         "name": "Multisig Compromise",
         "orientation": "v",
         "showlegend": true,
         "type": "scatter",
         "x": {
          "bdata": "AAAAIALyA8A=",
          "dtype": "f8"
         },
         "xaxis": "x",
         "y": {
          "bdata": "AAAAoJ/JH0A=",
          "dtype": "f8"
         },
         "yaxis": "y"
        },
        {
         "customdata": [
          [
           "MakerDAO (Maker Vault)",
           "Phishing",
           "2024-08-20",
           "phishing-attack maker-vault-compromise eoa-compromise dsproxy-takeover whale-exploit social-engineering defi-security-breach asset-laundering"
          ]
         ],
         "hovertemplate": "exploit_type=%{customdata[1]}<br>x=%{x}<br>y=%{y}<br>total_value_extracted_usd=%{marker.size}<br>app=%{customdata[0]}<br>hack_date=%{customdata[2]}<br>tags_str=%{customdata[3]}<extra></extra>",
         "legendgroup": "Phishing",
         "marker": {
          "color": "#B6E880",
          "line": {
           "color": "white",
           "width": 0.5
          },
          "opacity": 0.85,
          "size": {
           "bdata": "AAAAgD1zikE=",
           "dtype": "f8"
          },
          "sizemin": 3,
          "sizemode": "area",
          "sizeref": 3590432.5675,
          "symbol": "circle"
         },
         "mode": "markers",
         "name": "Phishing",
         "orientation": "v",
         "showlegend": true,
         "type": "scatter",
         "x": {
          "bdata": "AAAAQEASB8A=",
          "dtype": "f8"
         },
         "xaxis": "x",
         "y": {
          "bdata": "AAAAYAQ9HkA=",
          "dtype": "f8"
         },
         "yaxis": "y"
        },
        {
         "customdata": [
          [
           "Woofi",
           "price-oracle-manipulation",
           "2024-03-05",
           "flash-loan-attack oracle-manipulation price-oracle-exploit arbitrum-exploit woo-token-price-manipulation spmm-system-vulnerability cross-chain-risk defi-hack"
          ]
         ],
         "hovertemplate": "exploit_type=%{customdata[1]}<br>x=%{x}<br>y=%{y}<br>total_value_extracted_usd=%{marker.size}<br>app=%{customdata[0]}<br>hack_date=%{customdata[2]}<br>tags_str=%{customdata[3]}<extra></extra>",
         "legendgroup": "price-oracle-manipulation",
         "marker": {
          "color": "#FF97FF",
          "line": {
           "color": "white",
           "width": 0.5
          },
          "opacity": 0.85,
          "size": {
           "bdata": "AAAAAP1DlEE=",
           "dtype": "f8"
          },
          "sizemin": 3,
          "sizemode": "area",
          "sizeref": 3590432.5675,
          "symbol": "circle"
         },
         "mode": "markers",
         "name": "price-oracle-manipulation",
         "orientation": "v",
         "showlegend": true,
         "type": "scatter",
         "x": {
          "bdata": "AAAAgGt+GcA=",
          "dtype": "f8"
         },
         "xaxis": "x",
         "y": {
          "bdata": "AAAAICEFJ0A=",
          "dtype": "f8"
         },
         "yaxis": "y"
        },
        {
         "customdata": [
          [
           "Wormhole Bridge",
           "Signature Verification Bypass",
           "2022-02-02",
           "cross-chain-exploit signature-spoofing wrapped-eth-minting solana-bridge-hack vaa-verification-bypass secp256k1-discrepancy guardian-bypass token-minting-exploit solana-ecosystem-attack defi-bridge-vulnerability"
          ]
         ],
         "hovertemplate": "exploit_type=%{customdata[1]}<br>x=%{x}<br>y=%{y}<br>total_value_extracted_usd=%{marker.size}<br>app=%{customdata[0]}<br>hack_date=%{customdata[2]}<br>tags_str=%{customdata[3]}<extra></extra>",
         "legendgroup": "Signature Verification Bypass",
         "marker": {
          "color": "#FECB52",
          "line": {
           "color": "white",
           "width": 0.5
          },
          "opacity": 0.85,
          "size": {
           "bdata": "AAAAgF1us0E=",
           "dtype": "f8"
          },
          "sizemin": 3,
          "sizemode": "area",
          "sizeref": 3590432.5675,
          "symbol": "circle"
         },
         "mode": "markers",
         "name": "Signature Verification Bypass",
         "orientation": "v",
         "showlegend": true,
         "type": "scatter",
         "x": {
          "bdata": "AAAAIHuRBsA=",
          "dtype": "f8"
         },
         "xaxis": "x",
         "y": {
          "bdata": "AAAAgCUqJEA=",
          "dtype": "f8"
         },
         "yaxis": "y"
        },
        {
         "customdata": [
          [
           "ZKasino",
           "exit scam",
           "2024-04-20",
           "rugpull-exit-scam eth-conversion-theft misleading-marketing founder-shady-past unpaid-employees canceled-ido user-funds-staked arbitrum-nitro-chain"
          ]
         ],
         "hovertemplate": "exploit_type=%{customdata[1]}<br>x=%{x}<br>y=%{y}<br>total_value_extracted_usd=%{marker.size}<br>app=%{customdata[0]}<br>hack_date=%{customdata[2]}<br>tags_str=%{customdata[3]}<extra></extra>",
         "legendgroup": "exit scam",
         "marker": {
          "color": "#636efa",
          "line": {
           "color": "white",
           "width": 0.5
          },
          "opacity": 0.85,
          "size": {
           "bdata": "AAAAAKR4f0E=",
           "dtype": "f8"
          },
          "sizemin": 3,
          "sizemode": "area",
          "sizeref": 3590432.5675,
          "symbol": "circle"
         },
         "mode": "markers",
         "name": "exit scam",
         "orientation": "v",
         "showlegend": true,
         "type": "scatter",
         "x": {
          "bdata": "AAAAAPwIEsA=",
          "dtype": "f8"
         },
         "xaxis": "x",
         "y": {
          "bdata": "AAAAYFqIH0A=",
          "dtype": "f8"
         },
         "yaxis": "y"
        },
        {
         "customdata": [
          [
           "zkLend",
           "Precision Loss",
           "2024-02-11",
           "rounding-error mathematical-manipulation lending-accumulator-exploit starknet-defi-hack flashloan-attack era-lend-exploiter privacy-mixer-rejection audit-bypass"
          ]
         ],
         "hovertemplate": "exploit_type=%{customdata[1]}<br>x=%{x}<br>y=%{y}<br>total_value_extracted_usd=%{marker.size}<br>app=%{customdata[0]}<br>hack_date=%{customdata[2]}<br>tags_str=%{customdata[3]}<extra></extra>",
         "legendgroup": "Precision Loss",
         "marker": {
          "color": "#EF553B",
          "line": {
           "color": "white",
           "width": 0.5
          },
          "opacity": 0.85,
          "size": {
           "bdata": "AAAAANpAYkE=",
           "dtype": "f8"
          },
          "sizemin": 3,
          "sizemode": "area",
          "sizeref": 3590432.5675,
          "symbol": "circle"
         },
         "mode": "markers",
         "name": "Precision Loss",
         "orientation": "v",
         "showlegend": true,
         "type": "scatter",
         "x": {
          "bdata": "AAAAwAllFsA=",
          "dtype": "f8"
         },
         "xaxis": "x",
         "y": {
          "bdata": "AAAAIDxTJ0A=",
          "dtype": "f8"
         },
         "yaxis": "y"
        },
        {
         "customdata": [
          [
           "BetterBank",
           "LP Manipulation / Infinite Minting",
           "2024-05-20",
           "lp-manipulation infinite-minting-exploit bonus-minting-abuse auditor-warning-ignored pulsechain-protocol-drain tornado-cash-funded custom-exploit-contracts partial-asset-return"
          ]
         ],
         "hovertemplate": "exploit_type=%{customdata[1]}<br>x=%{x}<br>y=%{y}<br>total_value_extracted_usd=%{marker.size}<br>app=%{customdata[0]}<br>hack_date=%{customdata[2]}<br>tags_str=%{customdata[3]}<extra></extra>",
         "legendgroup": "LP Manipulation / Infinite Minting",
         "marker": {
          "color": "#00cc96",
          "line": {
           "color": "white",
           "width": 0.5
          },
          "opacity": 0.85,
          "size": {
           "bdata": "AAAAAAAA8D8=",
           "dtype": "f8"
          },
          "sizemin": 3,
          "sizemode": "area",
          "sizeref": 3590432.5675,
          "symbol": "circle"
         },
         "mode": "markers",
         "name": "LP Manipulation / Infinite Minting",
         "orientation": "v",
         "showlegend": true,
         "type": "scatter",
         "x": {
          "bdata": "AAAAIFYvGsA=",
          "dtype": "f8"
         },
         "xaxis": "x",
         "y": {
          "bdata": "AAAAIIohJEA=",
          "dtype": "f8"
         },
         "yaxis": "y"
        },
        {
         "customdata": [
          [
           "CoinDCX",
           "Server Breach",
           "2024-07-18",
           "sophisticated-server-breach cross-chain-fund-laundering exchange-wallet-drain delayed-transparency-disclosure blockchain-detective-exposure premeditated-attack-preparation bounty-recovery-initiative untagged-wallet-exploit"
          ]
         ],
         "hovertemplate": "exploit_type=%{customdata[1]}<br>x=%{x}<br>y=%{y}<br>total_value_extracted_usd=%{marker.size}<br>app=%{customdata[0]}<br>hack_date=%{customdata[2]}<br>tags_str=%{customdata[3]}<extra></extra>",
         "legendgroup": "Server Breach",
         "marker": {
          "color": "#ab63fa",
          "line": {
           "color": "white",
           "width": 0.5
          },
          "opacity": 0.85,
          "size": {
           "bdata": "AAAAAAAA8D8=",
           "dtype": "f8"
          },
          "sizemin": 3,
          "sizemode": "area",
          "sizeref": 3590432.5675,
          "symbol": "circle"
         },
         "mode": "markers",
         "name": "Server Breach",
         "orientation": "v",
         "showlegend": true,
         "type": "scatter",
         "x": {
          "bdata": "AAAAwFH66r8=",
          "dtype": "f8"
         },
         "xaxis": "x",
         "y": {
          "bdata": "AAAA4B41H0A=",
          "dtype": "f8"
         },
         "yaxis": "y"
        },
        {
         "customdata": [
          [
           "Odin.fun",
           "Liquidity Manipulation",
           "2023-08-12",
           "amm-price-manipulation worthless-token-pump liquidity-pool-drain internal-math-exploit sleeper-cell-attack coordinated-attack-pattern repeated-security-failures inadequate-compensation-plan lack-security-audits founder-blame-deflection"
          ]
         ],
         "hovertemplate": "exploit_type=%{customdata[1]}<br>x=%{x}<br>y=%{y}<br>total_value_extracted_usd=%{marker.size}<br>app=%{customdata[0]}<br>hack_date=%{customdata[2]}<br>tags_str=%{customdata[3]}<extra></extra>",
         "legendgroup": "Liquidity Manipulation",
         "marker": {
          "color": "#FFA15A",
          "line": {
           "color": "white",
           "width": 0.5
          },
          "opacity": 0.85,
          "size": {
           "bdata": "AAAAAAAA8D8=",
           "dtype": "f8"
          },
          "sizemin": 3,
          "sizemode": "area",
          "sizeref": 3590432.5675,
          "symbol": "circle"
         },
         "mode": "markers",
         "name": "Liquidity Manipulation",
         "orientation": "v",
         "showlegend": true,
         "type": "scatter",
         "x": {
          "bdata": "AAAAAOXpEcA=",
          "dtype": "f8"
         },
         "xaxis": "x",
         "y": {
          "bdata": "AAAA4Iz4IkA=",
          "dtype": "f8"
         },
         "yaxis": "y"
        },
        {
         "customdata": [
          [
           "ResupplyFi",
           "ERC4626 Donation Attack",
           "2024-06-25",
           "erc4626-donation-attack empty-vault-exploit exchange-rate-manipulation low-liquidity-market price-oracle-rounding-bug protocol-economic-exploit unprotected-vault-deployment smart-contract-vulnerability"
          ]
         ],
         "hovertemplate": "exploit_type=%{customdata[1]}<br>x=%{x}<br>y=%{y}<br>total_value_extracted_usd=%{marker.size}<br>app=%{customdata[0]}<br>hack_date=%{customdata[2]}<br>tags_str=%{customdata[3]}<extra></extra>",
         "legendgroup": "ERC4626 Donation Attack",
         "marker": {
          "color": "#19d3f3",
          "line": {
           "color": "white",
           "width": 0.5
          },
          "opacity": 0.85,
          "size": {
           "bdata": "AAAAAAAA8D8=",
           "dtype": "f8"
          },
          "sizemin": 3,
          "sizemode": "area",
          "sizeref": 3590432.5675,
          "symbol": "circle"
         },
         "mode": "markers",
         "name": "ERC4626 Donation Attack",
         "orientation": "v",
         "showlegend": true,
         "type": "scatter",
         "x": {
          "bdata": "AAAAwE6TGMA=",
          "dtype": "f8"
         },
         "xaxis": "x",
         "y": {
          "bdata": "AAAAwIAOJUA=",
          "dtype": "f8"
         },
         "yaxis": "y"
        },
        {
         "customdata": [
          [
           "LuBian Mining Pool",
           "Weak Cryptographic Key Generation",
           "2020-12-28",
           "weak-entropy-exploit bitcoin-private-key mining-pool-hack brute-force-attack undetected-theft long-term-dormant poor-security-practice supply-chain-risk"
          ]
         ],
         "hovertemplate": "exploit_type=%{customdata[1]}<br>x=%{x}<br>y=%{y}<br>total_value_extracted_usd=%{marker.size}<br>app=%{customdata[0]}<br>hack_date=%{customdata[2]}<br>tags_str=%{customdata[3]}<extra></extra>",
         "legendgroup": "Weak Cryptographic Key Generation",
         "marker": {
          "color": "#FF6692",
          "line": {
           "color": "white",
           "width": 0.5
          },
          "opacity": 0.85,
          "size": {
           "bdata": "AAAAAAAA8D8=",
           "dtype": "f8"
          },
          "sizemin": 3,
          "sizemode": "area",
          "sizeref": 3590432.5675,
          "symbol": "circle"
         },
         "mode": "markers",
         "name": "Weak Cryptographic Key Generation",
         "orientation": "v",
         "showlegend": true,
         "type": "scatter",
         "x": {
          "bdata": "AAAAoPklAsA=",
          "dtype": "f8"
         },
         "xaxis": "x",
         "y": {
          "bdata": "AAAAQHYmHkA=",
          "dtype": "f8"
         },
         "yaxis": "y"
        }
       ],
       "layout": {
        "height": 900,
        "legend": {
         "itemsizing": "constant",
         "title": {
          "text": "Attack Vector"
         },
         "tracegroupgap": 0
        },
        "margin": {
         "b": 40,
         "l": 40,
         "r": 40,
         "t": 60
        },
        "template": {
         "data": {
          "bar": [
           {
            "error_x": {
             "color": "#2a3f5f"
            },
            "error_y": {
             "color": "#2a3f5f"
            },
            "marker": {
             "line": {
              "color": "#E5ECF6",
              "width": 0.5
             },
             "pattern": {
              "fillmode": "overlay",
              "size": 10,
              "solidity": 0.2
             }
            },
            "type": "bar"
           }
          ],
          "barpolar": [
           {
            "marker": {
             "line": {
              "color": "#E5ECF6",
              "width": 0.5
             },
             "pattern": {
              "fillmode": "overlay",
              "size": 10,
              "solidity": 0.2
             }
            },
            "type": "barpolar"
           }
          ],
          "carpet": [
           {
            "aaxis": {
             "endlinecolor": "#2a3f5f",
             "gridcolor": "white",
             "linecolor": "white",
             "minorgridcolor": "white",
             "startlinecolor": "#2a3f5f"
            },
            "baxis": {
             "endlinecolor": "#2a3f5f",
             "gridcolor": "white",
             "linecolor": "white",
             "minorgridcolor": "white",
             "startlinecolor": "#2a3f5f"
            },
            "type": "carpet"
           }
          ],
          "choropleth": [
           {
            "colorbar": {
             "outlinewidth": 0,
             "ticks": ""
            },
            "type": "choropleth"
           }
          ],
          "contour": [
           {
            "colorbar": {
             "outlinewidth": 0,
             "ticks": ""
            },
            "colorscale": [
             [
              0,
              "#0d0887"
             ],
             [
              0.1111111111111111,
              "#46039f"
             ],
             [
              0.2222222222222222,
              "#7201a8"
             ],
             [
              0.3333333333333333,
              "#9c179e"
             ],
             [
              0.4444444444444444,
              "#bd3786"
             ],
             [
              0.5555555555555556,
              "#d8576b"
             ],
             [
              0.6666666666666666,
              "#ed7953"
             ],
             [
              0.7777777777777778,
              "#fb9f3a"
             ],
             [
              0.8888888888888888,
              "#fdca26"
             ],
             [
              1,
              "#f0f921"
             ]
            ],
            "type": "contour"
           }
          ],
          "contourcarpet": [
           {
            "colorbar": {
             "outlinewidth": 0,
             "ticks": ""
            },
            "type": "contourcarpet"
           }
          ],
          "heatmap": [
           {
            "colorbar": {
             "outlinewidth": 0,
             "ticks": ""
            },
            "colorscale": [
             [
              0,
              "#0d0887"
             ],
             [
              0.1111111111111111,
              "#46039f"
             ],
             [
              0.2222222222222222,
              "#7201a8"
             ],
             [
              0.3333333333333333,
              "#9c179e"
             ],
             [
              0.4444444444444444,
              "#bd3786"
             ],
             [
              0.5555555555555556,
              "#d8576b"
             ],
             [
              0.6666666666666666,
              "#ed7953"
             ],
             [
              0.7777777777777778,
              "#fb9f3a"
             ],
             [
              0.8888888888888888,
              "#fdca26"
             ],
             [
              1,
              "#f0f921"
             ]
            ],
            "type": "heatmap"
           }
          ],
          "histogram": [
           {
            "marker": {
             "pattern": {
              "fillmode": "overlay",
              "size": 10,
              "solidity": 0.2
             }
            },
            "type": "histogram"
           }
          ],
          "histogram2d": [
           {
            "colorbar": {
             "outlinewidth": 0,
             "ticks": ""
            },
            "colorscale": [
             [
              0,
              "#0d0887"
             ],
             [
              0.1111111111111111,
              "#46039f"
             ],
             [
              0.2222222222222222,
              "#7201a8"
             ],
             [
              0.3333333333333333,
              "#9c179e"
             ],
             [
              0.4444444444444444,
              "#bd3786"
             ],
             [
              0.5555555555555556,
              "#d8576b"
             ],
             [
              0.6666666666666666,
              "#ed7953"
             ],
             [
              0.7777777777777778,
              "#fb9f3a"
             ],
             [
              0.8888888888888888,
              "#fdca26"
             ],
             [
              1,
              "#f0f921"
             ]
            ],
            "type": "histogram2d"
           }
          ],
          "histogram2dcontour": [
           {
            "colorbar": {
             "outlinewidth": 0,
             "ticks": ""
            },
            "colorscale": [
             [
              0,
              "#0d0887"
             ],
             [
              0.1111111111111111,
              "#46039f"
             ],
             [
              0.2222222222222222,
              "#7201a8"
             ],
             [
              0.3333333333333333,
              "#9c179e"
             ],
             [
              0.4444444444444444,
              "#bd3786"
             ],
             [
              0.5555555555555556,
              "#d8576b"
             ],
             [
              0.6666666666666666,
              "#ed7953"
             ],
             [
              0.7777777777777778,
              "#fb9f3a"
             ],
             [
              0.8888888888888888,
              "#fdca26"
             ],
             [
              1,
              "#f0f921"
             ]
            ],
            "type": "histogram2dcontour"
           }
          ],
          "mesh3d": [
           {
            "colorbar": {
             "outlinewidth": 0,
             "ticks": ""
            },
            "type": "mesh3d"
           }
          ],
          "parcoords": [
           {
            "line": {
             "colorbar": {
              "outlinewidth": 0,
              "ticks": ""
             }
            },
            "type": "parcoords"
           }
          ],
          "pie": [
           {
            "automargin": true,
            "type": "pie"
           }
          ],
          "scatter": [
           {
            "fillpattern": {
             "fillmode": "overlay",
             "size": 10,
             "solidity": 0.2
            },
            "type": "scatter"
           }
          ],
          "scatter3d": [
           {
            "line": {
             "colorbar": {
              "outlinewidth": 0,
              "ticks": ""
             }
            },
            "marker": {
             "colorbar": {
              "outlinewidth": 0,
              "ticks": ""
             }
            },
            "type": "scatter3d"
           }
          ],
          "scattercarpet": [
           {
            "marker": {
             "colorbar": {
              "outlinewidth": 0,
              "ticks": ""
             }
            },
            "type": "scattercarpet"
           }
          ],
          "scattergeo": [
           {
            "marker": {
             "colorbar": {
              "outlinewidth": 0,
              "ticks": ""
             }
            },
            "type": "scattergeo"
           }
          ],
          "scattergl": [
           {
            "marker": {
             "colorbar": {
              "outlinewidth": 0,
              "ticks": ""
             }
            },
            "type": "scattergl"
           }
          ],
          "scattermap": [
           {
            "marker": {
             "colorbar": {
              "outlinewidth": 0,
              "ticks": ""
             }
            },
            "type": "scattermap"
           }
          ],
          "scattermapbox": [
           {
            "marker": {
             "colorbar": {
              "outlinewidth": 0,
              "ticks": ""
             }
            },
            "type": "scattermapbox"
           }
          ],
          "scatterpolar": [
           {
            "marker": {
             "colorbar": {
              "outlinewidth": 0,
              "ticks": ""
             }
            },
            "type": "scatterpolar"
           }
          ],
          "scatterpolargl": [
           {
            "marker": {
             "colorbar": {
              "outlinewidth": 0,
              "ticks": ""
             }
            },
            "type": "scatterpolargl"
           }
          ],
          "scatterternary": [
           {
            "marker": {
             "colorbar": {
              "outlinewidth": 0,
              "ticks": ""
             }
            },
            "type": "scatterternary"
           }
          ],
          "surface": [
           {
            "colorbar": {
             "outlinewidth": 0,
             "ticks": ""
            },
            "colorscale": [
             [
              0,
              "#0d0887"
             ],
             [
              0.1111111111111111,
              "#46039f"
             ],
             [
              0.2222222222222222,
              "#7201a8"
             ],
             [
              0.3333333333333333,
              "#9c179e"
             ],
             [
              0.4444444444444444,
              "#bd3786"
             ],
             [
              0.5555555555555556,
              "#d8576b"
             ],
             [
              0.6666666666666666,
              "#ed7953"
             ],
             [
              0.7777777777777778,
              "#fb9f3a"
             ],
             [
              0.8888888888888888,
              "#fdca26"
             ],
             [
              1,
              "#f0f921"
             ]
            ],
            "type": "surface"
           }
          ],
          "table": [
           {
            "cells": {
             "fill": {
              "color": "#EBF0F8"
             },
             "line": {
              "color": "white"
             }
            },
            "header": {
             "fill": {
              "color": "#C8D4E3"
             },
             "line": {
              "color": "white"
             }
            },
            "type": "table"
           }
          ]
         },
         "layout": {
          "annotationdefaults": {
           "arrowcolor": "#2a3f5f",
           "arrowhead": 0,
           "arrowwidth": 1
          },
          "autotypenumbers": "strict",
          "coloraxis": {
           "colorbar": {
            "outlinewidth": 0,
            "ticks": ""
           }
          },
          "colorscale": {
           "diverging": [
            [
             0,
             "#8e0152"
            ],
            [
             0.1,
             "#c51b7d"
            ],
            [
             0.2,
             "#de77ae"
            ],
            [
             0.3,
             "#f1b6da"
            ],
            [
             0.4,
             "#fde0ef"
            ],
            [
             0.5,
             "#f7f7f7"
            ],
            [
             0.6,
             "#e6f5d0"
            ],
            [
             0.7,
             "#b8e186"
            ],
            [
             0.8,
             "#7fbc41"
            ],
            [
             0.9,
             "#4d9221"
            ],
            [
             1,
             "#276419"
            ]
           ],
           "sequential": [
            [
             0,
             "#0d0887"
            ],
            [
             0.1111111111111111,
             "#46039f"
            ],
            [
             0.2222222222222222,
             "#7201a8"
            ],
            [
             0.3333333333333333,
             "#9c179e"
            ],
            [
             0.4444444444444444,
             "#bd3786"
            ],
            [
             0.5555555555555556,
             "#d8576b"
            ],
            [
             0.6666666666666666,
             "#ed7953"
            ],
            [
             0.7777777777777778,
             "#fb9f3a"
            ],
            [
             0.8888888888888888,
             "#fdca26"
            ],
            [
             1,
             "#f0f921"
            ]
           ],
           "sequentialminus": [
            [
             0,
             "#0d0887"
            ],
            [
             0.1111111111111111,
             "#46039f"
            ],
            [
             0.2222222222222222,
             "#7201a8"
            ],
            [
             0.3333333333333333,
             "#9c179e"
            ],
            [
             0.4444444444444444,
             "#bd3786"
            ],
            [
             0.5555555555555556,
             "#d8576b"
            ],
            [
             0.6666666666666666,
             "#ed7953"
            ],
            [
             0.7777777777777778,
             "#fb9f3a"
            ],
            [
             0.8888888888888888,
             "#fdca26"
            ],
            [
             1,
             "#f0f921"
            ]
           ]
          },
          "colorway": [
           "#636efa",
           "#EF553B",
           "#00cc96",
           "#ab63fa",
           "#FFA15A",
           "#19d3f3",
           "#FF6692",
           "#B6E880",
           "#FF97FF",
           "#FECB52"
          ],
          "font": {
           "color": "#2a3f5f"
          },
          "geo": {
           "bgcolor": "white",
           "lakecolor": "white",
           "landcolor": "#E5ECF6",
           "showlakes": true,
           "showland": true,
           "subunitcolor": "white"
          },
          "hoverlabel": {
           "align": "left"
          },
          "hovermode": "closest",
          "mapbox": {
           "style": "light"
          },
          "paper_bgcolor": "white",
          "plot_bgcolor": "#E5ECF6",
          "polar": {
           "angularaxis": {
            "gridcolor": "white",
            "linecolor": "white",
            "ticks": ""
           },
           "bgcolor": "#E5ECF6",
           "radialaxis": {
            "gridcolor": "white",
            "linecolor": "white",
            "ticks": ""
           }
          },
          "scene": {
           "xaxis": {
            "backgroundcolor": "#E5ECF6",
            "gridcolor": "white",
            "gridwidth": 2,
            "linecolor": "white",
            "showbackground": true,
            "ticks": "",
            "zerolinecolor": "white"
           },
           "yaxis": {
            "backgroundcolor": "#E5ECF6",
            "gridcolor": "white",
            "gridwidth": 2,
            "linecolor": "white",
            "showbackground": true,
            "ticks": "",
            "zerolinecolor": "white"
           },
           "zaxis": {
            "backgroundcolor": "#E5ECF6",
            "gridcolor": "white",
            "gridwidth": 2,
            "linecolor": "white",
            "showbackground": true,
            "ticks": "",
            "zerolinecolor": "white"
           }
          },
          "shapedefaults": {
           "line": {
            "color": "#2a3f5f"
           }
          },
          "ternary": {
           "aaxis": {
            "gridcolor": "white",
            "linecolor": "white",
            "ticks": ""
           },
           "baxis": {
            "gridcolor": "white",
            "linecolor": "white",
            "ticks": ""
           },
           "bgcolor": "#E5ECF6",
           "caxis": {
            "gridcolor": "white",
            "linecolor": "white",
            "ticks": ""
           }
          },
          "title": {
           "x": 0.05
          },
          "xaxis": {
           "automargin": true,
           "gridcolor": "white",
           "linecolor": "white",
           "ticks": "",
           "title": {
            "standoff": 15
           },
           "zerolinecolor": "white",
           "zerolinewidth": 2
          },
          "yaxis": {
           "automargin": true,
           "gridcolor": "white",
           "linecolor": "white",
           "ticks": "",
           "title": {
            "standoff": 15
           },
           "zerolinecolor": "white",
           "zerolinewidth": 2
          }
         }
        },
        "title": {
         "text": "Global Hacking Landscape – App Embedding Projection (UMAP)"
        },
        "width": 1400,
        "xaxis": {
         "anchor": "y",
         "domain": [
          0,
          1
         ],
         "title": {
          "text": "Dimension 1"
         }
        },
        "yaxis": {
         "anchor": "x",
         "domain": [
          0,
          1
         ],
         "title": {
          "text": "Dimension 2"
         }
        }
       }
      }
     },
     "metadata": {},
     "output_type": "display_data"
    }
   ],
   "source": [
    "# Build DataFrame for Plotly\n",
    "df_plot[[\"x\", \"y\"]] = pd.DataFrame(df_plot[\"umap\"].tolist(), index=df_plot.index)\n",
    "df_plot[\"app\"] = df_plot[\"hacked_app_name\"]\n",
    "\n",
    "# --- Data cleaning for plotting ---\n",
    "# Ensure 'total_value_extracted_usd' is numeric for sizing. Replace errors/missing values with 0.\n",
    "df_plot[\"total_value_extracted_usd\"] = pd.to_numeric(\n",
    "    df_plot[\"total_value_extracted_usd\"], errors=\"coerce\"\n",
    ").fillna(1)\n",
    "# Fill missing 'exploit_type' to avoid errors in coloring\n",
    "df_plot[\"exploit_type\"] = df_plot[\"exploit_type\"].fillna(\"Unknown\")\n",
    "\n",
    "\n",
    "# Interactive scatter plot\n",
    "fig = px.scatter(\n",
    "    df_plot,\n",
    "    x=\"x\",\n",
    "    y=\"y\",\n",
    "    color=\"exploit_type\",\n",
    "    size=\"total_value_extracted_usd\",\n",
    "    hover_data=[\"app\", \"exploit_type\", \"hack_date\", \"tags_str\"],\n",
    "    title=\"Global Hacking Landscape – App Embedding Projection (UMAP)\",\n",
    "    width=1400,\n",
    "    height=900,\n",
    ")\n",
    "\n",
    "fig.update_traces(\n",
    "    marker=dict(sizemin=3, opacity=0.85, line=dict(width=0.5, color=\"white\"))\n",
    ")\n",
    "fig.update_layout(\n",
    "    legend_title=\"Attack Vector\",\n",
    "    xaxis_title=\"Dimension 1\",\n",
    "    yaxis_title=\"Dimension 2\",\n",
    "    margin=dict(l=40, r=40, t=60, b=40),\n",
    ")\n",
    "fig.write_html(\"../dashboard/hacking_landscape.html\", include_plotlyjs=\"cdn\")\n",
    "fig.show()"
   ]
  }
 ],
 "metadata": {
  "kernelspec": {
   "display_name": ".venv",
   "language": "python",
   "name": "python3"
  },
  "language_info": {
   "codemirror_mode": {
    "name": "ipython",
    "version": 3
   },
   "file_extension": ".py",
   "mimetype": "text/x-python",
   "name": "python",
   "nbconvert_exporter": "python",
   "pygments_lexer": "ipython3",
   "version": "3.13.5"
  }
 },
 "nbformat": 4,
 "nbformat_minor": 5
}
